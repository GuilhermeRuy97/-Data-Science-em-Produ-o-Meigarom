{
  "nbformat": 4,
  "nbformat_minor": 0,
  "metadata": {
    "colab": {
      "name": "data_science_em_producao.ipynb",
      "provenance": [],
      "authorship_tag": "ABX9TyMiSVLKaceY/leJjdFZIDi0",
      "include_colab_link": true
    },
    "kernelspec": {
      "name": "python3",
      "display_name": "Python 3"
    }
  },
  "cells": [
    {
      "cell_type": "markdown",
      "metadata": {
        "id": "view-in-github",
        "colab_type": "text"
      },
      "source": [
        "<a href=\"https://colab.research.google.com/github/GuilhermeRuy97/Data-Science-em-Producao-Meigarom/blob/main/data_science_em_producao.ipynb\" target=\"_parent\"><img src=\"https://colab.research.google.com/assets/colab-badge.svg\" alt=\"Open In Colab\"/></a>"
      ]
    },
    {
      "cell_type": "markdown",
      "metadata": {
        "id": "DHOt5tw2Mzhh"
      },
      "source": [
        "#Modulo 02 Video 01\r\n",
        "-Store Sales Prediction\r\n"
      ]
    },
    {
      "cell_type": "markdown",
      "metadata": {
        "id": "m9yA3BdTW6Dq"
      },
      "source": [
        "## 0.0 IMPORTS"
      ]
    },
    {
      "cell_type": "code",
      "metadata": {
        "id": "MR5X18iZj_6U"
      },
      "source": [
        "#!pip install inflection"
      ],
      "execution_count": 107,
      "outputs": []
    },
    {
      "cell_type": "code",
      "metadata": {
        "id": "AcqppZm5Ys1X"
      },
      "source": [
        "import pandas as pd\r\n",
        "import inflection\r\n",
        "import math\r\n",
        "import numpy as np\r\n",
        "import seaborn as sns\r\n",
        "import matplotlib.pyplot as plt"
      ],
      "execution_count": 134,
      "outputs": []
    },
    {
      "cell_type": "markdown",
      "metadata": {
        "id": "EK9ejN3ZYCmg"
      },
      "source": [
        "### 0.1 Helper Functions"
      ]
    },
    {
      "cell_type": "markdown",
      "metadata": {
        "id": "4_rirL9JYEx8"
      },
      "source": [
        "### 0.2 Loading Data"
      ]
    },
    {
      "cell_type": "code",
      "metadata": {
        "id": "DQeaFj4ZYfV6"
      },
      "source": [
        "df_sales_raw = pd.read_csv( 'train.csv', low_memory = False)\r\n",
        "df_store_raw = pd.read_csv( 'store.csv', low_memory = False)\r\n",
        "\r\n",
        "#Fazendo um merge dos arquivos guardando em \"store\"\r\n",
        "\r\n",
        "df_raw = pd.merge( df_sales_raw, df_store_raw, how = 'left', on = 'Store' )"
      ],
      "execution_count": 109,
      "outputs": []
    },
    {
      "cell_type": "code",
      "metadata": {
        "colab": {
          "base_uri": "https://localhost:8080/",
          "height": 0
        },
        "id": "42AAwWAIikre",
        "outputId": "912bf927-a6df-4eb5-a3e2-01569dc85a69"
      },
      "source": [
        "df_raw.sample()"
      ],
      "execution_count": 110,
      "outputs": [
        {
          "output_type": "execute_result",
          "data": {
            "text/html": [
              "<div>\n",
              "<style scoped>\n",
              "    .dataframe tbody tr th:only-of-type {\n",
              "        vertical-align: middle;\n",
              "    }\n",
              "\n",
              "    .dataframe tbody tr th {\n",
              "        vertical-align: top;\n",
              "    }\n",
              "\n",
              "    .dataframe thead th {\n",
              "        text-align: right;\n",
              "    }\n",
              "</style>\n",
              "<table border=\"1\" class=\"dataframe\">\n",
              "  <thead>\n",
              "    <tr style=\"text-align: right;\">\n",
              "      <th></th>\n",
              "      <th>Store</th>\n",
              "      <th>DayOfWeek</th>\n",
              "      <th>Date</th>\n",
              "      <th>Sales</th>\n",
              "      <th>Customers</th>\n",
              "      <th>Open</th>\n",
              "      <th>Promo</th>\n",
              "      <th>StateHoliday</th>\n",
              "      <th>SchoolHoliday</th>\n",
              "      <th>StoreType</th>\n",
              "      <th>Assortment</th>\n",
              "      <th>CompetitionDistance</th>\n",
              "      <th>CompetitionOpenSinceMonth</th>\n",
              "      <th>CompetitionOpenSinceYear</th>\n",
              "      <th>Promo2</th>\n",
              "      <th>Promo2SinceWeek</th>\n",
              "      <th>Promo2SinceYear</th>\n",
              "      <th>PromoInterval</th>\n",
              "    </tr>\n",
              "  </thead>\n",
              "  <tbody>\n",
              "    <tr>\n",
              "      <th>466887</th>\n",
              "      <td>488</td>\n",
              "      <td>5</td>\n",
              "      <td>2014-05-09</td>\n",
              "      <td>3706</td>\n",
              "      <td>416</td>\n",
              "      <td>1</td>\n",
              "      <td>1</td>\n",
              "      <td>0</td>\n",
              "      <td>0</td>\n",
              "      <td>a</td>\n",
              "      <td>c</td>\n",
              "      <td>2890.0</td>\n",
              "      <td>4.0</td>\n",
              "      <td>2014.0</td>\n",
              "      <td>0</td>\n",
              "      <td>NaN</td>\n",
              "      <td>NaN</td>\n",
              "      <td>NaN</td>\n",
              "    </tr>\n",
              "  </tbody>\n",
              "</table>\n",
              "</div>"
            ],
            "text/plain": [
              "        Store  DayOfWeek  ... Promo2SinceYear  PromoInterval\n",
              "466887    488          5  ...             NaN            NaN\n",
              "\n",
              "[1 rows x 18 columns]"
            ]
          },
          "metadata": {
            "tags": []
          },
          "execution_count": 110
        }
      ]
    },
    {
      "cell_type": "markdown",
      "metadata": {
        "id": "Q8Mnj8c5W-Qk"
      },
      "source": [
        "## 1.0 DESCRICAO DOS DADOS"
      ]
    },
    {
      "cell_type": "code",
      "metadata": {
        "id": "N1FoLPXYjT-Y"
      },
      "source": [
        "#É interessante fazer uma cópia dos dados ao mudar de sessão para resgatá-los no futuro.\r\n",
        "\r\n",
        "df1 = df_raw.copy()"
      ],
      "execution_count": 111,
      "outputs": []
    },
    {
      "cell_type": "markdown",
      "metadata": {
        "id": "YScQU4U4YMNR"
      },
      "source": [
        "### 1.1 Rename Columns"
      ]
    },
    {
      "cell_type": "code",
      "metadata": {
        "colab": {
          "base_uri": "https://localhost:8080/"
        },
        "id": "MfGYlH7VjSir",
        "outputId": "6cf0718c-67c5-456c-ffe9-7544c2bd5b69"
      },
      "source": [
        "#Nem sempre os dados vem com nomes adequados para o desenvolvimento dos algoritmos;\r\n",
        "#Neste caso é mais controlado pois são dados do kaggle.\r\n",
        "\r\n",
        "df_raw.columns"
      ],
      "execution_count": 112,
      "outputs": [
        {
          "output_type": "execute_result",
          "data": {
            "text/plain": [
              "Index(['Store', 'DayOfWeek', 'Date', 'Sales', 'Customers', 'Open', 'Promo',\n",
              "       'StateHoliday', 'SchoolHoliday', 'StoreType', 'Assortment',\n",
              "       'CompetitionDistance', 'CompetitionOpenSinceMonth',\n",
              "       'CompetitionOpenSinceYear', 'Promo2', 'Promo2SinceWeek',\n",
              "       'Promo2SinceYear', 'PromoInterval'],\n",
              "      dtype='object')"
            ]
          },
          "metadata": {
            "tags": []
          },
          "execution_count": 112
        }
      ]
    },
    {
      "cell_type": "code",
      "metadata": {
        "id": "Is5aMWqNjiHe"
      },
      "source": [
        "#Transformando os dados de camel case para snake case\r\n",
        "\r\n",
        "#Colunas originais\r\n",
        "\r\n",
        "cols_old = ['Store', 'DayOfWeek', 'Date', 'Sales', 'Customers', 'Open', 'Promo',\r\n",
        "            'StateHoliday', 'SchoolHoliday', 'StoreType', 'Assortment',\r\n",
        "            'CompetitionDistance', 'CompetitionOpenSinceMonth',\r\n",
        "            'CompetitionOpenSinceYear', 'Promo2', 'Promo2SinceWeek',\r\n",
        "            'Promo2SinceYear', 'PromoInterval']\r\n",
        "\r\n",
        "#Mudando coluna para snake case\r\n",
        "\r\n",
        "snakecase = lambda x: inflection.underscore( x )\r\n",
        "\r\n",
        "cols_new = list( map( snakecase, cols_old ) )\r\n",
        "\r\n",
        "#Rename\r\n",
        "\r\n",
        "df1.columns = cols_new"
      ],
      "execution_count": 113,
      "outputs": []
    },
    {
      "cell_type": "code",
      "metadata": {
        "colab": {
          "base_uri": "https://localhost:8080/"
        },
        "id": "B6wOqT3Kkd0t",
        "outputId": "8b2fc29d-beb4-455f-f79e-0534f0c16aee"
      },
      "source": [
        "df1.columns"
      ],
      "execution_count": 114,
      "outputs": [
        {
          "output_type": "execute_result",
          "data": {
            "text/plain": [
              "Index(['store', 'day_of_week', 'date', 'sales', 'customers', 'open', 'promo',\n",
              "       'state_holiday', 'school_holiday', 'store_type', 'assortment',\n",
              "       'competition_distance', 'competition_open_since_month',\n",
              "       'competition_open_since_year', 'promo2', 'promo2_since_week',\n",
              "       'promo2_since_year', 'promo_interval'],\n",
              "      dtype='object')"
            ]
          },
          "metadata": {
            "tags": []
          },
          "execution_count": 114
        }
      ]
    },
    {
      "cell_type": "markdown",
      "metadata": {
        "id": "CTTqcg8xYOYm"
      },
      "source": [
        "### 1.2 Data Dimensions"
      ]
    },
    {
      "cell_type": "code",
      "metadata": {
        "colab": {
          "base_uri": "https://localhost:8080/"
        },
        "id": "SWAzHDsTvguz",
        "outputId": "960c4edb-9ecd-483b-e53b-4e079bbad1f0"
      },
      "source": [
        "print( f'Number of Rows: { df1.shape[0] }')\r\n",
        "print( f'Number of Columns: { df1.shape[1] }')\r\n"
      ],
      "execution_count": 115,
      "outputs": [
        {
          "output_type": "stream",
          "text": [
            "Number of Rows: 1017209\n",
            "Number of Columns: 18\n"
          ],
          "name": "stdout"
        }
      ]
    },
    {
      "cell_type": "markdown",
      "metadata": {
        "id": "n_adXn1NYQHG"
      },
      "source": [
        "### 1.3 Data Types"
      ]
    },
    {
      "cell_type": "code",
      "metadata": {
        "colab": {
          "base_uri": "https://localhost:8080/"
        },
        "id": "5MnMhfRTwhvk",
        "outputId": "76a45708-dd0d-4a4a-ee68-f30ed239dcdb"
      },
      "source": [
        "df1.dtypes"
      ],
      "execution_count": 116,
      "outputs": [
        {
          "output_type": "execute_result",
          "data": {
            "text/plain": [
              "store                             int64\n",
              "day_of_week                       int64\n",
              "date                             object\n",
              "sales                             int64\n",
              "customers                         int64\n",
              "open                              int64\n",
              "promo                             int64\n",
              "state_holiday                    object\n",
              "school_holiday                    int64\n",
              "store_type                       object\n",
              "assortment                       object\n",
              "competition_distance            float64\n",
              "competition_open_since_month    float64\n",
              "competition_open_since_year     float64\n",
              "promo2                            int64\n",
              "promo2_since_week               float64\n",
              "promo2_since_year               float64\n",
              "promo_interval                   object\n",
              "dtype: object"
            ]
          },
          "metadata": {
            "tags": []
          },
          "execution_count": 116
        }
      ]
    },
    {
      "cell_type": "code",
      "metadata": {
        "colab": {
          "base_uri": "https://localhost:8080/"
        },
        "id": "ZJnMhSQQxbc9",
        "outputId": "09dd1854-d478-455d-e0a4-f84ead7ace39"
      },
      "source": [
        "#Transformando a data de object para data\r\n",
        "\r\n",
        "df1['date'] = pd.to_datetime(df1['date'])\r\n",
        "df1.dtypes"
      ],
      "execution_count": 117,
      "outputs": [
        {
          "output_type": "execute_result",
          "data": {
            "text/plain": [
              "store                                    int64\n",
              "day_of_week                              int64\n",
              "date                            datetime64[ns]\n",
              "sales                                    int64\n",
              "customers                                int64\n",
              "open                                     int64\n",
              "promo                                    int64\n",
              "state_holiday                           object\n",
              "school_holiday                           int64\n",
              "store_type                              object\n",
              "assortment                              object\n",
              "competition_distance                   float64\n",
              "competition_open_since_month           float64\n",
              "competition_open_since_year            float64\n",
              "promo2                                   int64\n",
              "promo2_since_week                      float64\n",
              "promo2_since_year                      float64\n",
              "promo_interval                          object\n",
              "dtype: object"
            ]
          },
          "metadata": {
            "tags": []
          },
          "execution_count": 117
        }
      ]
    },
    {
      "cell_type": "markdown",
      "metadata": {
        "id": "N5EAHpb_YQUv"
      },
      "source": [
        "### 1.4 Check NA"
      ]
    },
    {
      "cell_type": "code",
      "metadata": {
        "colab": {
          "base_uri": "https://localhost:8080/"
        },
        "id": "IMDlUiGmzMhU",
        "outputId": "aacf72a9-eb8a-4090-d5f7-f75b145f8026"
      },
      "source": [
        "#Mostrando a soma de todas as linhas que tenha pelo menos 1 na\r\n",
        "\r\n",
        "df1.isna().sum()"
      ],
      "execution_count": 118,
      "outputs": [
        {
          "output_type": "execute_result",
          "data": {
            "text/plain": [
              "store                                0\n",
              "day_of_week                          0\n",
              "date                                 0\n",
              "sales                                0\n",
              "customers                            0\n",
              "open                                 0\n",
              "promo                                0\n",
              "state_holiday                        0\n",
              "school_holiday                       0\n",
              "store_type                           0\n",
              "assortment                           0\n",
              "competition_distance              2642\n",
              "competition_open_since_month    323348\n",
              "competition_open_since_year     323348\n",
              "promo2                               0\n",
              "promo2_since_week               508031\n",
              "promo2_since_year               508031\n",
              "promo_interval                  508031\n",
              "dtype: int64"
            ]
          },
          "metadata": {
            "tags": []
          },
          "execution_count": 118
        }
      ]
    },
    {
      "cell_type": "markdown",
      "metadata": {
        "id": "onN3Xf9ZYREI"
      },
      "source": [
        "### 1.5 Fillout NA"
      ]
    },
    {
      "cell_type": "code",
      "metadata": {
        "colab": {
          "base_uri": "https://localhost:8080/"
        },
        "id": "SalV_THQgOj5",
        "outputId": "3690a221-9c54-4438-e1e2-711c7ba69cec"
      },
      "source": [
        "df1['competition_distance'].max"
      ],
      "execution_count": 119,
      "outputs": [
        {
          "output_type": "execute_result",
          "data": {
            "text/plain": [
              "<bound method Series.max of 0           1270.0\n",
              "1            570.0\n",
              "2          14130.0\n",
              "3            620.0\n",
              "4          29910.0\n",
              "            ...   \n",
              "1017204     1900.0\n",
              "1017205     1880.0\n",
              "1017206     9260.0\n",
              "1017207      870.0\n",
              "1017208     5350.0\n",
              "Name: competition_distance, Length: 1017209, dtype: float64>"
            ]
          },
          "metadata": {
            "tags": []
          },
          "execution_count": 119
        }
      ]
    },
    {
      "cell_type": "code",
      "metadata": {
        "id": "Gu7jgPyEejna"
      },
      "source": [
        "# competition_distance\r\n",
        "# Trocando o valor em NA pelo maior valor:\r\n",
        "df1['competition_distance'] = df1['competition_distance'].apply( lambda x: 200000.0 if math.isnan(x) else x)\r\n",
        "\r\n",
        "# competition_open_since_month    \r\n",
        "# Trocando a data de \"competição desde o mes\" pela data de venda da ultima compra\r\n",
        "df1['competition_open_since_month'] = df1.apply( lambda x: x['date'].month if math.isnan( x['competition_open_since_month'] ) else x['competition_open_since_month'], axis = 1)\r\n",
        "\r\n",
        "# competition_open_since_year     \r\n",
        "# Mesmo processo do mes para o ano\r\n",
        "df1['competition_open_since_year'] = df1.apply( lambda x: x['date'].year if math.isnan( x['competition_open_since_year'] ) else x['competition_open_since_year'], axis = 1)\r\n",
        "\r\n",
        "# promo2                               \r\n",
        "# promo2_since_week               \r\n",
        "df1['promo2_since_week'] = df1.apply( lambda x: x['date'].week if math.isnan( x['promo2_since_week'] ) else x['promo2_since_week'], axis = 1)\r\n",
        "\r\n",
        "# promo2_since_year               \r\n",
        "df1['promo2_since_year'] = df1.apply( lambda x: x['date'].year if math.isnan( x['promo2_since_year'] ) else x['promo2_since_year'], axis = 1)\r\n",
        "\r\n",
        "# promo_interval                  \r\n",
        "month_map = {\r\n",
        "1: 'Jan', \r\n",
        "2: 'Feb', \r\n",
        "3: 'Mar', \r\n",
        "4: 'Apr', \r\n",
        "5: 'May', \r\n",
        "6: 'Jun', \r\n",
        "7: 'Jul', \r\n",
        "8: 'Ago', \r\n",
        "9: 'Sep', \r\n",
        "10: 'Oct', \r\n",
        "11: 'Nov', \r\n",
        "12: 'Dec' }\r\n",
        "\r\n",
        "df1['promo_interval'].fillna(0, inplace = True)\r\n",
        "\r\n",
        "df1['month_map'] = df1['date'].dt.month.map( month_map )\r\n",
        "\r\n",
        "df1['is_promo'] = df1[['promo_interval', 'month_map']].apply( lambda x: 0 if x['promo_interval'] == 0 else 1 if x['month_map'] in x['promo_interval'].split(',') else 0, axis = 1 )"
      ],
      "execution_count": 120,
      "outputs": []
    },
    {
      "cell_type": "code",
      "metadata": {
        "colab": {
          "base_uri": "https://localhost:8080/"
        },
        "id": "y1hOA0Y6ht4O",
        "outputId": "2fac103a-1486-4209-c3e2-126fa534e04c"
      },
      "source": [
        "#Repare que a soma agora de NA's é 0\r\n",
        "\r\n",
        "df1.isna().sum()"
      ],
      "execution_count": 121,
      "outputs": [
        {
          "output_type": "execute_result",
          "data": {
            "text/plain": [
              "store                           0\n",
              "day_of_week                     0\n",
              "date                            0\n",
              "sales                           0\n",
              "customers                       0\n",
              "open                            0\n",
              "promo                           0\n",
              "state_holiday                   0\n",
              "school_holiday                  0\n",
              "store_type                      0\n",
              "assortment                      0\n",
              "competition_distance            0\n",
              "competition_open_since_month    0\n",
              "competition_open_since_year     0\n",
              "promo2                          0\n",
              "promo2_since_week               0\n",
              "promo2_since_year               0\n",
              "promo_interval                  0\n",
              "month_map                       0\n",
              "is_promo                        0\n",
              "dtype: int64"
            ]
          },
          "metadata": {
            "tags": []
          },
          "execution_count": 121
        }
      ]
    },
    {
      "cell_type": "markdown",
      "metadata": {
        "id": "YGM8evPlYRRU"
      },
      "source": [
        "### 1.6 Change Types"
      ]
    },
    {
      "cell_type": "code",
      "metadata": {
        "id": "-8FwGwhiuKkc"
      },
      "source": [
        "#Depois de se fazer alterações em colunas, é importante refazer a busca dos tipos\r\n",
        "#para conferir se o tipo original não foi alterado."
      ],
      "execution_count": 122,
      "outputs": []
    },
    {
      "cell_type": "code",
      "metadata": {
        "id": "VCcpYJyiuQdK",
        "outputId": "e1ec6e63-b93d-479c-f855-4768be1b8862",
        "colab": {
          "base_uri": "https://localhost:8080/"
        }
      },
      "source": [
        "df1.dtypes\r\n",
        "\r\n",
        "#Repare que o competition_sincer_week é um float"
      ],
      "execution_count": 123,
      "outputs": [
        {
          "output_type": "execute_result",
          "data": {
            "text/plain": [
              "store                                    int64\n",
              "day_of_week                              int64\n",
              "date                            datetime64[ns]\n",
              "sales                                    int64\n",
              "customers                                int64\n",
              "open                                     int64\n",
              "promo                                    int64\n",
              "state_holiday                           object\n",
              "school_holiday                           int64\n",
              "store_type                              object\n",
              "assortment                              object\n",
              "competition_distance                   float64\n",
              "competition_open_since_month           float64\n",
              "competition_open_since_year            float64\n",
              "promo2                                   int64\n",
              "promo2_since_week                      float64\n",
              "promo2_since_year                      float64\n",
              "promo_interval                          object\n",
              "month_map                               object\n",
              "is_promo                                 int64\n",
              "dtype: object"
            ]
          },
          "metadata": {
            "tags": []
          },
          "execution_count": 123
        }
      ]
    },
    {
      "cell_type": "code",
      "metadata": {
        "id": "sfh753_CuZhm"
      },
      "source": [
        "df1['competition_open_since_month'] = df1['competition_open_since_month'].astype(int)\r\n",
        "df1['competition_open_since_year'] = df1['competition_open_since_year'].astype(int)\r\n",
        "df1['promo2_since_week'] = df1['promo2_since_week'].astype(int)\r\n",
        "df1['promo2_since_year'] = df1['promo2_since_year'].astype(int)"
      ],
      "execution_count": 124,
      "outputs": []
    },
    {
      "cell_type": "code",
      "metadata": {
        "id": "bqSgTbsduhxA",
        "outputId": "e0b08f8e-53f8-4ab4-babd-5cb1bcd7653f",
        "colab": {
          "base_uri": "https://localhost:8080/"
        }
      },
      "source": [
        "df1.dtypes"
      ],
      "execution_count": 125,
      "outputs": [
        {
          "output_type": "execute_result",
          "data": {
            "text/plain": [
              "store                                    int64\n",
              "day_of_week                              int64\n",
              "date                            datetime64[ns]\n",
              "sales                                    int64\n",
              "customers                                int64\n",
              "open                                     int64\n",
              "promo                                    int64\n",
              "state_holiday                           object\n",
              "school_holiday                           int64\n",
              "store_type                              object\n",
              "assortment                              object\n",
              "competition_distance                   float64\n",
              "competition_open_since_month             int64\n",
              "competition_open_since_year              int64\n",
              "promo2                                   int64\n",
              "promo2_since_week                        int64\n",
              "promo2_since_year                        int64\n",
              "promo_interval                          object\n",
              "month_map                               object\n",
              "is_promo                                 int64\n",
              "dtype: object"
            ]
          },
          "metadata": {
            "tags": []
          },
          "execution_count": 125
        }
      ]
    },
    {
      "cell_type": "markdown",
      "metadata": {
        "id": "reUNag0-YRcD"
      },
      "source": [
        "### 1.7 Descriptive Statistical"
      ]
    },
    {
      "cell_type": "code",
      "metadata": {
        "id": "1F8WIJOJxHCg"
      },
      "source": [
        "#Selecionando os dados numéricos e categóricos\r\n",
        "\r\n",
        "num_attributes = df1.select_dtypes( include = ['int64', 'float64'])\r\n",
        "cat_attributes = df1.select_dtypes( exclude = ['int64', 'float64', 'datetime64[ns]'] )"
      ],
      "execution_count": 126,
      "outputs": []
    },
    {
      "cell_type": "code",
      "metadata": {
        "id": "UKV4cD5Kxrxe",
        "outputId": "8a799709-8fa0-4d65-9463-337067f633a5",
        "colab": {
          "base_uri": "https://localhost:8080/",
          "height": 130
        }
      },
      "source": [
        "num_attributes.sample(2)"
      ],
      "execution_count": 127,
      "outputs": [
        {
          "output_type": "execute_result",
          "data": {
            "text/html": [
              "<div>\n",
              "<style scoped>\n",
              "    .dataframe tbody tr th:only-of-type {\n",
              "        vertical-align: middle;\n",
              "    }\n",
              "\n",
              "    .dataframe tbody tr th {\n",
              "        vertical-align: top;\n",
              "    }\n",
              "\n",
              "    .dataframe thead th {\n",
              "        text-align: right;\n",
              "    }\n",
              "</style>\n",
              "<table border=\"1\" class=\"dataframe\">\n",
              "  <thead>\n",
              "    <tr style=\"text-align: right;\">\n",
              "      <th></th>\n",
              "      <th>store</th>\n",
              "      <th>day_of_week</th>\n",
              "      <th>sales</th>\n",
              "      <th>customers</th>\n",
              "      <th>open</th>\n",
              "      <th>promo</th>\n",
              "      <th>school_holiday</th>\n",
              "      <th>competition_distance</th>\n",
              "      <th>competition_open_since_month</th>\n",
              "      <th>competition_open_since_year</th>\n",
              "      <th>promo2</th>\n",
              "      <th>promo2_since_week</th>\n",
              "      <th>promo2_since_year</th>\n",
              "      <th>is_promo</th>\n",
              "    </tr>\n",
              "  </thead>\n",
              "  <tbody>\n",
              "    <tr>\n",
              "      <th>714499</th>\n",
              "      <td>570</td>\n",
              "      <td>7</td>\n",
              "      <td>0</td>\n",
              "      <td>0</td>\n",
              "      <td>0</td>\n",
              "      <td>0</td>\n",
              "      <td>0</td>\n",
              "      <td>180.0</td>\n",
              "      <td>11</td>\n",
              "      <td>2006</td>\n",
              "      <td>0</td>\n",
              "      <td>39</td>\n",
              "      <td>2013</td>\n",
              "      <td>0</td>\n",
              "    </tr>\n",
              "    <tr>\n",
              "      <th>986723</th>\n",
              "      <td>734</td>\n",
              "      <td>1</td>\n",
              "      <td>6111</td>\n",
              "      <td>705</td>\n",
              "      <td>1</td>\n",
              "      <td>0</td>\n",
              "      <td>0</td>\n",
              "      <td>220.0</td>\n",
              "      <td>1</td>\n",
              "      <td>2013</td>\n",
              "      <td>1</td>\n",
              "      <td>36</td>\n",
              "      <td>2013</td>\n",
              "      <td>0</td>\n",
              "    </tr>\n",
              "  </tbody>\n",
              "</table>\n",
              "</div>"
            ],
            "text/plain": [
              "        store  day_of_week  ...  promo2_since_year  is_promo\n",
              "714499    570            7  ...               2013         0\n",
              "986723    734            1  ...               2013         0\n",
              "\n",
              "[2 rows x 14 columns]"
            ]
          },
          "metadata": {
            "tags": []
          },
          "execution_count": 127
        }
      ]
    },
    {
      "cell_type": "code",
      "metadata": {
        "id": "CP-jdBW_xwXz",
        "outputId": "5df4f0aa-e51f-43e1-c5ba-4f83f59b8082",
        "colab": {
          "base_uri": "https://localhost:8080/",
          "height": 110
        }
      },
      "source": [
        "cat_attributes.sample(2)"
      ],
      "execution_count": 128,
      "outputs": [
        {
          "output_type": "execute_result",
          "data": {
            "text/html": [
              "<div>\n",
              "<style scoped>\n",
              "    .dataframe tbody tr th:only-of-type {\n",
              "        vertical-align: middle;\n",
              "    }\n",
              "\n",
              "    .dataframe tbody tr th {\n",
              "        vertical-align: top;\n",
              "    }\n",
              "\n",
              "    .dataframe thead th {\n",
              "        text-align: right;\n",
              "    }\n",
              "</style>\n",
              "<table border=\"1\" class=\"dataframe\">\n",
              "  <thead>\n",
              "    <tr style=\"text-align: right;\">\n",
              "      <th></th>\n",
              "      <th>state_holiday</th>\n",
              "      <th>store_type</th>\n",
              "      <th>assortment</th>\n",
              "      <th>promo_interval</th>\n",
              "      <th>month_map</th>\n",
              "    </tr>\n",
              "  </thead>\n",
              "  <tbody>\n",
              "    <tr>\n",
              "      <th>790695</th>\n",
              "      <td>0</td>\n",
              "      <td>a</td>\n",
              "      <td>a</td>\n",
              "      <td>Jan,Apr,Jul,Oct</td>\n",
              "      <td>Jul</td>\n",
              "    </tr>\n",
              "    <tr>\n",
              "      <th>492118</th>\n",
              "      <td>0</td>\n",
              "      <td>a</td>\n",
              "      <td>a</td>\n",
              "      <td>0</td>\n",
              "      <td>Apr</td>\n",
              "    </tr>\n",
              "  </tbody>\n",
              "</table>\n",
              "</div>"
            ],
            "text/plain": [
              "       state_holiday store_type assortment   promo_interval month_map\n",
              "790695             0          a          a  Jan,Apr,Jul,Oct       Jul\n",
              "492118             0          a          a                0       Apr"
            ]
          },
          "metadata": {
            "tags": []
          },
          "execution_count": 128
        }
      ]
    },
    {
      "cell_type": "markdown",
      "metadata": {
        "id": "Bx9f7RqAx6CW"
      },
      "source": [
        "#### 1.7.1 Numerical Attributes"
      ]
    },
    {
      "cell_type": "code",
      "metadata": {
        "id": "Hf0VePHVvERN"
      },
      "source": [
        "# Central Tendency - mean, median\r\n",
        "ct1 = pd.DataFrame( num_attributes.apply( np.mean ) ).T\r\n",
        "ct2 = pd.DataFrame( num_attributes.apply( np.median ) ).T\r\n",
        "\r\n",
        "# Dispersion - std, min, maax, range, skew, kurtosis\r\n",
        "d1 = pd.DataFrame( num_attributes.apply( np.std ) ).T\r\n",
        "d2 = pd.DataFrame( num_attributes.apply( min ) ).T\r\n",
        "d3 = pd.DataFrame( num_attributes.apply( max ) ).T\r\n",
        "d4 = pd.DataFrame( num_attributes.apply( lambda x: x.max() - x.min() ) ).T\r\n",
        "d5 = pd.DataFrame( num_attributes.apply( lambda x: x.skew() ) ).T\r\n",
        "d6 = pd.DataFrame( num_attributes.apply( lambda x: x.kurtosis() ) ).T\r\n",
        "\r\n",
        "# Concatenete\r\n",
        "m = pd.concat( [d2, d3, d4, ct1, ct2, d1, d5, d6] ).T.reset_index()\r\n",
        "m.columns = ( ['attributes', 'min', 'max', 'range', 'mean', 'median', 'std',\r\n",
        "            'skew', 'kurtosis'] )"
      ],
      "execution_count": 129,
      "outputs": []
    },
    {
      "cell_type": "code",
      "metadata": {
        "id": "xcVEdt5F0cRa",
        "outputId": "cce11e36-87ad-4a93-e5e2-580d59f56ab5",
        "colab": {
          "base_uri": "https://localhost:8080/",
          "height": 480
        }
      },
      "source": [
        "m"
      ],
      "execution_count": 130,
      "outputs": [
        {
          "output_type": "execute_result",
          "data": {
            "text/html": [
              "<div>\n",
              "<style scoped>\n",
              "    .dataframe tbody tr th:only-of-type {\n",
              "        vertical-align: middle;\n",
              "    }\n",
              "\n",
              "    .dataframe tbody tr th {\n",
              "        vertical-align: top;\n",
              "    }\n",
              "\n",
              "    .dataframe thead th {\n",
              "        text-align: right;\n",
              "    }\n",
              "</style>\n",
              "<table border=\"1\" class=\"dataframe\">\n",
              "  <thead>\n",
              "    <tr style=\"text-align: right;\">\n",
              "      <th></th>\n",
              "      <th>attributes</th>\n",
              "      <th>min</th>\n",
              "      <th>max</th>\n",
              "      <th>range</th>\n",
              "      <th>mean</th>\n",
              "      <th>median</th>\n",
              "      <th>std</th>\n",
              "      <th>skew</th>\n",
              "      <th>kurtosis</th>\n",
              "    </tr>\n",
              "  </thead>\n",
              "  <tbody>\n",
              "    <tr>\n",
              "      <th>0</th>\n",
              "      <td>store</td>\n",
              "      <td>1.0</td>\n",
              "      <td>1115.0</td>\n",
              "      <td>1114.0</td>\n",
              "      <td>558.429727</td>\n",
              "      <td>558.0</td>\n",
              "      <td>321.908493</td>\n",
              "      <td>-0.000955</td>\n",
              "      <td>-1.200524</td>\n",
              "    </tr>\n",
              "    <tr>\n",
              "      <th>1</th>\n",
              "      <td>day_of_week</td>\n",
              "      <td>1.0</td>\n",
              "      <td>7.0</td>\n",
              "      <td>6.0</td>\n",
              "      <td>3.998341</td>\n",
              "      <td>4.0</td>\n",
              "      <td>1.997390</td>\n",
              "      <td>0.001593</td>\n",
              "      <td>-1.246873</td>\n",
              "    </tr>\n",
              "    <tr>\n",
              "      <th>2</th>\n",
              "      <td>sales</td>\n",
              "      <td>0.0</td>\n",
              "      <td>41551.0</td>\n",
              "      <td>41551.0</td>\n",
              "      <td>5773.818972</td>\n",
              "      <td>5744.0</td>\n",
              "      <td>3849.924283</td>\n",
              "      <td>0.641460</td>\n",
              "      <td>1.778375</td>\n",
              "    </tr>\n",
              "    <tr>\n",
              "      <th>3</th>\n",
              "      <td>customers</td>\n",
              "      <td>0.0</td>\n",
              "      <td>7388.0</td>\n",
              "      <td>7388.0</td>\n",
              "      <td>633.145946</td>\n",
              "      <td>609.0</td>\n",
              "      <td>464.411506</td>\n",
              "      <td>1.598650</td>\n",
              "      <td>7.091773</td>\n",
              "    </tr>\n",
              "    <tr>\n",
              "      <th>4</th>\n",
              "      <td>open</td>\n",
              "      <td>0.0</td>\n",
              "      <td>1.0</td>\n",
              "      <td>1.0</td>\n",
              "      <td>0.830107</td>\n",
              "      <td>1.0</td>\n",
              "      <td>0.375539</td>\n",
              "      <td>-1.758045</td>\n",
              "      <td>1.090723</td>\n",
              "    </tr>\n",
              "    <tr>\n",
              "      <th>5</th>\n",
              "      <td>promo</td>\n",
              "      <td>0.0</td>\n",
              "      <td>1.0</td>\n",
              "      <td>1.0</td>\n",
              "      <td>0.381515</td>\n",
              "      <td>0.0</td>\n",
              "      <td>0.485758</td>\n",
              "      <td>0.487838</td>\n",
              "      <td>-1.762018</td>\n",
              "    </tr>\n",
              "    <tr>\n",
              "      <th>6</th>\n",
              "      <td>school_holiday</td>\n",
              "      <td>0.0</td>\n",
              "      <td>1.0</td>\n",
              "      <td>1.0</td>\n",
              "      <td>0.178647</td>\n",
              "      <td>0.0</td>\n",
              "      <td>0.383056</td>\n",
              "      <td>1.677842</td>\n",
              "      <td>0.815154</td>\n",
              "    </tr>\n",
              "    <tr>\n",
              "      <th>7</th>\n",
              "      <td>competition_distance</td>\n",
              "      <td>20.0</td>\n",
              "      <td>200000.0</td>\n",
              "      <td>199980.0</td>\n",
              "      <td>5935.442677</td>\n",
              "      <td>2330.0</td>\n",
              "      <td>12547.646829</td>\n",
              "      <td>10.242344</td>\n",
              "      <td>147.789712</td>\n",
              "    </tr>\n",
              "    <tr>\n",
              "      <th>8</th>\n",
              "      <td>competition_open_since_month</td>\n",
              "      <td>1.0</td>\n",
              "      <td>12.0</td>\n",
              "      <td>11.0</td>\n",
              "      <td>6.786849</td>\n",
              "      <td>7.0</td>\n",
              "      <td>3.311085</td>\n",
              "      <td>-0.042076</td>\n",
              "      <td>-1.232607</td>\n",
              "    </tr>\n",
              "    <tr>\n",
              "      <th>9</th>\n",
              "      <td>competition_open_since_year</td>\n",
              "      <td>1900.0</td>\n",
              "      <td>2015.0</td>\n",
              "      <td>115.0</td>\n",
              "      <td>2010.324840</td>\n",
              "      <td>2012.0</td>\n",
              "      <td>5.515591</td>\n",
              "      <td>-7.235657</td>\n",
              "      <td>124.071304</td>\n",
              "    </tr>\n",
              "    <tr>\n",
              "      <th>10</th>\n",
              "      <td>promo2</td>\n",
              "      <td>0.0</td>\n",
              "      <td>1.0</td>\n",
              "      <td>1.0</td>\n",
              "      <td>0.500564</td>\n",
              "      <td>1.0</td>\n",
              "      <td>0.500000</td>\n",
              "      <td>-0.002255</td>\n",
              "      <td>-1.999999</td>\n",
              "    </tr>\n",
              "    <tr>\n",
              "      <th>11</th>\n",
              "      <td>promo2_since_week</td>\n",
              "      <td>1.0</td>\n",
              "      <td>52.0</td>\n",
              "      <td>51.0</td>\n",
              "      <td>23.619033</td>\n",
              "      <td>22.0</td>\n",
              "      <td>14.310057</td>\n",
              "      <td>0.178723</td>\n",
              "      <td>-1.184046</td>\n",
              "    </tr>\n",
              "    <tr>\n",
              "      <th>12</th>\n",
              "      <td>promo2_since_year</td>\n",
              "      <td>2009.0</td>\n",
              "      <td>2015.0</td>\n",
              "      <td>6.0</td>\n",
              "      <td>2012.793297</td>\n",
              "      <td>2013.0</td>\n",
              "      <td>1.662657</td>\n",
              "      <td>-0.784436</td>\n",
              "      <td>-0.210075</td>\n",
              "    </tr>\n",
              "    <tr>\n",
              "      <th>13</th>\n",
              "      <td>is_promo</td>\n",
              "      <td>0.0</td>\n",
              "      <td>1.0</td>\n",
              "      <td>1.0</td>\n",
              "      <td>0.158682</td>\n",
              "      <td>0.0</td>\n",
              "      <td>0.365380</td>\n",
              "      <td>1.868295</td>\n",
              "      <td>1.490527</td>\n",
              "    </tr>\n",
              "  </tbody>\n",
              "</table>\n",
              "</div>"
            ],
            "text/plain": [
              "                      attributes     min  ...       skew    kurtosis\n",
              "0                          store     1.0  ...  -0.000955   -1.200524\n",
              "1                    day_of_week     1.0  ...   0.001593   -1.246873\n",
              "2                          sales     0.0  ...   0.641460    1.778375\n",
              "3                      customers     0.0  ...   1.598650    7.091773\n",
              "4                           open     0.0  ...  -1.758045    1.090723\n",
              "5                          promo     0.0  ...   0.487838   -1.762018\n",
              "6                 school_holiday     0.0  ...   1.677842    0.815154\n",
              "7           competition_distance    20.0  ...  10.242344  147.789712\n",
              "8   competition_open_since_month     1.0  ...  -0.042076   -1.232607\n",
              "9    competition_open_since_year  1900.0  ...  -7.235657  124.071304\n",
              "10                        promo2     0.0  ...  -0.002255   -1.999999\n",
              "11             promo2_since_week     1.0  ...   0.178723   -1.184046\n",
              "12             promo2_since_year  2009.0  ...  -0.784436   -0.210075\n",
              "13                      is_promo     0.0  ...   1.868295    1.490527\n",
              "\n",
              "[14 rows x 9 columns]"
            ]
          },
          "metadata": {
            "tags": []
          },
          "execution_count": 130
        }
      ]
    },
    {
      "cell_type": "code",
      "metadata": {
        "id": "uH4z0hyP1wrA",
        "outputId": "2a3a2504-1fca-4774-f08f-e83a6809b975",
        "colab": {
          "base_uri": "https://localhost:8080/",
          "height": 466
        }
      },
      "source": [
        "sns.distplot( df1['sales'])"
      ],
      "execution_count": 131,
      "outputs": [
        {
          "output_type": "stream",
          "text": [
            "/usr/local/lib/python3.7/dist-packages/seaborn/distributions.py:2557: FutureWarning: `distplot` is a deprecated function and will be removed in a future version. Please adapt your code to use either `displot` (a figure-level function with similar flexibility) or `histplot` (an axes-level function for histograms).\n",
            "  warnings.warn(msg, FutureWarning)\n"
          ],
          "name": "stderr"
        },
        {
          "output_type": "execute_result",
          "data": {
            "text/plain": [
              "<matplotlib.axes._subplots.AxesSubplot at 0x7f1a22eff790>"
            ]
          },
          "metadata": {
            "tags": []
          },
          "execution_count": 131
        },
        {
          "output_type": "display_data",
          "data": {
            "image/png": "[encoded data removed]",
            "text/plain": [
              "<Figure size 720x432 with 1 Axes>"
            ]
          },
          "metadata": {
            "tags": []
          }
        }
      ]
    },
    {
      "cell_type": "markdown",
      "metadata": {
        "id": "3kA806qD4Eeh"
      },
      "source": [
        "#### 1.7.2 Categorical Attributes"
      ]
    },
    {
      "cell_type": "code",
      "metadata": {
        "id": "5kbtmkpC4Ifi",
        "outputId": "45123b47-2126-44b2-8e65-baff9068c845",
        "colab": {
          "base_uri": "https://localhost:8080/"
        }
      },
      "source": [
        "cat_attributes.apply( lambda x: x.unique().shape[0] )"
      ],
      "execution_count": 132,
      "outputs": [
        {
          "output_type": "execute_result",
          "data": {
            "text/plain": [
              "state_holiday      4\n",
              "store_type         4\n",
              "assortment         3\n",
              "promo_interval     4\n",
              "month_map         12\n",
              "dtype: int64"
            ]
          },
          "metadata": {
            "tags": []
          },
          "execution_count": 132
        }
      ]
    },
    {
      "cell_type": "code",
      "metadata": {
        "id": "uXj8WP454Wq5",
        "outputId": "b47daa0f-ac1b-4bfd-913f-5565765d49d8",
        "colab": {
          "base_uri": "https://localhost:8080/",
          "height": 411
        }
      },
      "source": [
        "aux1 = df1[(df1['state_holiday'] != '0') & (df1['sales'] > 0)]\r\n",
        "\r\n",
        "plt.subplot( 1, 3, 1)\r\n",
        "sns.boxplot( x = 'state_holiday', y = 'sales', data = aux1)\r\n",
        "\r\n",
        "plt.subplot( 1, 3, 2)\r\n",
        "sns.boxplot( x = 'store_type', y = 'sales', data = aux1)\r\n",
        "\r\n",
        "plt.subplot( 1, 3, 3)\r\n",
        "sns.boxplot( x = 'assortment', y = 'sales', data = aux1)"
      ],
      "execution_count": 137,
      "outputs": [
        {
          "output_type": "execute_result",
          "data": {
            "text/plain": [
              "<matplotlib.axes._subplots.AxesSubplot at 0x7f1a265d7450>"
            ]
          },
          "metadata": {
            "tags": []
          },
          "execution_count": 137
        },
        {
          "output_type": "display_data",
          "data": {
            "image/png": "[encoded data removed]",
            "text/plain": [
              "<Figure size 720x432 with 3 Axes>"
            ]
          },
          "metadata": {
            "tags": []
          }
        }
      ]
    },
    {
      "cell_type": "markdown",
      "metadata": {
        "id": "Zx2N3yDvYP2N"
      },
      "source": [
        "### 1.8"
      ]
    }
  ]
}