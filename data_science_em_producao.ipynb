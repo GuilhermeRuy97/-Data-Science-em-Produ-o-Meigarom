{
  "nbformat": 4,
  "nbformat_minor": 0,
  "metadata": {
    "colab": {
      "name": "data_science_em_producao.ipynb",
      "provenance": [],
      "authorship_tag": "ABX9TyOHbVQlCY7FixXU13uNTFN/",
      "include_colab_link": true
    },
    "kernelspec": {
      "name": "python3",
      "display_name": "Python 3"
    }
  },
  "cells": [
    {
      "cell_type": "markdown",
      "metadata": {
        "id": "view-in-github",
        "colab_type": "text"
      },
      "source": [
        "<a href=\"https://colab.research.google.com/github/GuilhermeRuy97/Data-Science-em-Producao-Meigarom/blob/main/data_science_em_producao.ipynb\" target=\"_parent\"><img src=\"https://colab.research.google.com/assets/colab-badge.svg\" alt=\"Open In Colab\"/></a>"
      ]
    },
    {
      "cell_type": "markdown",
      "metadata": {
        "id": "DHOt5tw2Mzhh"
      },
      "source": [
        "#Modulo 02 Video 01\r\n",
        "-Store Sales Prediction\r\n"
      ]
    },
    {
      "cell_type": "markdown",
      "metadata": {
        "id": "m9yA3BdTW6Dq"
      },
      "source": [
        "## 0.0 IMPORTS"
      ]
    },
    {
      "cell_type": "code",
      "metadata": {
        "colab": {
          "base_uri": "https://localhost:8080/"
        },
        "id": "MR5X18iZj_6U",
        "outputId": "2703bab2-99c9-4f2b-e9ca-a145707a6a8e"
      },
      "source": [
        "#!pip install inflection"
      ],
      "execution_count": 10,
      "outputs": [
        {
          "output_type": "stream",
          "text": [
            "Collecting inflection\n",
            "  Downloading https://files.pythonhosted.org/packages/59/91/aa6bde563e0085a02a435aa99b49ef75b0a4b062635e606dab23ce18d720/inflection-0.5.1-py2.py3-none-any.whl\n",
            "Installing collected packages: inflection\n",
            "Successfully installed inflection-0.5.1\n"
          ],
          "name": "stdout"
        }
      ]
    },
    {
      "cell_type": "code",
      "metadata": {
        "id": "AcqppZm5Ys1X"
      },
      "source": [
        "import pandas as pd\r\n",
        "import inflection"
      ],
      "execution_count": 11,
      "outputs": []
    },
    {
      "cell_type": "markdown",
      "metadata": {
        "id": "EK9ejN3ZYCmg"
      },
      "source": [
        "### 0.1 Helper Functions"
      ]
    },
    {
      "cell_type": "markdown",
      "metadata": {
        "id": "4_rirL9JYEx8"
      },
      "source": [
        "### 0.2 Loading Data"
      ]
    },
    {
      "cell_type": "code",
      "metadata": {
        "id": "DQeaFj4ZYfV6"
      },
      "source": [
        "df_sales_raw = pd.read_csv( 'train.csv', low_memory = False)\r\n",
        "df_store_raw = pd.read_csv( 'store.csv', low_memory = False)\r\n",
        "\r\n",
        "#Fazendo um merge dos arquivos guardando em \"store\"\r\n",
        "\r\n",
        "df_raw = pd.merge( df_sales_raw, df_store_raw, how = 'left', on = 'Store' )"
      ],
      "execution_count": 5,
      "outputs": []
    },
    {
      "cell_type": "code",
      "metadata": {
        "colab": {
          "base_uri": "https://localhost:8080/",
          "height": 114
        },
        "id": "42AAwWAIikre",
        "outputId": "11a15b1f-2965-4e6b-f2de-c5cf742889e6"
      },
      "source": [
        "df_raw.sample()"
      ],
      "execution_count": 6,
      "outputs": [
        {
          "output_type": "execute_result",
          "data": {
            "text/html": [
              "<div>\n",
              "<style scoped>\n",
              "    .dataframe tbody tr th:only-of-type {\n",
              "        vertical-align: middle;\n",
              "    }\n",
              "\n",
              "    .dataframe tbody tr th {\n",
              "        vertical-align: top;\n",
              "    }\n",
              "\n",
              "    .dataframe thead th {\n",
              "        text-align: right;\n",
              "    }\n",
              "</style>\n",
              "<table border=\"1\" class=\"dataframe\">\n",
              "  <thead>\n",
              "    <tr style=\"text-align: right;\">\n",
              "      <th></th>\n",
              "      <th>Store</th>\n",
              "      <th>DayOfWeek</th>\n",
              "      <th>Date</th>\n",
              "      <th>Sales</th>\n",
              "      <th>Customers</th>\n",
              "      <th>Open</th>\n",
              "      <th>Promo</th>\n",
              "      <th>StateHoliday</th>\n",
              "      <th>SchoolHoliday</th>\n",
              "      <th>StoreType</th>\n",
              "      <th>Assortment</th>\n",
              "      <th>CompetitionDistance</th>\n",
              "      <th>CompetitionOpenSinceMonth</th>\n",
              "      <th>CompetitionOpenSinceYear</th>\n",
              "      <th>Promo2</th>\n",
              "      <th>Promo2SinceWeek</th>\n",
              "      <th>Promo2SinceYear</th>\n",
              "      <th>PromoInterval</th>\n",
              "    </tr>\n",
              "  </thead>\n",
              "  <tbody>\n",
              "    <tr>\n",
              "      <th>923025</th>\n",
              "      <td>591</td>\n",
              "      <td>2</td>\n",
              "      <td>2013-03-26</td>\n",
              "      <td>6720</td>\n",
              "      <td>543</td>\n",
              "      <td>1</td>\n",
              "      <td>1</td>\n",
              "      <td>0</td>\n",
              "      <td>1</td>\n",
              "      <td>a</td>\n",
              "      <td>c</td>\n",
              "      <td>3340.0</td>\n",
              "      <td>NaN</td>\n",
              "      <td>NaN</td>\n",
              "      <td>1</td>\n",
              "      <td>22.0</td>\n",
              "      <td>2012.0</td>\n",
              "      <td>Mar,Jun,Sept,Dec</td>\n",
              "    </tr>\n",
              "  </tbody>\n",
              "</table>\n",
              "</div>"
            ],
            "text/plain": [
              "        Store  DayOfWeek  ... Promo2SinceYear     PromoInterval\n",
              "923025    591          2  ...          2012.0  Mar,Jun,Sept,Dec\n",
              "\n",
              "[1 rows x 18 columns]"
            ]
          },
          "metadata": {
            "tags": []
          },
          "execution_count": 6
        }
      ]
    },
    {
      "cell_type": "markdown",
      "metadata": {
        "id": "Q8Mnj8c5W-Qk"
      },
      "source": [
        "## 1.0 DESCRICAO DOS DADOS"
      ]
    },
    {
      "cell_type": "code",
      "metadata": {
        "id": "N1FoLPXYjT-Y"
      },
      "source": [
        "#É interessante fazer uma cópia dos dados ao mudar de sessão para resgatá-los no futuro.\r\n",
        "\r\n",
        "df1 = df_raw.copy()"
      ],
      "execution_count": 12,
      "outputs": []
    },
    {
      "cell_type": "markdown",
      "metadata": {
        "id": "YScQU4U4YMNR"
      },
      "source": [
        "### 1.1 Rename Columns"
      ]
    },
    {
      "cell_type": "code",
      "metadata": {
        "colab": {
          "base_uri": "https://localhost:8080/"
        },
        "id": "MfGYlH7VjSir",
        "outputId": "1e973baa-0292-48c5-8a80-4b186c13492f"
      },
      "source": [
        "#Nem sempre os dados vem com nomes adequados para o desenvolvimento dos algoritmos;\r\n",
        "#Neste caso é mais controlado pois são dados do kaggle.\r\n",
        "\r\n",
        "df_raw.columns"
      ],
      "execution_count": 7,
      "outputs": [
        {
          "output_type": "execute_result",
          "data": {
            "text/plain": [
              "Index(['Store', 'DayOfWeek', 'Date', 'Sales', 'Customers', 'Open', 'Promo',\n",
              "       'StateHoliday', 'SchoolHoliday', 'StoreType', 'Assortment',\n",
              "       'CompetitionDistance', 'CompetitionOpenSinceMonth',\n",
              "       'CompetitionOpenSinceYear', 'Promo2', 'Promo2SinceWeek',\n",
              "       'Promo2SinceYear', 'PromoInterval'],\n",
              "      dtype='object')"
            ]
          },
          "metadata": {
            "tags": []
          },
          "execution_count": 7
        }
      ]
    },
    {
      "cell_type": "code",
      "metadata": {
        "id": "Is5aMWqNjiHe"
      },
      "source": [
        "#Transformando os dados de camel case para snake case\r\n",
        "\r\n",
        "#Colunas originais\r\n",
        "\r\n",
        "cols_old = ['Store', 'DayOfWeek', 'Date', 'Sales', 'Customers', 'Open', 'Promo',\r\n",
        "            'StateHoliday', 'SchoolHoliday', 'StoreType', 'Assortment',\r\n",
        "            'CompetitionDistance', 'CompetitionOpenSinceMonth',\r\n",
        "            'CompetitionOpenSinceYear', 'Promo2', 'Promo2SinceWeek',\r\n",
        "            'Promo2SinceYear', 'PromoInterval']\r\n",
        "\r\n",
        "#Mudando coluna para snake case\r\n",
        "\r\n",
        "snakecase = lambda x: inflection.underscore( x )\r\n",
        "\r\n",
        "cols_new = list( map( snakecase, cols_old ) )\r\n",
        "\r\n",
        "#Rename\r\n",
        "\r\n",
        "df1.columns = cols_new"
      ],
      "execution_count": 15,
      "outputs": []
    },
    {
      "cell_type": "code",
      "metadata": {
        "colab": {
          "base_uri": "https://localhost:8080/"
        },
        "id": "B6wOqT3Kkd0t",
        "outputId": "b0e67814-b75a-4acc-f9d6-de49279a4a25"
      },
      "source": [
        "df1.columns"
      ],
      "execution_count": 16,
      "outputs": [
        {
          "output_type": "execute_result",
          "data": {
            "text/plain": [
              "Index(['store', 'day_of_week', 'date', 'sales', 'customers', 'open', 'promo',\n",
              "       'state_holiday', 'school_holiday', 'store_type', 'assortment',\n",
              "       'competition_distance', 'competition_open_since_month',\n",
              "       'competition_open_since_year', 'promo2', 'promo2_since_week',\n",
              "       'promo2_since_year', 'promo_interval'],\n",
              "      dtype='object')"
            ]
          },
          "metadata": {
            "tags": []
          },
          "execution_count": 16
        }
      ]
    },
    {
      "cell_type": "markdown",
      "metadata": {
        "id": "CTTqcg8xYOYm"
      },
      "source": [
        "### 1.2 Data Dimensions"
      ]
    },
    {
      "cell_type": "code",
      "metadata": {
        "colab": {
          "base_uri": "https://localhost:8080/"
        },
        "id": "SWAzHDsTvguz",
        "outputId": "88f30e05-43d2-48b2-af08-843e26919f36"
      },
      "source": [
        "print( f'Number of Rows: { df1.shape[0] }')\r\n",
        "print( f'Number of Columns: { df1.shape[1] }')\r\n"
      ],
      "execution_count": 18,
      "outputs": [
        {
          "output_type": "stream",
          "text": [
            "Number of Rows: 1017209\n",
            "Number of Columns: 18\n"
          ],
          "name": "stdout"
        }
      ]
    },
    {
      "cell_type": "markdown",
      "metadata": {
        "id": "n_adXn1NYQHG"
      },
      "source": [
        "### 1.3 Data Types"
      ]
    },
    {
      "cell_type": "code",
      "metadata": {
        "colab": {
          "base_uri": "https://localhost:8080/"
        },
        "id": "5MnMhfRTwhvk",
        "outputId": "5c773de5-25d1-45e3-8bac-14171660ccaf"
      },
      "source": [
        "df1.dtypes"
      ],
      "execution_count": 19,
      "outputs": [
        {
          "output_type": "execute_result",
          "data": {
            "text/plain": [
              "store                             int64\n",
              "day_of_week                       int64\n",
              "date                             object\n",
              "sales                             int64\n",
              "customers                         int64\n",
              "open                              int64\n",
              "promo                             int64\n",
              "state_holiday                    object\n",
              "school_holiday                    int64\n",
              "store_type                       object\n",
              "assortment                       object\n",
              "competition_distance            float64\n",
              "competition_open_since_month    float64\n",
              "competition_open_since_year     float64\n",
              "promo2                            int64\n",
              "promo2_since_week               float64\n",
              "promo2_since_year               float64\n",
              "promo_interval                   object\n",
              "dtype: object"
            ]
          },
          "metadata": {
            "tags": []
          },
          "execution_count": 19
        }
      ]
    },
    {
      "cell_type": "code",
      "metadata": {
        "colab": {
          "base_uri": "https://localhost:8080/"
        },
        "id": "ZJnMhSQQxbc9",
        "outputId": "fade6d54-7693-43a4-deb3-8ea548d0aa0c"
      },
      "source": [
        "#Transformando a data de object para data\r\n",
        "\r\n",
        "df1['date'] = pd.to_datetime(df1['date'])\r\n",
        "df1.dtypes"
      ],
      "execution_count": 24,
      "outputs": [
        {
          "output_type": "execute_result",
          "data": {
            "text/plain": [
              "store                                    int64\n",
              "day_of_week                              int64\n",
              "date                            datetime64[ns]\n",
              "sales                                    int64\n",
              "customers                                int64\n",
              "open                                     int64\n",
              "promo                                    int64\n",
              "state_holiday                           object\n",
              "school_holiday                           int64\n",
              "store_type                              object\n",
              "assortment                              object\n",
              "competition_distance                   float64\n",
              "competition_open_since_month           float64\n",
              "competition_open_since_year            float64\n",
              "promo2                                   int64\n",
              "promo2_since_week                      float64\n",
              "promo2_since_year                      float64\n",
              "promo_interval                          object\n",
              "dtype: object"
            ]
          },
          "metadata": {
            "tags": []
          },
          "execution_count": 24
        }
      ]
    },
    {
      "cell_type": "markdown",
      "metadata": {
        "id": "N5EAHpb_YQUv"
      },
      "source": [
        "### 1.4 Check NA"
      ]
    },
    {
      "cell_type": "code",
      "metadata": {
        "colab": {
          "base_uri": "https://localhost:8080/"
        },
        "id": "IMDlUiGmzMhU",
        "outputId": "795d6519-dea5-40e4-90a2-bf6f6e8ec661"
      },
      "source": [
        "#Mostrando a soma de todas as linhas que tenha pelo menos 1 na\r\n",
        "\r\n",
        "df1.isna().sum()"
      ],
      "execution_count": 27,
      "outputs": [
        {
          "output_type": "execute_result",
          "data": {
            "text/plain": [
              "store                                0\n",
              "day_of_week                          0\n",
              "date                                 0\n",
              "sales                                0\n",
              "customers                            0\n",
              "open                                 0\n",
              "promo                                0\n",
              "state_holiday                        0\n",
              "school_holiday                       0\n",
              "store_type                           0\n",
              "assortment                           0\n",
              "competition_distance              2642\n",
              "competition_open_since_month    323348\n",
              "competition_open_since_year     323348\n",
              "promo2                               0\n",
              "promo2_since_week               508031\n",
              "promo2_since_year               508031\n",
              "promo_interval                  508031\n",
              "dtype: int64"
            ]
          },
          "metadata": {
            "tags": []
          },
          "execution_count": 27
        }
      ]
    },
    {
      "cell_type": "markdown",
      "metadata": {
        "id": "onN3Xf9ZYREI"
      },
      "source": [
        "## 1.5"
      ]
    },
    {
      "cell_type": "markdown",
      "metadata": {
        "id": "YGM8evPlYRRU"
      },
      "source": [
        "## 1.6"
      ]
    },
    {
      "cell_type": "markdown",
      "metadata": {
        "id": "reUNag0-YRcD"
      },
      "source": [
        "## 1.7"
      ]
    },
    {
      "cell_type": "markdown",
      "metadata": {
        "id": "Zx2N3yDvYP2N"
      },
      "source": [
        "## 1.8"
      ]
    }
  ]
}