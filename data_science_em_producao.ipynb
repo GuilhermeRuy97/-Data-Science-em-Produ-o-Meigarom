{
  "nbformat": 4,
  "nbformat_minor": 0,
  "metadata": {
    "colab": {
      "name": "data_science_em_producao.ipynb",
      "provenance": [],
      "authorship_tag": "ABX9TyNl5cZfDQW1oUyqtNLxIt5I",
      "include_colab_link": true
    },
    "kernelspec": {
      "name": "python3",
      "display_name": "Python 3"
    }
  },
  "cells": [
    {
      "cell_type": "markdown",
      "metadata": {
        "id": "view-in-github",
        "colab_type": "text"
      },
      "source": [
        "<a href=\"https://colab.research.google.com/github/GuilhermeRuy97/Data-Science-em-Producao-Meigarom/blob/main/data_science_em_producao.ipynb\" target=\"_parent\"><img src=\"https://colab.research.google.com/assets/colab-badge.svg\" alt=\"Open In Colab\"/></a>"
      ]
    },
    {
      "cell_type": "markdown",
      "metadata": {
        "id": "DHOt5tw2Mzhh"
      },
      "source": [
        "#Modulo 02 Video 01\r\n",
        "-Store Sales Prediction\r\n"
      ]
    },
    {
      "cell_type": "markdown",
      "metadata": {
        "id": "m9yA3BdTW6Dq"
      },
      "source": [
        "## 0.0 IMPORTS"
      ]
    },
    {
      "cell_type": "code",
      "metadata": {
        "id": "MR5X18iZj_6U"
      },
      "source": [
        "#!pip install inflection"
      ],
      "execution_count": 20,
      "outputs": []
    },
    {
      "cell_type": "code",
      "metadata": {
        "id": "AcqppZm5Ys1X"
      },
      "source": [
        "import pandas as pd\r\n",
        "import inflection\r\n",
        "import math"
      ],
      "execution_count": 32,
      "outputs": []
    },
    {
      "cell_type": "markdown",
      "metadata": {
        "id": "EK9ejN3ZYCmg"
      },
      "source": [
        "### 0.1 Helper Functions"
      ]
    },
    {
      "cell_type": "markdown",
      "metadata": {
        "id": "4_rirL9JYEx8"
      },
      "source": [
        "### 0.2 Loading Data"
      ]
    },
    {
      "cell_type": "code",
      "metadata": {
        "id": "DQeaFj4ZYfV6"
      },
      "source": [
        "df_sales_raw = pd.read_csv( 'train.csv', low_memory = False)\r\n",
        "df_store_raw = pd.read_csv( 'store.csv', low_memory = False)\r\n",
        "\r\n",
        "#Fazendo um merge dos arquivos guardando em \"store\"\r\n",
        "\r\n",
        "df_raw = pd.merge( df_sales_raw, df_store_raw, how = 'left', on = 'Store' )"
      ],
      "execution_count": 22,
      "outputs": []
    },
    {
      "cell_type": "code",
      "metadata": {
        "colab": {
          "base_uri": "https://localhost:8080/",
          "height": 0
        },
        "id": "42AAwWAIikre",
        "outputId": "64b98165-aa74-43c9-ee4c-a39401e5f4fd"
      },
      "source": [
        "df_raw.sample()"
      ],
      "execution_count": 23,
      "outputs": [
        {
          "output_type": "execute_result",
          "data": {
            "text/html": [
              "<div>\n",
              "<style scoped>\n",
              "    .dataframe tbody tr th:only-of-type {\n",
              "        vertical-align: middle;\n",
              "    }\n",
              "\n",
              "    .dataframe tbody tr th {\n",
              "        vertical-align: top;\n",
              "    }\n",
              "\n",
              "    .dataframe thead th {\n",
              "        text-align: right;\n",
              "    }\n",
              "</style>\n",
              "<table border=\"1\" class=\"dataframe\">\n",
              "  <thead>\n",
              "    <tr style=\"text-align: right;\">\n",
              "      <th></th>\n",
              "      <th>Store</th>\n",
              "      <th>DayOfWeek</th>\n",
              "      <th>Date</th>\n",
              "      <th>Sales</th>\n",
              "      <th>Customers</th>\n",
              "      <th>Open</th>\n",
              "      <th>Promo</th>\n",
              "      <th>StateHoliday</th>\n",
              "      <th>SchoolHoliday</th>\n",
              "      <th>StoreType</th>\n",
              "      <th>Assortment</th>\n",
              "      <th>CompetitionDistance</th>\n",
              "      <th>CompetitionOpenSinceMonth</th>\n",
              "      <th>CompetitionOpenSinceYear</th>\n",
              "      <th>Promo2</th>\n",
              "      <th>Promo2SinceWeek</th>\n",
              "      <th>Promo2SinceYear</th>\n",
              "      <th>PromoInterval</th>\n",
              "    </tr>\n",
              "  </thead>\n",
              "  <tbody>\n",
              "    <tr>\n",
              "      <th>642132</th>\n",
              "      <td>678</td>\n",
              "      <td>2</td>\n",
              "      <td>2013-12-03</td>\n",
              "      <td>9328</td>\n",
              "      <td>1019</td>\n",
              "      <td>1</td>\n",
              "      <td>1</td>\n",
              "      <td>0</td>\n",
              "      <td>0</td>\n",
              "      <td>c</td>\n",
              "      <td>a</td>\n",
              "      <td>3250.0</td>\n",
              "      <td>NaN</td>\n",
              "      <td>NaN</td>\n",
              "      <td>1</td>\n",
              "      <td>40.0</td>\n",
              "      <td>2011.0</td>\n",
              "      <td>Jan,Apr,Jul,Oct</td>\n",
              "    </tr>\n",
              "  </tbody>\n",
              "</table>\n",
              "</div>"
            ],
            "text/plain": [
              "        Store  DayOfWeek  ... Promo2SinceYear    PromoInterval\n",
              "642132    678          2  ...          2011.0  Jan,Apr,Jul,Oct\n",
              "\n",
              "[1 rows x 18 columns]"
            ]
          },
          "metadata": {
            "tags": []
          },
          "execution_count": 23
        }
      ]
    },
    {
      "cell_type": "markdown",
      "metadata": {
        "id": "Q8Mnj8c5W-Qk"
      },
      "source": [
        "## 1.0 DESCRICAO DOS DADOS"
      ]
    },
    {
      "cell_type": "code",
      "metadata": {
        "id": "N1FoLPXYjT-Y"
      },
      "source": [
        "#É interessante fazer uma cópia dos dados ao mudar de sessão para resgatá-los no futuro.\r\n",
        "\r\n",
        "df1 = df_raw.copy()"
      ],
      "execution_count": 24,
      "outputs": []
    },
    {
      "cell_type": "markdown",
      "metadata": {
        "id": "YScQU4U4YMNR"
      },
      "source": [
        "### 1.1 Rename Columns"
      ]
    },
    {
      "cell_type": "code",
      "metadata": {
        "colab": {
          "base_uri": "https://localhost:8080/"
        },
        "id": "MfGYlH7VjSir",
        "outputId": "048f21f4-ab61-4219-f87a-aeb89bc4bc68"
      },
      "source": [
        "#Nem sempre os dados vem com nomes adequados para o desenvolvimento dos algoritmos;\r\n",
        "#Neste caso é mais controlado pois são dados do kaggle.\r\n",
        "\r\n",
        "df_raw.columns"
      ],
      "execution_count": 25,
      "outputs": [
        {
          "output_type": "execute_result",
          "data": {
            "text/plain": [
              "Index(['Store', 'DayOfWeek', 'Date', 'Sales', 'Customers', 'Open', 'Promo',\n",
              "       'StateHoliday', 'SchoolHoliday', 'StoreType', 'Assortment',\n",
              "       'CompetitionDistance', 'CompetitionOpenSinceMonth',\n",
              "       'CompetitionOpenSinceYear', 'Promo2', 'Promo2SinceWeek',\n",
              "       'Promo2SinceYear', 'PromoInterval'],\n",
              "      dtype='object')"
            ]
          },
          "metadata": {
            "tags": []
          },
          "execution_count": 25
        }
      ]
    },
    {
      "cell_type": "code",
      "metadata": {
        "id": "Is5aMWqNjiHe"
      },
      "source": [
        "#Transformando os dados de camel case para snake case\r\n",
        "\r\n",
        "#Colunas originais\r\n",
        "\r\n",
        "cols_old = ['Store', 'DayOfWeek', 'Date', 'Sales', 'Customers', 'Open', 'Promo',\r\n",
        "            'StateHoliday', 'SchoolHoliday', 'StoreType', 'Assortment',\r\n",
        "            'CompetitionDistance', 'CompetitionOpenSinceMonth',\r\n",
        "            'CompetitionOpenSinceYear', 'Promo2', 'Promo2SinceWeek',\r\n",
        "            'Promo2SinceYear', 'PromoInterval']\r\n",
        "\r\n",
        "#Mudando coluna para snake case\r\n",
        "\r\n",
        "snakecase = lambda x: inflection.underscore( x )\r\n",
        "\r\n",
        "cols_new = list( map( snakecase, cols_old ) )\r\n",
        "\r\n",
        "#Rename\r\n",
        "\r\n",
        "df1.columns = cols_new"
      ],
      "execution_count": 26,
      "outputs": []
    },
    {
      "cell_type": "code",
      "metadata": {
        "colab": {
          "base_uri": "https://localhost:8080/"
        },
        "id": "B6wOqT3Kkd0t",
        "outputId": "8bebcdc7-1757-4ce6-8804-daf3c63e9eb0"
      },
      "source": [
        "df1.columns"
      ],
      "execution_count": 27,
      "outputs": [
        {
          "output_type": "execute_result",
          "data": {
            "text/plain": [
              "Index(['store', 'day_of_week', 'date', 'sales', 'customers', 'open', 'promo',\n",
              "       'state_holiday', 'school_holiday', 'store_type', 'assortment',\n",
              "       'competition_distance', 'competition_open_since_month',\n",
              "       'competition_open_since_year', 'promo2', 'promo2_since_week',\n",
              "       'promo2_since_year', 'promo_interval'],\n",
              "      dtype='object')"
            ]
          },
          "metadata": {
            "tags": []
          },
          "execution_count": 27
        }
      ]
    },
    {
      "cell_type": "markdown",
      "metadata": {
        "id": "CTTqcg8xYOYm"
      },
      "source": [
        "### 1.2 Data Dimensions"
      ]
    },
    {
      "cell_type": "code",
      "metadata": {
        "colab": {
          "base_uri": "https://localhost:8080/"
        },
        "id": "SWAzHDsTvguz",
        "outputId": "b1479e5c-c08d-4c4c-c853-f5b6e3147ef0"
      },
      "source": [
        "print( f'Number of Rows: { df1.shape[0] }')\r\n",
        "print( f'Number of Columns: { df1.shape[1] }')\r\n"
      ],
      "execution_count": 28,
      "outputs": [
        {
          "output_type": "stream",
          "text": [
            "Number of Rows: 1017209\n",
            "Number of Columns: 18\n"
          ],
          "name": "stdout"
        }
      ]
    },
    {
      "cell_type": "markdown",
      "metadata": {
        "id": "n_adXn1NYQHG"
      },
      "source": [
        "### 1.3 Data Types"
      ]
    },
    {
      "cell_type": "code",
      "metadata": {
        "colab": {
          "base_uri": "https://localhost:8080/"
        },
        "id": "5MnMhfRTwhvk",
        "outputId": "a7c73da2-0567-483b-a640-8875fa5c45e0"
      },
      "source": [
        "df1.dtypes"
      ],
      "execution_count": 29,
      "outputs": [
        {
          "output_type": "execute_result",
          "data": {
            "text/plain": [
              "store                             int64\n",
              "day_of_week                       int64\n",
              "date                             object\n",
              "sales                             int64\n",
              "customers                         int64\n",
              "open                              int64\n",
              "promo                             int64\n",
              "state_holiday                    object\n",
              "school_holiday                    int64\n",
              "store_type                       object\n",
              "assortment                       object\n",
              "competition_distance            float64\n",
              "competition_open_since_month    float64\n",
              "competition_open_since_year     float64\n",
              "promo2                            int64\n",
              "promo2_since_week               float64\n",
              "promo2_since_year               float64\n",
              "promo_interval                   object\n",
              "dtype: object"
            ]
          },
          "metadata": {
            "tags": []
          },
          "execution_count": 29
        }
      ]
    },
    {
      "cell_type": "code",
      "metadata": {
        "colab": {
          "base_uri": "https://localhost:8080/"
        },
        "id": "ZJnMhSQQxbc9",
        "outputId": "62194e07-d3da-43fe-913a-9ea58228d2ae"
      },
      "source": [
        "#Transformando a data de object para data\r\n",
        "\r\n",
        "df1['date'] = pd.to_datetime(df1['date'])\r\n",
        "df1.dtypes"
      ],
      "execution_count": 30,
      "outputs": [
        {
          "output_type": "execute_result",
          "data": {
            "text/plain": [
              "store                                    int64\n",
              "day_of_week                              int64\n",
              "date                            datetime64[ns]\n",
              "sales                                    int64\n",
              "customers                                int64\n",
              "open                                     int64\n",
              "promo                                    int64\n",
              "state_holiday                           object\n",
              "school_holiday                           int64\n",
              "store_type                              object\n",
              "assortment                              object\n",
              "competition_distance                   float64\n",
              "competition_open_since_month           float64\n",
              "competition_open_since_year            float64\n",
              "promo2                                   int64\n",
              "promo2_since_week                      float64\n",
              "promo2_since_year                      float64\n",
              "promo_interval                          object\n",
              "dtype: object"
            ]
          },
          "metadata": {
            "tags": []
          },
          "execution_count": 30
        }
      ]
    },
    {
      "cell_type": "markdown",
      "metadata": {
        "id": "N5EAHpb_YQUv"
      },
      "source": [
        "### 1.4 Check NA"
      ]
    },
    {
      "cell_type": "code",
      "metadata": {
        "colab": {
          "base_uri": "https://localhost:8080/"
        },
        "id": "IMDlUiGmzMhU",
        "outputId": "d6a15a91-c4e0-4275-cdbf-a81f373c75ec"
      },
      "source": [
        "#Mostrando a soma de todas as linhas que tenha pelo menos 1 na\r\n",
        "\r\n",
        "df1.isna().sum()"
      ],
      "execution_count": 31,
      "outputs": [
        {
          "output_type": "execute_result",
          "data": {
            "text/plain": [
              "store                                0\n",
              "day_of_week                          0\n",
              "date                                 0\n",
              "sales                                0\n",
              "customers                            0\n",
              "open                                 0\n",
              "promo                                0\n",
              "state_holiday                        0\n",
              "school_holiday                       0\n",
              "store_type                           0\n",
              "assortment                           0\n",
              "competition_distance              2642\n",
              "competition_open_since_month    323348\n",
              "competition_open_since_year     323348\n",
              "promo2                               0\n",
              "promo2_since_week               508031\n",
              "promo2_since_year               508031\n",
              "promo_interval                  508031\n",
              "dtype: int64"
            ]
          },
          "metadata": {
            "tags": []
          },
          "execution_count": 31
        }
      ]
    },
    {
      "cell_type": "markdown",
      "metadata": {
        "id": "onN3Xf9ZYREI"
      },
      "source": [
        "### 1.5 Fillout NA"
      ]
    },
    {
      "cell_type": "code",
      "metadata": {
        "id": "SalV_THQgOj5"
      },
      "source": [
        "df1['competition_distance'.max]"
      ],
      "execution_count": null,
      "outputs": []
    },
    {
      "cell_type": "code",
      "metadata": {
        "id": "Gu7jgPyEejna"
      },
      "source": [
        "# competition_distance\r\n",
        "# Trocando o valor em NA pelo maior valor:\r\n",
        "df1['competition_distance'] = df1['competition_distance'].apply( lambda x: 200000.0 if math.isnan(x) else x)\r\n",
        "\r\n",
        "# competition_open_since_month    \r\n",
        "# Trocando a data de \"competição desde o mes\" pela data de venda da ultima compra\r\n",
        "df1['competition_open_since_month'] = df1.apply( lambda x: x['date'].month if math.isnan( x['competition_open_since_month'] ) else x['competition_open_since_month'], axis = 1)\r\n",
        "\r\n",
        "# competition_open_since_year     \r\n",
        "# Mesmo processo do mes para o ano\r\n",
        "df1['competition_open_since_year'] = df1.apply( lambda x: x['date'].year if math.isnan( x['competition_open_since_year'] ) else x['competition_open_since_year'], axis = 1)\r\n",
        "\r\n",
        "# promo2                               \r\n",
        "# promo2_since_week               \r\n",
        "df1['promo2_since_week'] = df1.apply( lambda x: x['date'].week if math.isnan( x['promo2_since_week'] ) else x['promo2_since_week'], axis = 1)\r\n",
        "\r\n",
        "# promo2_since_year               \r\n",
        "df1['promo2_since_year'] = df1.apply( lambda x: x['date'].year if math.isnan( x['promo2_since_year'] ) else x['promo2_since_year'], axis = 1)\r\n",
        "\r\n",
        "# promo_interval                  \r\n",
        "month_map = {\r\n",
        "1: 'Jan', \r\n",
        "2: 'Feb', \r\n",
        "3: 'Mar', \r\n",
        "4: 'Apr', \r\n",
        "5: 'May', \r\n",
        "6: 'Jun', \r\n",
        "7: 'Jul', \r\n",
        "8: 'Ago', \r\n",
        "9: 'Sep', \r\n",
        "10: 'Oct', \r\n",
        "11: 'Nov', \r\n",
        "12: 'Dec' }\r\n",
        "\r\n",
        "df1['promo_interval'].fillna(0, inplace = True)\r\n",
        "\r\n",
        "df1['month_map'] = df1['date'].dt.month.map( month_map )\r\n",
        "\r\n",
        "df1['is_promo'] = df1[['promo_interval', 'month_map']].apply( lambda x: 0 if x['promo_interval'] == 0 else 1 if x['month_map'] in x['promo_interval'].split(',') else 0, axis = 1 )"
      ],
      "execution_count": 44,
      "outputs": []
    },
    {
      "cell_type": "code",
      "metadata": {
        "id": "y1hOA0Y6ht4O",
        "outputId": "029e3592-f490-4965-b417-c1db8995f346",
        "colab": {
          "base_uri": "https://localhost:8080/"
        }
      },
      "source": [
        "#Repare que a soma agora de NA's é 0\r\n",
        "\r\n",
        "df1.isna().sum()"
      ],
      "execution_count": 45,
      "outputs": [
        {
          "output_type": "execute_result",
          "data": {
            "text/plain": [
              "store                           0\n",
              "day_of_week                     0\n",
              "date                            0\n",
              "sales                           0\n",
              "customers                       0\n",
              "open                            0\n",
              "promo                           0\n",
              "state_holiday                   0\n",
              "school_holiday                  0\n",
              "store_type                      0\n",
              "assortment                      0\n",
              "competition_distance            0\n",
              "competition_open_since_month    0\n",
              "competition_open_since_year     0\n",
              "promo2                          0\n",
              "promo2_since_week               0\n",
              "promo2_since_year               0\n",
              "promo_interval                  0\n",
              "month_map                       0\n",
              "is_promo                        0\n",
              "dtype: int64"
            ]
          },
          "metadata": {
            "tags": []
          },
          "execution_count": 45
        }
      ]
    },
    {
      "cell_type": "markdown",
      "metadata": {
        "id": "YGM8evPlYRRU"
      },
      "source": [
        "## 1.6"
      ]
    },
    {
      "cell_type": "markdown",
      "metadata": {
        "id": "reUNag0-YRcD"
      },
      "source": [
        "## 1.7"
      ]
    },
    {
      "cell_type": "markdown",
      "metadata": {
        "id": "Zx2N3yDvYP2N"
      },
      "source": [
        "## 1.8"
      ]
    }
  ]
}