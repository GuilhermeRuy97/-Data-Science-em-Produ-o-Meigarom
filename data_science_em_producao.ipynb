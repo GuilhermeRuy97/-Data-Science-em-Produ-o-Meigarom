{
  "nbformat": 4,
  "nbformat_minor": 0,
  "metadata": {
    "colab": {
      "name": "data_science_em_producao.ipynb",
      "provenance": [],
      "collapsed_sections": [
        "m9yA3BdTW6Dq",
        "4_rirL9JYEx8",
        "Q8Mnj8c5W-Qk",
        "reUNag0-YRcD",
        "Bx9f7RqAx6CW",
        "3kA806qD4Eeh",
        "Zx2N3yDvYP2N",
        "Zce5gxvzcqcy",
        "XlumoNVS2BFL",
        "yCw7ObLyR51Y",
        "PP1OJIO2sndh",
        "p8xvYgaes7Kj"
      ],
      "mount_file_id": "https://github.com/GuilhermeRuy97/Data-Science-em-Producao-Meigarom/blob/main/data_science_em_producao.ipynb",
      "authorship_tag": "ABX9TyMgJFo51icUagFlj/Vcp/D8",
      "include_colab_link": true
    },
    "kernelspec": {
      "name": "python3",
      "display_name": "Python 3"
    }
  },
  "cells": [
    {
      "cell_type": "markdown",
      "metadata": {
        "id": "view-in-github",
        "colab_type": "text"
      },
      "source": [
        "<a href=\"https://colab.research.google.com/github/GuilhermeRuy97/Data-Science-em-Producao-Meigarom/blob/main/data_science_em_producao.ipynb\" target=\"_parent\"><img src=\"https://colab.research.google.com/assets/colab-badge.svg\" alt=\"Open In Colab\"/></a>"
      ]
    },
    {
      "cell_type": "markdown",
      "metadata": {
        "id": "DHOt5tw2Mzhh"
      },
      "source": [
        "-Store Sales Prediction\n"
      ]
    },
    {
      "cell_type": "markdown",
      "metadata": {
        "id": "m9yA3BdTW6Dq"
      },
      "source": [
        "## 0.0 IMPORTS"
      ]
    },
    {
      "cell_type": "code",
      "metadata": {
        "id": "MR5X18iZj_6U",
        "colab": {
          "base_uri": "https://localhost:8080/"
        },
        "outputId": "a3ff1aef-bd19-4754-ddba-7a189d456152"
      },
      "source": [
        "!pip install inflection\n",
        "!pip install boruta"
      ],
      "execution_count": 1,
      "outputs": [
        {
          "output_type": "stream",
          "text": [
            "Collecting inflection\n",
            "  Downloading https://files.pythonhosted.org/packages/59/91/aa6bde563e0085a02a435aa99b49ef75b0a4b062635e606dab23ce18d720/inflection-0.5.1-py2.py3-none-any.whl\n",
            "Installing collected packages: inflection\n",
            "Successfully installed inflection-0.5.1\n",
            "Collecting boruta\n",
            "\u001b[?25l  Downloading https://files.pythonhosted.org/packages/b2/11/583f4eac99d802c79af9217e1eff56027742a69e6c866b295cce6a5a8fc2/Boruta-0.3-py3-none-any.whl (56kB)\n",
            "\u001b[K     |████████████████████████████████| 61kB 2.8MB/s \n",
            "\u001b[?25hRequirement already satisfied: numpy>=1.10.4 in /usr/local/lib/python3.7/dist-packages (from boruta) (1.19.5)\n",
            "Requirement already satisfied: scikit-learn>=0.17.1 in /usr/local/lib/python3.7/dist-packages (from boruta) (0.22.2.post1)\n",
            "Requirement already satisfied: scipy>=0.17.0 in /usr/local/lib/python3.7/dist-packages (from boruta) (1.4.1)\n",
            "Requirement already satisfied: joblib>=0.11 in /usr/local/lib/python3.7/dist-packages (from scikit-learn>=0.17.1->boruta) (1.0.1)\n",
            "Installing collected packages: boruta\n",
            "Successfully installed boruta-0.3\n"
          ],
          "name": "stdout"
        }
      ]
    },
    {
      "cell_type": "code",
      "metadata": {
        "id": "AcqppZm5Ys1X"
      },
      "source": [
        "import pandas              as pd\n",
        "import inflection\n",
        "import math\n",
        "import numpy               as np\n",
        "import seaborn             as sns\n",
        "import datetime\n",
        "import matplotlib\n",
        "import matplotlib.pyplot   as plt\n",
        "import matplotlib.gridspec as gridspec\n",
        "import xgboost as xgb\n",
        "\n",
        "from boruta                import BorutaPy\n",
        "from IPython.core.display  import HTML\n",
        "from IPython.display       import Image\n",
        "from scipy                 import stats  as ss\n",
        "from sklearn.preprocessing import RobustScaler, MinMaxScaler, LabelEncoder\n",
        "from sklearn.ensemble      import RandomForestRegressor\n",
        "from sklearn.metrics       import mean_absolute_error, mean_squared_error\n",
        "from sklearn.linear_model  import LinearRegression, Lasso"
      ],
      "execution_count": 88,
      "outputs": []
    },
    {
      "cell_type": "markdown",
      "metadata": {
        "id": "EK9ejN3ZYCmg"
      },
      "source": [
        "### 0.1 Helper Functions"
      ]
    },
    {
      "cell_type": "code",
      "metadata": {
        "id": "Z10e_lM_wbDb"
      },
      "source": [
        "#Lembrando que cm = \"matriz de confusão\"\n",
        "#Usa-se o \"chi quadrado tio\" para corrigir o BIAS da função chi\n",
        "\n",
        "def cramer_v( x, y ):\n",
        "    cm = pd.crosstab( x, y ).values\n",
        "    n = cm.sum()\n",
        "    r, k = cm.shape\n",
        "    \n",
        "    chi2 = ss.chi2_contingency( cm )[0]\n",
        "    chi2corr = max( 0, chi2 - (k-1)*(r-1)/(n-1) )\n",
        "    \n",
        "    kcorr = k - (k-1)**2/(n-1)\n",
        "    rcorr = r - (r-1)**2/(n-1)\n",
        "    \n",
        "    return np.sqrt( (chi2corr/n) / ( min( kcorr-1, rcorr-1 ) ) )\n",
        "\n",
        "def mean_percentage_error( y, yhat ):\n",
        "    return np.mean( ( y - yhat ) / y )\n",
        "       \n",
        "def mean_absolute_percentage_error( y, yhat ):\n",
        "    return np.mean( np.abs( ( y - yhat ) / y ) )\n",
        "\n",
        "def ml_error( model_name, y, yhat ):\n",
        "    mae = mean_absolute_error( y, yhat )\n",
        "    mape = mean_absolute_percentage_error( y, yhat )\n",
        "    rmse = np.sqrt( mean_squared_error( y, yhat ) )\n",
        "    \n",
        "    return pd.DataFrame( { 'Model Name': model_name, \n",
        "                           'MAE': mae, \n",
        "                           'MAPE': mape,\n",
        "                           'RMSE': rmse }, index=[0] )\n",
        "  \n",
        "def cross_validation( x_training, kfold, model_name, model, verbose=False ):\n",
        "    mae_list = []\n",
        "    mape_list = []\n",
        "    rmse_list = []\n",
        "    for k in reversed( range( 1, kfold+1 ) ):\n",
        "        if verbose:\n",
        "            print( '\\nKFold Number: {}'.format( k ) )\n",
        "        # start and end date for validation \n",
        "        validation_start_date = x_training['date'].max() - datetime.timedelta( days=k*6*7)\n",
        "        validation_end_date = x_training['date'].max() - datetime.timedelta( days=(k-1)*6*7)\n",
        "\n",
        "        # filtering dataset\n",
        "        training = x_training[x_training['date'] < validation_start_date]\n",
        "        validation = x_training[(x_training['date'] >= validation_start_date) & (x_training['date'] <= validation_end_date)]\n",
        "\n",
        "        # training and validation dataset\n",
        "        # training\n",
        "        xtraining = training.drop( ['date', 'sales'], axis=1 ) \n",
        "        ytraining = training['sales']\n",
        "\n",
        "        # validation\n",
        "        xvalidation = validation.drop( ['date', 'sales'], axis=1 )\n",
        "        yvalidation = validation['sales']\n",
        "\n",
        "        # model\n",
        "        m = model.fit( xtraining, ytraining )\n",
        "\n",
        "        # prediction\n",
        "        yhat = m.predict( xvalidation )\n",
        "\n",
        "        # performance\n",
        "        m_result = ml_error( model_name, np.expm1( yvalidation ), np.expm1( yhat ) )\n",
        "\n",
        "        # store performance of each kfold iteration\n",
        "        mae_list.append(  m_result['MAE'] )\n",
        "        mape_list.append( m_result['MAPE'] )\n",
        "        rmse_list.append( m_result['RMSE'] )\n",
        "\n",
        "    return pd.DataFrame( {'Model Name': model_name,\n",
        "                          'MAE CV': np.round( np.mean( mae_list ), 2 ).astype( str ) + ' +/- ' + np.round( np.std( mae_list ), 2 ).astype( str ),\n",
        "                          'MAPE CV': np.round( np.mean( mape_list ), 2 ).astype( str ) + ' +/- ' + np.round( np.std( mape_list ), 2 ).astype( str ),\n",
        "                          'RMSE CV': np.round( np.mean( rmse_list ), 2 ).astype( str ) + ' +/- ' + np.round( np.std( rmse_list ), 2 ).astype( str ) }, index=[0] )\n"
      ],
      "execution_count": 83,
      "outputs": []
    },
    {
      "cell_type": "markdown",
      "metadata": {
        "id": "4_rirL9JYEx8"
      },
      "source": [
        "### 0.2 Loading Data"
      ]
    },
    {
      "cell_type": "code",
      "metadata": {
        "id": "DQeaFj4ZYfV6"
      },
      "source": [
        "df_sales_raw = pd.read_csv( '/content/drive/MyDrive/Colab Notebooks/DS em produção/dados/train.csv', low_memory = False)\n",
        "df_store_raw = pd.read_csv( '/content/drive/MyDrive/Colab Notebooks/DS em produção/dados/store.csv', low_memory = False)\n",
        "\n",
        "#Fazendo um merge dos arquivos guardando em \"store\"\n",
        "\n",
        "df_raw = pd.merge( df_sales_raw, df_store_raw, how = 'left', on = 'Store' )"
      ],
      "execution_count": 4,
      "outputs": []
    },
    {
      "cell_type": "code",
      "metadata": {
        "colab": {
          "base_uri": "https://localhost:8080/",
          "height": 0
        },
        "id": "42AAwWAIikre",
        "outputId": "7d4b4b8a-ad2f-4945-8383-30b323b819a0"
      },
      "source": [
        "df_raw.sample()"
      ],
      "execution_count": 5,
      "outputs": [
        {
          "output_type": "execute_result",
          "data": {
            "text/html": [
              "<div>\n",
              "<style scoped>\n",
              "    .dataframe tbody tr th:only-of-type {\n",
              "        vertical-align: middle;\n",
              "    }\n",
              "\n",
              "    .dataframe tbody tr th {\n",
              "        vertical-align: top;\n",
              "    }\n",
              "\n",
              "    .dataframe thead th {\n",
              "        text-align: right;\n",
              "    }\n",
              "</style>\n",
              "<table border=\"1\" class=\"dataframe\">\n",
              "  <thead>\n",
              "    <tr style=\"text-align: right;\">\n",
              "      <th></th>\n",
              "      <th>Store</th>\n",
              "      <th>DayOfWeek</th>\n",
              "      <th>Date</th>\n",
              "      <th>Sales</th>\n",
              "      <th>Customers</th>\n",
              "      <th>Open</th>\n",
              "      <th>Promo</th>\n",
              "      <th>StateHoliday</th>\n",
              "      <th>SchoolHoliday</th>\n",
              "      <th>StoreType</th>\n",
              "      <th>Assortment</th>\n",
              "      <th>CompetitionDistance</th>\n",
              "      <th>CompetitionOpenSinceMonth</th>\n",
              "      <th>CompetitionOpenSinceYear</th>\n",
              "      <th>Promo2</th>\n",
              "      <th>Promo2SinceWeek</th>\n",
              "      <th>Promo2SinceYear</th>\n",
              "      <th>PromoInterval</th>\n",
              "    </tr>\n",
              "  </thead>\n",
              "  <tbody>\n",
              "    <tr>\n",
              "      <th>991030</th>\n",
              "      <td>581</td>\n",
              "      <td>4</td>\n",
              "      <td>2013-01-24</td>\n",
              "      <td>5842</td>\n",
              "      <td>613</td>\n",
              "      <td>1</td>\n",
              "      <td>1</td>\n",
              "      <td>0</td>\n",
              "      <td>0</td>\n",
              "      <td>a</td>\n",
              "      <td>a</td>\n",
              "      <td>7250.0</td>\n",
              "      <td>12.0</td>\n",
              "      <td>2013.0</td>\n",
              "      <td>0</td>\n",
              "      <td>NaN</td>\n",
              "      <td>NaN</td>\n",
              "      <td>NaN</td>\n",
              "    </tr>\n",
              "  </tbody>\n",
              "</table>\n",
              "</div>"
            ],
            "text/plain": [
              "        Store  DayOfWeek  ... Promo2SinceYear  PromoInterval\n",
              "991030    581          4  ...             NaN            NaN\n",
              "\n",
              "[1 rows x 18 columns]"
            ]
          },
          "metadata": {
            "tags": []
          },
          "execution_count": 5
        }
      ]
    },
    {
      "cell_type": "markdown",
      "metadata": {
        "id": "Q8Mnj8c5W-Qk"
      },
      "source": [
        "# 1.0 PASSO 01 - DESCRICAO DOS DADOS"
      ]
    },
    {
      "cell_type": "code",
      "metadata": {
        "id": "N1FoLPXYjT-Y"
      },
      "source": [
        "#É interessante fazer uma cópia dos dados ao mudar de sessão para resgatá-los no futuro.\n",
        "\n",
        "df1 = df_raw.copy()"
      ],
      "execution_count": 6,
      "outputs": []
    },
    {
      "cell_type": "markdown",
      "metadata": {
        "id": "YScQU4U4YMNR"
      },
      "source": [
        "### 1.1 Rename Columns"
      ]
    },
    {
      "cell_type": "code",
      "metadata": {
        "colab": {
          "base_uri": "https://localhost:8080/"
        },
        "id": "MfGYlH7VjSir",
        "outputId": "73b5e496-16a9-4c35-835f-77b446b07196"
      },
      "source": [
        "#Nem sempre os dados vem com nomes adequados para o desenvolvimento dos algoritmos;\n",
        "#Neste caso é mais controlado pois são dados do kaggle.\n",
        "\n",
        "df_raw.columns"
      ],
      "execution_count": 7,
      "outputs": [
        {
          "output_type": "execute_result",
          "data": {
            "text/plain": [
              "Index(['Store', 'DayOfWeek', 'Date', 'Sales', 'Customers', 'Open', 'Promo',\n",
              "       'StateHoliday', 'SchoolHoliday', 'StoreType', 'Assortment',\n",
              "       'CompetitionDistance', 'CompetitionOpenSinceMonth',\n",
              "       'CompetitionOpenSinceYear', 'Promo2', 'Promo2SinceWeek',\n",
              "       'Promo2SinceYear', 'PromoInterval'],\n",
              "      dtype='object')"
            ]
          },
          "metadata": {
            "tags": []
          },
          "execution_count": 7
        }
      ]
    },
    {
      "cell_type": "code",
      "metadata": {
        "id": "Is5aMWqNjiHe"
      },
      "source": [
        "#Transformando os dados de camel case para snake case\n",
        "\n",
        "#Colunas originais\n",
        "\n",
        "cols_old = ['Store', 'DayOfWeek', 'Date', 'Sales', 'Customers', 'Open', 'Promo',\n",
        "            'StateHoliday', 'SchoolHoliday', 'StoreType', 'Assortment',\n",
        "            'CompetitionDistance', 'CompetitionOpenSinceMonth',\n",
        "            'CompetitionOpenSinceYear', 'Promo2', 'Promo2SinceWeek',\n",
        "            'Promo2SinceYear', 'PromoInterval']\n",
        "\n",
        "#Mudando coluna para snake case\n",
        "\n",
        "snakecase = lambda x: inflection.underscore( x )\n",
        "\n",
        "cols_new = list( map( snakecase, cols_old ) )\n",
        "\n",
        "#Rename\n",
        "\n",
        "df1.columns = cols_new"
      ],
      "execution_count": 8,
      "outputs": []
    },
    {
      "cell_type": "code",
      "metadata": {
        "colab": {
          "base_uri": "https://localhost:8080/"
        },
        "id": "B6wOqT3Kkd0t",
        "outputId": "c4ebc181-c3b1-4d47-ba1c-c4c5f680c055"
      },
      "source": [
        "df1.columns"
      ],
      "execution_count": 9,
      "outputs": [
        {
          "output_type": "execute_result",
          "data": {
            "text/plain": [
              "Index(['store', 'day_of_week', 'date', 'sales', 'customers', 'open', 'promo',\n",
              "       'state_holiday', 'school_holiday', 'store_type', 'assortment',\n",
              "       'competition_distance', 'competition_open_since_month',\n",
              "       'competition_open_since_year', 'promo2', 'promo2_since_week',\n",
              "       'promo2_since_year', 'promo_interval'],\n",
              "      dtype='object')"
            ]
          },
          "metadata": {
            "tags": []
          },
          "execution_count": 9
        }
      ]
    },
    {
      "cell_type": "markdown",
      "metadata": {
        "id": "CTTqcg8xYOYm"
      },
      "source": [
        "### 1.2 Data Dimensions"
      ]
    },
    {
      "cell_type": "code",
      "metadata": {
        "colab": {
          "base_uri": "https://localhost:8080/"
        },
        "id": "SWAzHDsTvguz",
        "outputId": "7096a0db-91f8-4d7f-8b3f-b14ecbd4d064"
      },
      "source": [
        "print( f'Number of Rows: { df1.shape[0] }')\n",
        "print( f'Number of Columns: { df1.shape[1] }')\n"
      ],
      "execution_count": 10,
      "outputs": [
        {
          "output_type": "stream",
          "text": [
            "Number of Rows: 1017209\n",
            "Number of Columns: 18\n"
          ],
          "name": "stdout"
        }
      ]
    },
    {
      "cell_type": "markdown",
      "metadata": {
        "id": "n_adXn1NYQHG"
      },
      "source": [
        "### 1.3 Data Types"
      ]
    },
    {
      "cell_type": "code",
      "metadata": {
        "colab": {
          "base_uri": "https://localhost:8080/"
        },
        "id": "5MnMhfRTwhvk",
        "outputId": "4c1fd505-3381-4255-f639-a4f1e0ba6b2a"
      },
      "source": [
        "df1.dtypes"
      ],
      "execution_count": 11,
      "outputs": [
        {
          "output_type": "execute_result",
          "data": {
            "text/plain": [
              "store                             int64\n",
              "day_of_week                       int64\n",
              "date                             object\n",
              "sales                             int64\n",
              "customers                         int64\n",
              "open                              int64\n",
              "promo                             int64\n",
              "state_holiday                    object\n",
              "school_holiday                    int64\n",
              "store_type                       object\n",
              "assortment                       object\n",
              "competition_distance            float64\n",
              "competition_open_since_month    float64\n",
              "competition_open_since_year     float64\n",
              "promo2                            int64\n",
              "promo2_since_week               float64\n",
              "promo2_since_year               float64\n",
              "promo_interval                   object\n",
              "dtype: object"
            ]
          },
          "metadata": {
            "tags": []
          },
          "execution_count": 11
        }
      ]
    },
    {
      "cell_type": "code",
      "metadata": {
        "colab": {
          "base_uri": "https://localhost:8080/"
        },
        "id": "ZJnMhSQQxbc9",
        "outputId": "76caf192-42e8-44a8-9784-d3ab35cb6eb3"
      },
      "source": [
        "#Transformando a data de object para data\n",
        "\n",
        "df1['date'] = pd.to_datetime(df1['date'])\n",
        "df1.dtypes"
      ],
      "execution_count": 12,
      "outputs": [
        {
          "output_type": "execute_result",
          "data": {
            "text/plain": [
              "store                                    int64\n",
              "day_of_week                              int64\n",
              "date                            datetime64[ns]\n",
              "sales                                    int64\n",
              "customers                                int64\n",
              "open                                     int64\n",
              "promo                                    int64\n",
              "state_holiday                           object\n",
              "school_holiday                           int64\n",
              "store_type                              object\n",
              "assortment                              object\n",
              "competition_distance                   float64\n",
              "competition_open_since_month           float64\n",
              "competition_open_since_year            float64\n",
              "promo2                                   int64\n",
              "promo2_since_week                      float64\n",
              "promo2_since_year                      float64\n",
              "promo_interval                          object\n",
              "dtype: object"
            ]
          },
          "metadata": {
            "tags": []
          },
          "execution_count": 12
        }
      ]
    },
    {
      "cell_type": "markdown",
      "metadata": {
        "id": "N5EAHpb_YQUv"
      },
      "source": [
        "### 1.4 Check NA"
      ]
    },
    {
      "cell_type": "code",
      "metadata": {
        "colab": {
          "base_uri": "https://localhost:8080/"
        },
        "id": "IMDlUiGmzMhU",
        "outputId": "2fbbd7a8-0294-429f-beda-4a93c6b04bb3"
      },
      "source": [
        "#Mostrando a soma de todas as linhas que tenha pelo menos 1 na\n",
        "\n",
        "df1.isna().sum()"
      ],
      "execution_count": 13,
      "outputs": [
        {
          "output_type": "execute_result",
          "data": {
            "text/plain": [
              "store                                0\n",
              "day_of_week                          0\n",
              "date                                 0\n",
              "sales                                0\n",
              "customers                            0\n",
              "open                                 0\n",
              "promo                                0\n",
              "state_holiday                        0\n",
              "school_holiday                       0\n",
              "store_type                           0\n",
              "assortment                           0\n",
              "competition_distance              2642\n",
              "competition_open_since_month    323348\n",
              "competition_open_since_year     323348\n",
              "promo2                               0\n",
              "promo2_since_week               508031\n",
              "promo2_since_year               508031\n",
              "promo_interval                  508031\n",
              "dtype: int64"
            ]
          },
          "metadata": {
            "tags": []
          },
          "execution_count": 13
        }
      ]
    },
    {
      "cell_type": "markdown",
      "metadata": {
        "id": "onN3Xf9ZYREI"
      },
      "source": [
        "### 1.5 Fillout NA"
      ]
    },
    {
      "cell_type": "code",
      "metadata": {
        "colab": {
          "base_uri": "https://localhost:8080/"
        },
        "id": "SalV_THQgOj5",
        "outputId": "95662ecf-a0bf-4418-f059-fb3ae87e2e2b"
      },
      "source": [
        "df1['competition_distance'].max"
      ],
      "execution_count": 14,
      "outputs": [
        {
          "output_type": "execute_result",
          "data": {
            "text/plain": [
              "<bound method Series.max of 0           1270.0\n",
              "1            570.0\n",
              "2          14130.0\n",
              "3            620.0\n",
              "4          29910.0\n",
              "            ...   \n",
              "1017204     1900.0\n",
              "1017205     1880.0\n",
              "1017206     9260.0\n",
              "1017207      870.0\n",
              "1017208     5350.0\n",
              "Name: competition_distance, Length: 1017209, dtype: float64>"
            ]
          },
          "metadata": {
            "tags": []
          },
          "execution_count": 14
        }
      ]
    },
    {
      "cell_type": "code",
      "metadata": {
        "id": "Gu7jgPyEejna"
      },
      "source": [
        "# competition_distance\n",
        "# Trocando o valor em NA pelo maior valor:\n",
        "df1['competition_distance'] = df1['competition_distance'].apply( lambda x: 200000.0 if math.isnan(x) else x)\n",
        "\n",
        "# competition_open_since_month    \n",
        "# Trocando a data de \"competição desde o mes\" pela data de venda da ultima compra\n",
        "df1['competition_open_since_month'] = df1.apply( lambda x: x['date'].month if math.isnan( x['competition_open_since_month'] ) else x['competition_open_since_month'], axis = 1)\n",
        "\n",
        "# competition_open_since_year     \n",
        "# Mesmo processo do mes para o ano\n",
        "df1['competition_open_since_year'] = df1.apply( lambda x: x['date'].year if math.isnan( x['competition_open_since_year'] ) else x['competition_open_since_year'], axis = 1)\n",
        "\n",
        "# promo2                               \n",
        "# promo2_since_week               \n",
        "df1['promo2_since_week'] = df1.apply( lambda x: x['date'].week if math.isnan( x['promo2_since_week'] ) else x['promo2_since_week'], axis = 1)\n",
        "\n",
        "# promo2_since_year               \n",
        "df1['promo2_since_year'] = df1.apply( lambda x: x['date'].year if math.isnan( x['promo2_since_year'] ) else x['promo2_since_year'], axis = 1)\n",
        "\n",
        "# promo_interval                  \n",
        "month_map = {\n",
        "1: 'Jan', \n",
        "2: 'Feb', \n",
        "3: 'Mar', \n",
        "4: 'Apr', \n",
        "5: 'May', \n",
        "6: 'Jun', \n",
        "7: 'Jul', \n",
        "8: 'Ago', \n",
        "9: 'Sep', \n",
        "10: 'Oct', \n",
        "11: 'Nov', \n",
        "12: 'Dec' }\n",
        "\n",
        "df1['promo_interval'].fillna(0, inplace = True)\n",
        "\n",
        "df1['month_map'] = df1['date'].dt.month.map( month_map )\n",
        "\n",
        "df1['is_promo'] = df1[['promo_interval', 'month_map']].apply( lambda x: 0 if x['promo_interval'] == 0 else 1 if x['month_map'] in x['promo_interval'].split(',') else 0, axis = 1 )"
      ],
      "execution_count": 15,
      "outputs": []
    },
    {
      "cell_type": "code",
      "metadata": {
        "colab": {
          "base_uri": "https://localhost:8080/"
        },
        "id": "y1hOA0Y6ht4O",
        "outputId": "3442e477-72fb-4c05-b07e-4c2c2392c0d7"
      },
      "source": [
        "#Repare que a soma agora de NA's é 0\n",
        "\n",
        "df1.isna().sum()"
      ],
      "execution_count": 16,
      "outputs": [
        {
          "output_type": "execute_result",
          "data": {
            "text/plain": [
              "store                           0\n",
              "day_of_week                     0\n",
              "date                            0\n",
              "sales                           0\n",
              "customers                       0\n",
              "open                            0\n",
              "promo                           0\n",
              "state_holiday                   0\n",
              "school_holiday                  0\n",
              "store_type                      0\n",
              "assortment                      0\n",
              "competition_distance            0\n",
              "competition_open_since_month    0\n",
              "competition_open_since_year     0\n",
              "promo2                          0\n",
              "promo2_since_week               0\n",
              "promo2_since_year               0\n",
              "promo_interval                  0\n",
              "month_map                       0\n",
              "is_promo                        0\n",
              "dtype: int64"
            ]
          },
          "metadata": {
            "tags": []
          },
          "execution_count": 16
        }
      ]
    },
    {
      "cell_type": "markdown",
      "metadata": {
        "id": "YGM8evPlYRRU"
      },
      "source": [
        "### 1.6 Change Types"
      ]
    },
    {
      "cell_type": "code",
      "metadata": {
        "id": "-8FwGwhiuKkc"
      },
      "source": [
        "#Depois de se fazer alterações em colunas, é importante refazer a busca dos tipos\n",
        "#para conferir se o tipo original não foi alterado."
      ],
      "execution_count": 17,
      "outputs": []
    },
    {
      "cell_type": "code",
      "metadata": {
        "id": "VCcpYJyiuQdK",
        "colab": {
          "base_uri": "https://localhost:8080/"
        },
        "outputId": "12d49854-32c9-4ecb-96f2-4dff2f4be4d0"
      },
      "source": [
        "df1.dtypes\n",
        "\n",
        "#Repare que o competition_sincer_week é um float"
      ],
      "execution_count": 18,
      "outputs": [
        {
          "output_type": "execute_result",
          "data": {
            "text/plain": [
              "store                                    int64\n",
              "day_of_week                              int64\n",
              "date                            datetime64[ns]\n",
              "sales                                    int64\n",
              "customers                                int64\n",
              "open                                     int64\n",
              "promo                                    int64\n",
              "state_holiday                           object\n",
              "school_holiday                           int64\n",
              "store_type                              object\n",
              "assortment                              object\n",
              "competition_distance                   float64\n",
              "competition_open_since_month           float64\n",
              "competition_open_since_year            float64\n",
              "promo2                                   int64\n",
              "promo2_since_week                      float64\n",
              "promo2_since_year                      float64\n",
              "promo_interval                          object\n",
              "month_map                               object\n",
              "is_promo                                 int64\n",
              "dtype: object"
            ]
          },
          "metadata": {
            "tags": []
          },
          "execution_count": 18
        }
      ]
    },
    {
      "cell_type": "code",
      "metadata": {
        "id": "sfh753_CuZhm"
      },
      "source": [
        "df1['competition_open_since_month'] = df1['competition_open_since_month'].astype(int)\n",
        "df1['competition_open_since_year'] = df1['competition_open_since_year'].astype(int)\n",
        "df1['promo2_since_week'] = df1['promo2_since_week'].astype(int)\n",
        "df1['promo2_since_year'] = df1['promo2_since_year'].astype(int)"
      ],
      "execution_count": 19,
      "outputs": []
    },
    {
      "cell_type": "code",
      "metadata": {
        "id": "bqSgTbsduhxA",
        "colab": {
          "base_uri": "https://localhost:8080/"
        },
        "outputId": "d5b6b056-43af-45d4-ff21-fefdc55a63cc"
      },
      "source": [
        "df1.dtypes"
      ],
      "execution_count": 20,
      "outputs": [
        {
          "output_type": "execute_result",
          "data": {
            "text/plain": [
              "store                                    int64\n",
              "day_of_week                              int64\n",
              "date                            datetime64[ns]\n",
              "sales                                    int64\n",
              "customers                                int64\n",
              "open                                     int64\n",
              "promo                                    int64\n",
              "state_holiday                           object\n",
              "school_holiday                           int64\n",
              "store_type                              object\n",
              "assortment                              object\n",
              "competition_distance                   float64\n",
              "competition_open_since_month             int64\n",
              "competition_open_since_year              int64\n",
              "promo2                                   int64\n",
              "promo2_since_week                        int64\n",
              "promo2_since_year                        int64\n",
              "promo_interval                          object\n",
              "month_map                               object\n",
              "is_promo                                 int64\n",
              "dtype: object"
            ]
          },
          "metadata": {
            "tags": []
          },
          "execution_count": 20
        }
      ]
    },
    {
      "cell_type": "markdown",
      "metadata": {
        "id": "reUNag0-YRcD"
      },
      "source": [
        "### 1.7 Descriptive Statistical"
      ]
    },
    {
      "cell_type": "code",
      "metadata": {
        "id": "1F8WIJOJxHCg"
      },
      "source": [
        "#Selecionando os dados numéricos e categóricos\n",
        "\n",
        "num_attributes = df1.select_dtypes( include = ['int64', 'float64'])\n",
        "cat_attributes = df1.select_dtypes( exclude = ['int64', 'float64', 'datetime64[ns]'] )"
      ],
      "execution_count": 21,
      "outputs": []
    },
    {
      "cell_type": "code",
      "metadata": {
        "id": "UKV4cD5Kxrxe",
        "colab": {
          "base_uri": "https://localhost:8080/",
          "height": 0
        },
        "outputId": "594aafec-5851-4078-c9df-7ea83a8946db"
      },
      "source": [
        "num_attributes.sample(2)"
      ],
      "execution_count": 22,
      "outputs": [
        {
          "output_type": "execute_result",
          "data": {
            "text/html": [
              "<div>\n",
              "<style scoped>\n",
              "    .dataframe tbody tr th:only-of-type {\n",
              "        vertical-align: middle;\n",
              "    }\n",
              "\n",
              "    .dataframe tbody tr th {\n",
              "        vertical-align: top;\n",
              "    }\n",
              "\n",
              "    .dataframe thead th {\n",
              "        text-align: right;\n",
              "    }\n",
              "</style>\n",
              "<table border=\"1\" class=\"dataframe\">\n",
              "  <thead>\n",
              "    <tr style=\"text-align: right;\">\n",
              "      <th></th>\n",
              "      <th>store</th>\n",
              "      <th>day_of_week</th>\n",
              "      <th>sales</th>\n",
              "      <th>customers</th>\n",
              "      <th>open</th>\n",
              "      <th>promo</th>\n",
              "      <th>school_holiday</th>\n",
              "      <th>competition_distance</th>\n",
              "      <th>competition_open_since_month</th>\n",
              "      <th>competition_open_since_year</th>\n",
              "      <th>promo2</th>\n",
              "      <th>promo2_since_week</th>\n",
              "      <th>promo2_since_year</th>\n",
              "      <th>is_promo</th>\n",
              "    </tr>\n",
              "  </thead>\n",
              "  <tbody>\n",
              "    <tr>\n",
              "      <th>36389</th>\n",
              "      <td>710</td>\n",
              "      <td>1</td>\n",
              "      <td>8599</td>\n",
              "      <td>530</td>\n",
              "      <td>1</td>\n",
              "      <td>1</td>\n",
              "      <td>0</td>\n",
              "      <td>1500.0</td>\n",
              "      <td>9</td>\n",
              "      <td>2008</td>\n",
              "      <td>1</td>\n",
              "      <td>14</td>\n",
              "      <td>2011</td>\n",
              "      <td>0</td>\n",
              "    </tr>\n",
              "    <tr>\n",
              "      <th>189594</th>\n",
              "      <td>45</td>\n",
              "      <td>3</td>\n",
              "      <td>3555</td>\n",
              "      <td>322</td>\n",
              "      <td>1</td>\n",
              "      <td>0</td>\n",
              "      <td>0</td>\n",
              "      <td>9710.0</td>\n",
              "      <td>2</td>\n",
              "      <td>2014</td>\n",
              "      <td>0</td>\n",
              "      <td>7</td>\n",
              "      <td>2015</td>\n",
              "      <td>0</td>\n",
              "    </tr>\n",
              "  </tbody>\n",
              "</table>\n",
              "</div>"
            ],
            "text/plain": [
              "        store  day_of_week  ...  promo2_since_year  is_promo\n",
              "36389     710            1  ...               2011         0\n",
              "189594     45            3  ...               2015         0\n",
              "\n",
              "[2 rows x 14 columns]"
            ]
          },
          "metadata": {
            "tags": []
          },
          "execution_count": 22
        }
      ]
    },
    {
      "cell_type": "code",
      "metadata": {
        "id": "CP-jdBW_xwXz",
        "colab": {
          "base_uri": "https://localhost:8080/",
          "height": 0
        },
        "outputId": "254fde19-36a9-4b1c-ba22-227c0b857620"
      },
      "source": [
        "cat_attributes.sample(2)"
      ],
      "execution_count": 23,
      "outputs": [
        {
          "output_type": "execute_result",
          "data": {
            "text/html": [
              "<div>\n",
              "<style scoped>\n",
              "    .dataframe tbody tr th:only-of-type {\n",
              "        vertical-align: middle;\n",
              "    }\n",
              "\n",
              "    .dataframe tbody tr th {\n",
              "        vertical-align: top;\n",
              "    }\n",
              "\n",
              "    .dataframe thead th {\n",
              "        text-align: right;\n",
              "    }\n",
              "</style>\n",
              "<table border=\"1\" class=\"dataframe\">\n",
              "  <thead>\n",
              "    <tr style=\"text-align: right;\">\n",
              "      <th></th>\n",
              "      <th>state_holiday</th>\n",
              "      <th>store_type</th>\n",
              "      <th>assortment</th>\n",
              "      <th>promo_interval</th>\n",
              "      <th>month_map</th>\n",
              "    </tr>\n",
              "  </thead>\n",
              "  <tbody>\n",
              "    <tr>\n",
              "      <th>432197</th>\n",
              "      <td>a</td>\n",
              "      <td>a</td>\n",
              "      <td>a</td>\n",
              "      <td>0</td>\n",
              "      <td>Jun</td>\n",
              "    </tr>\n",
              "    <tr>\n",
              "      <th>216381</th>\n",
              "      <td>0</td>\n",
              "      <td>a</td>\n",
              "      <td>a</td>\n",
              "      <td>Jan,Apr,Jul,Oct</td>\n",
              "      <td>Jan</td>\n",
              "    </tr>\n",
              "  </tbody>\n",
              "</table>\n",
              "</div>"
            ],
            "text/plain": [
              "       state_holiday store_type assortment   promo_interval month_map\n",
              "432197             a          a          a                0       Jun\n",
              "216381             0          a          a  Jan,Apr,Jul,Oct       Jan"
            ]
          },
          "metadata": {
            "tags": []
          },
          "execution_count": 23
        }
      ]
    },
    {
      "cell_type": "markdown",
      "metadata": {
        "id": "Bx9f7RqAx6CW"
      },
      "source": [
        "#### 1.7.1 Numerical Attributes"
      ]
    },
    {
      "cell_type": "code",
      "metadata": {
        "id": "Hf0VePHVvERN"
      },
      "source": [
        "# Central Tendency - mean, median\n",
        "ct1 = pd.DataFrame( num_attributes.apply( np.mean ) ).T\n",
        "ct2 = pd.DataFrame( num_attributes.apply( np.median ) ).T\n",
        "\n",
        "# Dispersion - std, min, maax, range, skew, kurtosis\n",
        "d1 = pd.DataFrame( num_attributes.apply( np.std ) ).T\n",
        "d2 = pd.DataFrame( num_attributes.apply( min ) ).T\n",
        "d3 = pd.DataFrame( num_attributes.apply( max ) ).T\n",
        "d4 = pd.DataFrame( num_attributes.apply( lambda x: x.max() - x.min() ) ).T\n",
        "d5 = pd.DataFrame( num_attributes.apply( lambda x: x.skew() ) ).T\n",
        "d6 = pd.DataFrame( num_attributes.apply( lambda x: x.kurtosis() ) ).T\n",
        "\n",
        "# Concatenete\n",
        "m = pd.concat( [d2, d3, d4, ct1, ct2, d1, d5, d6] ).T.reset_index()\n",
        "m.columns = ( ['attributes', 'min', 'max', 'range', 'mean', 'median', 'std',\n",
        "            'skew', 'kurtosis'] )"
      ],
      "execution_count": 24,
      "outputs": []
    },
    {
      "cell_type": "code",
      "metadata": {
        "id": "xcVEdt5F0cRa",
        "colab": {
          "base_uri": "https://localhost:8080/",
          "height": 0
        },
        "outputId": "4435c899-b4b6-42f1-ec69-0e2f67c3a79b"
      },
      "source": [
        "m"
      ],
      "execution_count": 25,
      "outputs": [
        {
          "output_type": "execute_result",
          "data": {
            "text/html": [
              "<div>\n",
              "<style scoped>\n",
              "    .dataframe tbody tr th:only-of-type {\n",
              "        vertical-align: middle;\n",
              "    }\n",
              "\n",
              "    .dataframe tbody tr th {\n",
              "        vertical-align: top;\n",
              "    }\n",
              "\n",
              "    .dataframe thead th {\n",
              "        text-align: right;\n",
              "    }\n",
              "</style>\n",
              "<table border=\"1\" class=\"dataframe\">\n",
              "  <thead>\n",
              "    <tr style=\"text-align: right;\">\n",
              "      <th></th>\n",
              "      <th>attributes</th>\n",
              "      <th>min</th>\n",
              "      <th>max</th>\n",
              "      <th>range</th>\n",
              "      <th>mean</th>\n",
              "      <th>median</th>\n",
              "      <th>std</th>\n",
              "      <th>skew</th>\n",
              "      <th>kurtosis</th>\n",
              "    </tr>\n",
              "  </thead>\n",
              "  <tbody>\n",
              "    <tr>\n",
              "      <th>0</th>\n",
              "      <td>store</td>\n",
              "      <td>1.0</td>\n",
              "      <td>1115.0</td>\n",
              "      <td>1114.0</td>\n",
              "      <td>558.429727</td>\n",
              "      <td>558.0</td>\n",
              "      <td>321.908493</td>\n",
              "      <td>-0.000955</td>\n",
              "      <td>-1.200524</td>\n",
              "    </tr>\n",
              "    <tr>\n",
              "      <th>1</th>\n",
              "      <td>day_of_week</td>\n",
              "      <td>1.0</td>\n",
              "      <td>7.0</td>\n",
              "      <td>6.0</td>\n",
              "      <td>3.998341</td>\n",
              "      <td>4.0</td>\n",
              "      <td>1.997390</td>\n",
              "      <td>0.001593</td>\n",
              "      <td>-1.246873</td>\n",
              "    </tr>\n",
              "    <tr>\n",
              "      <th>2</th>\n",
              "      <td>sales</td>\n",
              "      <td>0.0</td>\n",
              "      <td>41551.0</td>\n",
              "      <td>41551.0</td>\n",
              "      <td>5773.818972</td>\n",
              "      <td>5744.0</td>\n",
              "      <td>3849.924283</td>\n",
              "      <td>0.641460</td>\n",
              "      <td>1.778375</td>\n",
              "    </tr>\n",
              "    <tr>\n",
              "      <th>3</th>\n",
              "      <td>customers</td>\n",
              "      <td>0.0</td>\n",
              "      <td>7388.0</td>\n",
              "      <td>7388.0</td>\n",
              "      <td>633.145946</td>\n",
              "      <td>609.0</td>\n",
              "      <td>464.411506</td>\n",
              "      <td>1.598650</td>\n",
              "      <td>7.091773</td>\n",
              "    </tr>\n",
              "    <tr>\n",
              "      <th>4</th>\n",
              "      <td>open</td>\n",
              "      <td>0.0</td>\n",
              "      <td>1.0</td>\n",
              "      <td>1.0</td>\n",
              "      <td>0.830107</td>\n",
              "      <td>1.0</td>\n",
              "      <td>0.375539</td>\n",
              "      <td>-1.758045</td>\n",
              "      <td>1.090723</td>\n",
              "    </tr>\n",
              "    <tr>\n",
              "      <th>5</th>\n",
              "      <td>promo</td>\n",
              "      <td>0.0</td>\n",
              "      <td>1.0</td>\n",
              "      <td>1.0</td>\n",
              "      <td>0.381515</td>\n",
              "      <td>0.0</td>\n",
              "      <td>0.485758</td>\n",
              "      <td>0.487838</td>\n",
              "      <td>-1.762018</td>\n",
              "    </tr>\n",
              "    <tr>\n",
              "      <th>6</th>\n",
              "      <td>school_holiday</td>\n",
              "      <td>0.0</td>\n",
              "      <td>1.0</td>\n",
              "      <td>1.0</td>\n",
              "      <td>0.178647</td>\n",
              "      <td>0.0</td>\n",
              "      <td>0.383056</td>\n",
              "      <td>1.677842</td>\n",
              "      <td>0.815154</td>\n",
              "    </tr>\n",
              "    <tr>\n",
              "      <th>7</th>\n",
              "      <td>competition_distance</td>\n",
              "      <td>20.0</td>\n",
              "      <td>200000.0</td>\n",
              "      <td>199980.0</td>\n",
              "      <td>5935.442677</td>\n",
              "      <td>2330.0</td>\n",
              "      <td>12547.646829</td>\n",
              "      <td>10.242344</td>\n",
              "      <td>147.789712</td>\n",
              "    </tr>\n",
              "    <tr>\n",
              "      <th>8</th>\n",
              "      <td>competition_open_since_month</td>\n",
              "      <td>1.0</td>\n",
              "      <td>12.0</td>\n",
              "      <td>11.0</td>\n",
              "      <td>6.786849</td>\n",
              "      <td>7.0</td>\n",
              "      <td>3.311085</td>\n",
              "      <td>-0.042076</td>\n",
              "      <td>-1.232607</td>\n",
              "    </tr>\n",
              "    <tr>\n",
              "      <th>9</th>\n",
              "      <td>competition_open_since_year</td>\n",
              "      <td>1900.0</td>\n",
              "      <td>2015.0</td>\n",
              "      <td>115.0</td>\n",
              "      <td>2010.324840</td>\n",
              "      <td>2012.0</td>\n",
              "      <td>5.515591</td>\n",
              "      <td>-7.235657</td>\n",
              "      <td>124.071304</td>\n",
              "    </tr>\n",
              "    <tr>\n",
              "      <th>10</th>\n",
              "      <td>promo2</td>\n",
              "      <td>0.0</td>\n",
              "      <td>1.0</td>\n",
              "      <td>1.0</td>\n",
              "      <td>0.500564</td>\n",
              "      <td>1.0</td>\n",
              "      <td>0.500000</td>\n",
              "      <td>-0.002255</td>\n",
              "      <td>-1.999999</td>\n",
              "    </tr>\n",
              "    <tr>\n",
              "      <th>11</th>\n",
              "      <td>promo2_since_week</td>\n",
              "      <td>1.0</td>\n",
              "      <td>52.0</td>\n",
              "      <td>51.0</td>\n",
              "      <td>23.619033</td>\n",
              "      <td>22.0</td>\n",
              "      <td>14.310057</td>\n",
              "      <td>0.178723</td>\n",
              "      <td>-1.184046</td>\n",
              "    </tr>\n",
              "    <tr>\n",
              "      <th>12</th>\n",
              "      <td>promo2_since_year</td>\n",
              "      <td>2009.0</td>\n",
              "      <td>2015.0</td>\n",
              "      <td>6.0</td>\n",
              "      <td>2012.793297</td>\n",
              "      <td>2013.0</td>\n",
              "      <td>1.662657</td>\n",
              "      <td>-0.784436</td>\n",
              "      <td>-0.210075</td>\n",
              "    </tr>\n",
              "    <tr>\n",
              "      <th>13</th>\n",
              "      <td>is_promo</td>\n",
              "      <td>0.0</td>\n",
              "      <td>1.0</td>\n",
              "      <td>1.0</td>\n",
              "      <td>0.158682</td>\n",
              "      <td>0.0</td>\n",
              "      <td>0.365380</td>\n",
              "      <td>1.868295</td>\n",
              "      <td>1.490527</td>\n",
              "    </tr>\n",
              "  </tbody>\n",
              "</table>\n",
              "</div>"
            ],
            "text/plain": [
              "                      attributes     min  ...       skew    kurtosis\n",
              "0                          store     1.0  ...  -0.000955   -1.200524\n",
              "1                    day_of_week     1.0  ...   0.001593   -1.246873\n",
              "2                          sales     0.0  ...   0.641460    1.778375\n",
              "3                      customers     0.0  ...   1.598650    7.091773\n",
              "4                           open     0.0  ...  -1.758045    1.090723\n",
              "5                          promo     0.0  ...   0.487838   -1.762018\n",
              "6                 school_holiday     0.0  ...   1.677842    0.815154\n",
              "7           competition_distance    20.0  ...  10.242344  147.789712\n",
              "8   competition_open_since_month     1.0  ...  -0.042076   -1.232607\n",
              "9    competition_open_since_year  1900.0  ...  -7.235657  124.071304\n",
              "10                        promo2     0.0  ...  -0.002255   -1.999999\n",
              "11             promo2_since_week     1.0  ...   0.178723   -1.184046\n",
              "12             promo2_since_year  2009.0  ...  -0.784436   -0.210075\n",
              "13                      is_promo     0.0  ...   1.868295    1.490527\n",
              "\n",
              "[14 rows x 9 columns]"
            ]
          },
          "metadata": {
            "tags": []
          },
          "execution_count": 25
        }
      ]
    },
    {
      "cell_type": "code",
      "metadata": {
        "id": "uH4z0hyP1wrA",
        "colab": {
          "base_uri": "https://localhost:8080/",
          "height": 0
        },
        "outputId": "0fd0d084-15eb-44b8-c6ec-cf2abb6b4890"
      },
      "source": [
        "sns.distplot( df1['sales'])"
      ],
      "execution_count": 26,
      "outputs": [
        {
          "output_type": "stream",
          "text": [
            "/usr/local/lib/python3.7/dist-packages/seaborn/distributions.py:2557: FutureWarning: `distplot` is a deprecated function and will be removed in a future version. Please adapt your code to use either `displot` (a figure-level function with similar flexibility) or `histplot` (an axes-level function for histograms).\n",
            "  warnings.warn(msg, FutureWarning)\n"
          ],
          "name": "stderr"
        },
        {
          "output_type": "execute_result",
          "data": {
            "text/plain": [
              "<matplotlib.axes._subplots.AxesSubplot at 0x7f0f1b649d10>"
            ]
          },
          "metadata": {
            "tags": []
          },
          "execution_count": 26
        },
        {
          "output_type": "display_data",
          "data": {
            "image/png": "[encoded data removed]",
            "text/plain": [
              "<Figure size 432x288 with 1 Axes>"
            ]
          },
          "metadata": {
            "tags": [],
            "needs_background": "light"
          }
        }
      ]
    },
    {
      "cell_type": "markdown",
      "metadata": {
        "id": "3kA806qD4Eeh"
      },
      "source": [
        "#### 1.7.2 Categorical Attributes"
      ]
    },
    {
      "cell_type": "code",
      "metadata": {
        "id": "5kbtmkpC4Ifi",
        "colab": {
          "base_uri": "https://localhost:8080/"
        },
        "outputId": "6929fcec-3810-4ab7-cfab-ac335593202f"
      },
      "source": [
        "cat_attributes.apply( lambda x: x.unique().shape[0] )"
      ],
      "execution_count": 27,
      "outputs": [
        {
          "output_type": "execute_result",
          "data": {
            "text/plain": [
              "state_holiday      4\n",
              "store_type         4\n",
              "assortment         3\n",
              "promo_interval     4\n",
              "month_map         12\n",
              "dtype: int64"
            ]
          },
          "metadata": {
            "tags": []
          },
          "execution_count": 27
        }
      ]
    },
    {
      "cell_type": "code",
      "metadata": {
        "id": "uXj8WP454Wq5",
        "colab": {
          "base_uri": "https://localhost:8080/",
          "height": 0
        },
        "outputId": "3b822113-d96e-4b00-cc06-04601c4b2179"
      },
      "source": [
        "aux1 = df1[(df1['state_holiday'] != '0') & (df1['sales'] > 0)]\n",
        "\n",
        "plt.subplot( 1, 3, 1)\n",
        "sns.boxplot( x = 'state_holiday', y = 'sales', data = aux1)\n",
        "\n",
        "plt.subplot( 1, 3, 2)\n",
        "sns.boxplot( x = 'store_type', y = 'sales', data = aux1)\n",
        "\n",
        "plt.subplot( 1, 3, 3)\n",
        "sns.boxplot( x = 'assortment', y = 'sales', data = aux1)"
      ],
      "execution_count": 28,
      "outputs": [
        {
          "output_type": "execute_result",
          "data": {
            "text/plain": [
              "<matplotlib.axes._subplots.AxesSubplot at 0x7f0f0e798fd0>"
            ]
          },
          "metadata": {
            "tags": []
          },
          "execution_count": 28
        },
        {
          "output_type": "display_data",
          "data": {
            "image/png": "[encoded data removed]",
            "text/plain": [
              "<Figure size 432x288 with 3 Axes>"
            ]
          },
          "metadata": {
            "tags": [],
            "needs_background": "light"
          }
        }
      ]
    },
    {
      "cell_type": "markdown",
      "metadata": {
        "id": "Zx2N3yDvYP2N"
      },
      "source": [
        "### 1.8"
      ]
    },
    {
      "cell_type": "markdown",
      "metadata": {
        "id": "Zce5gxvzcqcy"
      },
      "source": [
        "# 2.0 PASSO 02 - FEATURE ENGINEERING"
      ]
    },
    {
      "cell_type": "code",
      "metadata": {
        "id": "OZiUKfYLolUB"
      },
      "source": [
        "df2 = df1.copy()"
      ],
      "execution_count": 29,
      "outputs": []
    },
    {
      "cell_type": "markdown",
      "metadata": {
        "id": "bNfc0aVyzHY-"
      },
      "source": [
        "## 2.1 Mapa Mental de Hipóteses"
      ]
    },
    {
      "cell_type": "code",
      "metadata": {
        "id": "NgRBAqZ8c0OY",
        "colab": {
          "base_uri": "https://localhost:8080/",
          "height": 0
        },
        "outputId": "0816926e-75ed-4a5c-dd57-bb0be0508ce3"
      },
      "source": [
        "Image('/content/drive/MyDrive/Colab Notebooks/DS em produção/dados/MindMapHypotesis.png')"
      ],
      "execution_count": 30,
      "outputs": [
        {
          "output_type": "execute_result",
          "data": {
            "image/png": "[encoded data removed]",
            "text/plain": [
              "<IPython.core.display.Image object>"
            ]
          },
          "metadata": {
            "tags": []
          },
          "execution_count": 30
        }
      ]
    },
    {
      "cell_type": "markdown",
      "metadata": {
        "id": "1JEM-IjazNZj"
      },
      "source": [
        "## 2.2 Criação das Hipóteses"
      ]
    },
    {
      "cell_type": "markdown",
      "metadata": {
        "id": "oBFh4IAn3zh-"
      },
      "source": [
        "Este passo geralmente acontece na reunião de brainstorming, onde se trazem os times de negócio para a realização das perguntas. Por ex, perguntar quais variáveis eles acham que afetam as vendas."
      ]
    },
    {
      "cell_type": "markdown",
      "metadata": {
        "id": "8n9dj3r6zU1j"
      },
      "source": [
        "### 2.1.1 Hipóteses Loja"
      ]
    },
    {
      "cell_type": "markdown",
      "metadata": {
        "id": "r1Z2MIoVzl8v"
      },
      "source": [
        "**1.** Lojas com maior número de funcionários deveriam vender mais.\n",
        "\n",
        "**2.** Lojas com maior capacidade de estoque deveriam vender mais.\n",
        "\n",
        "**3.** Lojas de maior porte deveriam vender mais.\n",
        "\n",
        "**4.** Lojas com menor porte deveriam vender menos.\n",
        "\n",
        "**5.** Lojas com maior sortimento deveriam vender mais.\n",
        "\n",
        "**6.** Lojas com mais competidores deveriam vender menos.\n",
        "\n",
        "**7.** Lojas com competidores mais próximos deveriam vender menos.\n",
        "\n",
        "**8.** Lojas com competidores à mais tempo deveriam vender mais.\n",
        "\n",
        "etc"
      ]
    },
    {
      "cell_type": "markdown",
      "metadata": {
        "id": "blt4pdYjzX-b"
      },
      "source": [
        "### 2.1.2 Hipóteses Produto"
      ]
    },
    {
      "cell_type": "markdown",
      "metadata": {
        "id": "fgNoyPqn2bH1"
      },
      "source": [
        "**1.** Lojas que investem mais em marketing deveriam vender mais.\n",
        "\n",
        "**2.** Lojas com maior exposição de produtos nas vitrines deveriam vender mais.\n",
        "\n",
        "**3.** Lojas que tem preços menores nos produtos deveriam vender mais.\n",
        "\n",
        "**4.** Lojas que tem preços menores por mais tempo nos produtos deveriam vender mais.\n",
        "\n",
        "**5.** Lojas com promoções mais agressivas (descontos maiores) deveriam vender mais.\n",
        "\n",
        "**6.** Lojas com mais dias de promoção deveriam vender mais.\n",
        "\n",
        "**7.** Lojas com mais promoções consecutivas deveriam vender mais.\n",
        "\n",
        "**8.** Lojas com promoções ativas por mais tempo deveriam vender mais.\n",
        "\n",
        "etc"
      ]
    },
    {
      "cell_type": "markdown",
      "metadata": {
        "id": "nATqN3fpzZ1B"
      },
      "source": [
        "### 2.1.3 Hipóteses Tempo"
      ]
    },
    {
      "cell_type": "markdown",
      "metadata": {
        "id": "BRXkxNyG3Y6r"
      },
      "source": [
        "**1.** Lojas que entram em mais feriados deveriam vender menos.\n",
        "\n",
        "**2.** Lojas que abrem nos primeiros 6 meses deveriam vender mais.\n",
        "\n",
        "**3.** Lojas que abrem nos finais de semana deveriam vender mais.\n",
        "\n",
        "**4.** Lojas abertas durante o feriado de Natal deveriam vender mais.\n",
        "\n",
        "**5.** Lojas deveriam vender mais ao longo dos anos.\n",
        "\n",
        "**6.** Lojas deveriam vender mais no segundo semestre do ano.\n",
        "\n",
        "**7.** Lojas deveriam vender menos durante os feriados escolares.\n",
        "\n",
        "**8.** Lojas deveriam vender mais depois do dia 10 de cada mês.\n",
        "\n",
        "etc"
      ]
    },
    {
      "cell_type": "markdown",
      "metadata": {
        "id": "dJ446UEm6GSl"
      },
      "source": [
        "## 2.3 Lista Final de Hipóteses"
      ]
    },
    {
      "cell_type": "markdown",
      "metadata": {
        "id": "pZKd3rP27E2b"
      },
      "source": [
        "Nesta etapa, é visto quais dados temos nos datasets (por ex, não temos o número de funcionários para trabalhar no momento) e então, selecionadas as hipóteses que trabalharemos."
      ]
    },
    {
      "cell_type": "markdown",
      "metadata": {
        "id": "m6MmdLRm7WXE"
      },
      "source": [
        "**1.** Lojas com maior sortimento deveriam vender mais.\n",
        "\n",
        "**2.** Lojas com competidores mais próximos deveriam vender menos.\n",
        "\n",
        "**3.** Lojas com competidores à mais tempo deveriam vender mais.\n",
        "\n",
        "**4.** Lojas com promoções ativas por mais tempo deveriam vender mais.\n",
        "\n",
        "**5.** Lojas com mais dias de promoção deveriam vender mais.\n",
        "\n",
        "**6.** Lojas com mais promoções consecutivas deveriam vender mais.\n",
        "\n",
        "**7.** Lojas abertas durante o feriado de Natal deveriam vender mais.\n",
        "\n",
        "**8.** Lojas deveriam vender mais ao longo dos anos.\n",
        "\n",
        "**9.** Lojas deveriam vender mais no segundo semestre do ano.\n",
        "\n",
        "**10.** Lojas deveriam vender menos durante os feriados escolares.\n",
        "\n",
        "**11.** Lojas deveriam vender mais depois do dia 10 de cada mês.\n",
        "\n",
        "**12.** Lojas deveriam vender menos durante os feriados escolares."
      ]
    },
    {
      "cell_type": "markdown",
      "metadata": {
        "id": "yah0aKa6o9Mi"
      },
      "source": [
        "## Feature Engineering"
      ]
    },
    {
      "cell_type": "code",
      "metadata": {
        "colab": {
          "base_uri": "https://localhost:8080/"
        },
        "id": "iqstdv9ipBS3",
        "outputId": "df8596a6-36d3-46c8-ea85-58780c7f2ba6"
      },
      "source": [
        "\n",
        "\n",
        "# year\n",
        "df2['year'] = df2['date'].dt.year\n",
        "\n",
        "# month\n",
        "df2['month'] = df2['date'].dt.month\n",
        "\n",
        "# day\n",
        "df2['day'] = df2['date'].dt.day\n",
        "\n",
        "# week of year\n",
        "df2['week_of_year'] = df2['date'].dt.weekofyear\n",
        "\n",
        "# year week\n",
        "df2['year_week'] = df2['date'].dt.strftime( '%Y-%W' )\n",
        "\n",
        "# competition since\n",
        "df2['competition_since'] = df2.apply( lambda x: datetime.datetime( year=x['competition_open_since_year'], month=x['competition_open_since_month'],day=1 ), axis=1 )\n",
        "df2['competition_time_month'] = ( ( df2['date'] - df2['competition_since'] )/30 ).apply( lambda x: x.days ).astype( int )\n",
        "\n",
        "# promo since\n",
        "df2['promo_since'] = df2['promo2_since_year'].astype( str ) + '-' + df2['promo2_since_week'].astype( str )\n",
        "df2['promo_since'] = df2['promo_since'].apply( lambda x: datetime.datetime.strptime( x + '-1', '%Y-%W-%w' ) - datetime.timedelta( days=7 ) )\n",
        "df2['promo_time_week'] = ( ( df2['date'] - df2['promo_since'] )/7 ).apply( lambda x: x.days ).astype( int )\n",
        "\n",
        "# assortment\n",
        "df2['assortment'] = df2['assortment'].apply( lambda x: 'basic' if x == 'a' else 'extra' if x == 'b' else 'extended' )\n",
        "\n",
        "# state holiday\n",
        "df2['state_holiday'] = df2['state_holiday'].apply( lambda x: 'public_holiday' if x == 'a' else 'easter_holiday' if x == 'b' else 'christmas' if x == 'c' else 'regular_day' )"
      ],
      "execution_count": 31,
      "outputs": [
        {
          "output_type": "stream",
          "text": [
            "/usr/local/lib/python3.7/dist-packages/ipykernel_launcher.py:13: FutureWarning: Series.dt.weekofyear and Series.dt.week have been deprecated.  Please use Series.dt.isocalendar().week instead.\n",
            "  del sys.path[0]\n"
          ],
          "name": "stderr"
        }
      ]
    },
    {
      "cell_type": "code",
      "metadata": {
        "colab": {
          "base_uri": "https://localhost:8080/",
          "height": 0
        },
        "id": "tiJoop0kp6wC",
        "outputId": "fc44485d-6d35-47b0-98ca-802e14f9ad58"
      },
      "source": [
        "df2.head().T"
      ],
      "execution_count": 32,
      "outputs": [
        {
          "output_type": "execute_result",
          "data": {
            "text/html": [
              "<div>\n",
              "<style scoped>\n",
              "    .dataframe tbody tr th:only-of-type {\n",
              "        vertical-align: middle;\n",
              "    }\n",
              "\n",
              "    .dataframe tbody tr th {\n",
              "        vertical-align: top;\n",
              "    }\n",
              "\n",
              "    .dataframe thead th {\n",
              "        text-align: right;\n",
              "    }\n",
              "</style>\n",
              "<table border=\"1\" class=\"dataframe\">\n",
              "  <thead>\n",
              "    <tr style=\"text-align: right;\">\n",
              "      <th></th>\n",
              "      <th>0</th>\n",
              "      <th>1</th>\n",
              "      <th>2</th>\n",
              "      <th>3</th>\n",
              "      <th>4</th>\n",
              "    </tr>\n",
              "  </thead>\n",
              "  <tbody>\n",
              "    <tr>\n",
              "      <th>store</th>\n",
              "      <td>1</td>\n",
              "      <td>2</td>\n",
              "      <td>3</td>\n",
              "      <td>4</td>\n",
              "      <td>5</td>\n",
              "    </tr>\n",
              "    <tr>\n",
              "      <th>day_of_week</th>\n",
              "      <td>5</td>\n",
              "      <td>5</td>\n",
              "      <td>5</td>\n",
              "      <td>5</td>\n",
              "      <td>5</td>\n",
              "    </tr>\n",
              "    <tr>\n",
              "      <th>date</th>\n",
              "      <td>2015-07-31 00:00:00</td>\n",
              "      <td>2015-07-31 00:00:00</td>\n",
              "      <td>2015-07-31 00:00:00</td>\n",
              "      <td>2015-07-31 00:00:00</td>\n",
              "      <td>2015-07-31 00:00:00</td>\n",
              "    </tr>\n",
              "    <tr>\n",
              "      <th>sales</th>\n",
              "      <td>5263</td>\n",
              "      <td>6064</td>\n",
              "      <td>8314</td>\n",
              "      <td>13995</td>\n",
              "      <td>4822</td>\n",
              "    </tr>\n",
              "    <tr>\n",
              "      <th>customers</th>\n",
              "      <td>555</td>\n",
              "      <td>625</td>\n",
              "      <td>821</td>\n",
              "      <td>1498</td>\n",
              "      <td>559</td>\n",
              "    </tr>\n",
              "    <tr>\n",
              "      <th>open</th>\n",
              "      <td>1</td>\n",
              "      <td>1</td>\n",
              "      <td>1</td>\n",
              "      <td>1</td>\n",
              "      <td>1</td>\n",
              "    </tr>\n",
              "    <tr>\n",
              "      <th>promo</th>\n",
              "      <td>1</td>\n",
              "      <td>1</td>\n",
              "      <td>1</td>\n",
              "      <td>1</td>\n",
              "      <td>1</td>\n",
              "    </tr>\n",
              "    <tr>\n",
              "      <th>state_holiday</th>\n",
              "      <td>regular_day</td>\n",
              "      <td>regular_day</td>\n",
              "      <td>regular_day</td>\n",
              "      <td>regular_day</td>\n",
              "      <td>regular_day</td>\n",
              "    </tr>\n",
              "    <tr>\n",
              "      <th>school_holiday</th>\n",
              "      <td>1</td>\n",
              "      <td>1</td>\n",
              "      <td>1</td>\n",
              "      <td>1</td>\n",
              "      <td>1</td>\n",
              "    </tr>\n",
              "    <tr>\n",
              "      <th>store_type</th>\n",
              "      <td>c</td>\n",
              "      <td>a</td>\n",
              "      <td>a</td>\n",
              "      <td>c</td>\n",
              "      <td>a</td>\n",
              "    </tr>\n",
              "    <tr>\n",
              "      <th>assortment</th>\n",
              "      <td>basic</td>\n",
              "      <td>basic</td>\n",
              "      <td>basic</td>\n",
              "      <td>extended</td>\n",
              "      <td>basic</td>\n",
              "    </tr>\n",
              "    <tr>\n",
              "      <th>competition_distance</th>\n",
              "      <td>1270</td>\n",
              "      <td>570</td>\n",
              "      <td>14130</td>\n",
              "      <td>620</td>\n",
              "      <td>29910</td>\n",
              "    </tr>\n",
              "    <tr>\n",
              "      <th>competition_open_since_month</th>\n",
              "      <td>9</td>\n",
              "      <td>11</td>\n",
              "      <td>12</td>\n",
              "      <td>9</td>\n",
              "      <td>4</td>\n",
              "    </tr>\n",
              "    <tr>\n",
              "      <th>competition_open_since_year</th>\n",
              "      <td>2008</td>\n",
              "      <td>2007</td>\n",
              "      <td>2006</td>\n",
              "      <td>2009</td>\n",
              "      <td>2015</td>\n",
              "    </tr>\n",
              "    <tr>\n",
              "      <th>promo2</th>\n",
              "      <td>0</td>\n",
              "      <td>1</td>\n",
              "      <td>1</td>\n",
              "      <td>0</td>\n",
              "      <td>0</td>\n",
              "    </tr>\n",
              "    <tr>\n",
              "      <th>promo2_since_week</th>\n",
              "      <td>31</td>\n",
              "      <td>13</td>\n",
              "      <td>14</td>\n",
              "      <td>31</td>\n",
              "      <td>31</td>\n",
              "    </tr>\n",
              "    <tr>\n",
              "      <th>promo2_since_year</th>\n",
              "      <td>2015</td>\n",
              "      <td>2010</td>\n",
              "      <td>2011</td>\n",
              "      <td>2015</td>\n",
              "      <td>2015</td>\n",
              "    </tr>\n",
              "    <tr>\n",
              "      <th>promo_interval</th>\n",
              "      <td>0</td>\n",
              "      <td>Jan,Apr,Jul,Oct</td>\n",
              "      <td>Jan,Apr,Jul,Oct</td>\n",
              "      <td>0</td>\n",
              "      <td>0</td>\n",
              "    </tr>\n",
              "    <tr>\n",
              "      <th>month_map</th>\n",
              "      <td>Jul</td>\n",
              "      <td>Jul</td>\n",
              "      <td>Jul</td>\n",
              "      <td>Jul</td>\n",
              "      <td>Jul</td>\n",
              "    </tr>\n",
              "    <tr>\n",
              "      <th>is_promo</th>\n",
              "      <td>0</td>\n",
              "      <td>1</td>\n",
              "      <td>1</td>\n",
              "      <td>0</td>\n",
              "      <td>0</td>\n",
              "    </tr>\n",
              "    <tr>\n",
              "      <th>year</th>\n",
              "      <td>2015</td>\n",
              "      <td>2015</td>\n",
              "      <td>2015</td>\n",
              "      <td>2015</td>\n",
              "      <td>2015</td>\n",
              "    </tr>\n",
              "    <tr>\n",
              "      <th>month</th>\n",
              "      <td>7</td>\n",
              "      <td>7</td>\n",
              "      <td>7</td>\n",
              "      <td>7</td>\n",
              "      <td>7</td>\n",
              "    </tr>\n",
              "    <tr>\n",
              "      <th>day</th>\n",
              "      <td>31</td>\n",
              "      <td>31</td>\n",
              "      <td>31</td>\n",
              "      <td>31</td>\n",
              "      <td>31</td>\n",
              "    </tr>\n",
              "    <tr>\n",
              "      <th>week_of_year</th>\n",
              "      <td>31</td>\n",
              "      <td>31</td>\n",
              "      <td>31</td>\n",
              "      <td>31</td>\n",
              "      <td>31</td>\n",
              "    </tr>\n",
              "    <tr>\n",
              "      <th>year_week</th>\n",
              "      <td>2015-30</td>\n",
              "      <td>2015-30</td>\n",
              "      <td>2015-30</td>\n",
              "      <td>2015-30</td>\n",
              "      <td>2015-30</td>\n",
              "    </tr>\n",
              "    <tr>\n",
              "      <th>competition_since</th>\n",
              "      <td>2008-09-01 00:00:00</td>\n",
              "      <td>2007-11-01 00:00:00</td>\n",
              "      <td>2006-12-01 00:00:00</td>\n",
              "      <td>2009-09-01 00:00:00</td>\n",
              "      <td>2015-04-01 00:00:00</td>\n",
              "    </tr>\n",
              "    <tr>\n",
              "      <th>competition_time_month</th>\n",
              "      <td>84</td>\n",
              "      <td>94</td>\n",
              "      <td>105</td>\n",
              "      <td>71</td>\n",
              "      <td>4</td>\n",
              "    </tr>\n",
              "    <tr>\n",
              "      <th>promo_since</th>\n",
              "      <td>2015-07-27 00:00:00</td>\n",
              "      <td>2010-03-22 00:00:00</td>\n",
              "      <td>2011-03-28 00:00:00</td>\n",
              "      <td>2015-07-27 00:00:00</td>\n",
              "      <td>2015-07-27 00:00:00</td>\n",
              "    </tr>\n",
              "    <tr>\n",
              "      <th>promo_time_week</th>\n",
              "      <td>0</td>\n",
              "      <td>279</td>\n",
              "      <td>226</td>\n",
              "      <td>0</td>\n",
              "      <td>0</td>\n",
              "    </tr>\n",
              "  </tbody>\n",
              "</table>\n",
              "</div>"
            ],
            "text/plain": [
              "                                                0  ...                    4\n",
              "store                                           1  ...                    5\n",
              "day_of_week                                     5  ...                    5\n",
              "date                          2015-07-31 00:00:00  ...  2015-07-31 00:00:00\n",
              "sales                                        5263  ...                 4822\n",
              "customers                                     555  ...                  559\n",
              "open                                            1  ...                    1\n",
              "promo                                           1  ...                    1\n",
              "state_holiday                         regular_day  ...          regular_day\n",
              "school_holiday                                  1  ...                    1\n",
              "store_type                                      c  ...                    a\n",
              "assortment                                  basic  ...                basic\n",
              "competition_distance                         1270  ...                29910\n",
              "competition_open_since_month                    9  ...                    4\n",
              "competition_open_since_year                  2008  ...                 2015\n",
              "promo2                                          0  ...                    0\n",
              "promo2_since_week                              31  ...                   31\n",
              "promo2_since_year                            2015  ...                 2015\n",
              "promo_interval                                  0  ...                    0\n",
              "month_map                                     Jul  ...                  Jul\n",
              "is_promo                                        0  ...                    0\n",
              "year                                         2015  ...                 2015\n",
              "month                                           7  ...                    7\n",
              "day                                            31  ...                   31\n",
              "week_of_year                                   31  ...                   31\n",
              "year_week                                 2015-30  ...              2015-30\n",
              "competition_since             2008-09-01 00:00:00  ...  2015-04-01 00:00:00\n",
              "competition_time_month                         84  ...                    4\n",
              "promo_since                   2015-07-27 00:00:00  ...  2015-07-27 00:00:00\n",
              "promo_time_week                                 0  ...                    0\n",
              "\n",
              "[29 rows x 5 columns]"
            ]
          },
          "metadata": {
            "tags": []
          },
          "execution_count": 32
        }
      ]
    },
    {
      "cell_type": "markdown",
      "metadata": {
        "id": "XlumoNVS2BFL"
      },
      "source": [
        "# 3.0 PASSO 03 - FILTRAGEM DE VARIÁVEIS"
      ]
    },
    {
      "cell_type": "code",
      "metadata": {
        "id": "HPUsC4jh2G18"
      },
      "source": [
        "df3 = df2.copy()"
      ],
      "execution_count": 33,
      "outputs": []
    },
    {
      "cell_type": "code",
      "metadata": {
        "colab": {
          "base_uri": "https://localhost:8080/",
          "height": 0
        },
        "id": "Z8lknc0W2c1C",
        "outputId": "10521ea3-5032-4a74-98a2-00b5637218ba"
      },
      "source": [
        "df3.head()"
      ],
      "execution_count": 34,
      "outputs": [
        {
          "output_type": "execute_result",
          "data": {
            "text/html": [
              "<div>\n",
              "<style scoped>\n",
              "    .dataframe tbody tr th:only-of-type {\n",
              "        vertical-align: middle;\n",
              "    }\n",
              "\n",
              "    .dataframe tbody tr th {\n",
              "        vertical-align: top;\n",
              "    }\n",
              "\n",
              "    .dataframe thead th {\n",
              "        text-align: right;\n",
              "    }\n",
              "</style>\n",
              "<table border=\"1\" class=\"dataframe\">\n",
              "  <thead>\n",
              "    <tr style=\"text-align: right;\">\n",
              "      <th></th>\n",
              "      <th>store</th>\n",
              "      <th>day_of_week</th>\n",
              "      <th>date</th>\n",
              "      <th>sales</th>\n",
              "      <th>customers</th>\n",
              "      <th>open</th>\n",
              "      <th>promo</th>\n",
              "      <th>state_holiday</th>\n",
              "      <th>school_holiday</th>\n",
              "      <th>store_type</th>\n",
              "      <th>assortment</th>\n",
              "      <th>competition_distance</th>\n",
              "      <th>competition_open_since_month</th>\n",
              "      <th>competition_open_since_year</th>\n",
              "      <th>promo2</th>\n",
              "      <th>promo2_since_week</th>\n",
              "      <th>promo2_since_year</th>\n",
              "      <th>promo_interval</th>\n",
              "      <th>month_map</th>\n",
              "      <th>is_promo</th>\n",
              "      <th>year</th>\n",
              "      <th>month</th>\n",
              "      <th>day</th>\n",
              "      <th>week_of_year</th>\n",
              "      <th>year_week</th>\n",
              "      <th>competition_since</th>\n",
              "      <th>competition_time_month</th>\n",
              "      <th>promo_since</th>\n",
              "      <th>promo_time_week</th>\n",
              "    </tr>\n",
              "  </thead>\n",
              "  <tbody>\n",
              "    <tr>\n",
              "      <th>0</th>\n",
              "      <td>1</td>\n",
              "      <td>5</td>\n",
              "      <td>2015-07-31</td>\n",
              "      <td>5263</td>\n",
              "      <td>555</td>\n",
              "      <td>1</td>\n",
              "      <td>1</td>\n",
              "      <td>regular_day</td>\n",
              "      <td>1</td>\n",
              "      <td>c</td>\n",
              "      <td>basic</td>\n",
              "      <td>1270.0</td>\n",
              "      <td>9</td>\n",
              "      <td>2008</td>\n",
              "      <td>0</td>\n",
              "      <td>31</td>\n",
              "      <td>2015</td>\n",
              "      <td>0</td>\n",
              "      <td>Jul</td>\n",
              "      <td>0</td>\n",
              "      <td>2015</td>\n",
              "      <td>7</td>\n",
              "      <td>31</td>\n",
              "      <td>31</td>\n",
              "      <td>2015-30</td>\n",
              "      <td>2008-09-01</td>\n",
              "      <td>84</td>\n",
              "      <td>2015-07-27</td>\n",
              "      <td>0</td>\n",
              "    </tr>\n",
              "    <tr>\n",
              "      <th>1</th>\n",
              "      <td>2</td>\n",
              "      <td>5</td>\n",
              "      <td>2015-07-31</td>\n",
              "      <td>6064</td>\n",
              "      <td>625</td>\n",
              "      <td>1</td>\n",
              "      <td>1</td>\n",
              "      <td>regular_day</td>\n",
              "      <td>1</td>\n",
              "      <td>a</td>\n",
              "      <td>basic</td>\n",
              "      <td>570.0</td>\n",
              "      <td>11</td>\n",
              "      <td>2007</td>\n",
              "      <td>1</td>\n",
              "      <td>13</td>\n",
              "      <td>2010</td>\n",
              "      <td>Jan,Apr,Jul,Oct</td>\n",
              "      <td>Jul</td>\n",
              "      <td>1</td>\n",
              "      <td>2015</td>\n",
              "      <td>7</td>\n",
              "      <td>31</td>\n",
              "      <td>31</td>\n",
              "      <td>2015-30</td>\n",
              "      <td>2007-11-01</td>\n",
              "      <td>94</td>\n",
              "      <td>2010-03-22</td>\n",
              "      <td>279</td>\n",
              "    </tr>\n",
              "    <tr>\n",
              "      <th>2</th>\n",
              "      <td>3</td>\n",
              "      <td>5</td>\n",
              "      <td>2015-07-31</td>\n",
              "      <td>8314</td>\n",
              "      <td>821</td>\n",
              "      <td>1</td>\n",
              "      <td>1</td>\n",
              "      <td>regular_day</td>\n",
              "      <td>1</td>\n",
              "      <td>a</td>\n",
              "      <td>basic</td>\n",
              "      <td>14130.0</td>\n",
              "      <td>12</td>\n",
              "      <td>2006</td>\n",
              "      <td>1</td>\n",
              "      <td>14</td>\n",
              "      <td>2011</td>\n",
              "      <td>Jan,Apr,Jul,Oct</td>\n",
              "      <td>Jul</td>\n",
              "      <td>1</td>\n",
              "      <td>2015</td>\n",
              "      <td>7</td>\n",
              "      <td>31</td>\n",
              "      <td>31</td>\n",
              "      <td>2015-30</td>\n",
              "      <td>2006-12-01</td>\n",
              "      <td>105</td>\n",
              "      <td>2011-03-28</td>\n",
              "      <td>226</td>\n",
              "    </tr>\n",
              "    <tr>\n",
              "      <th>3</th>\n",
              "      <td>4</td>\n",
              "      <td>5</td>\n",
              "      <td>2015-07-31</td>\n",
              "      <td>13995</td>\n",
              "      <td>1498</td>\n",
              "      <td>1</td>\n",
              "      <td>1</td>\n",
              "      <td>regular_day</td>\n",
              "      <td>1</td>\n",
              "      <td>c</td>\n",
              "      <td>extended</td>\n",
              "      <td>620.0</td>\n",
              "      <td>9</td>\n",
              "      <td>2009</td>\n",
              "      <td>0</td>\n",
              "      <td>31</td>\n",
              "      <td>2015</td>\n",
              "      <td>0</td>\n",
              "      <td>Jul</td>\n",
              "      <td>0</td>\n",
              "      <td>2015</td>\n",
              "      <td>7</td>\n",
              "      <td>31</td>\n",
              "      <td>31</td>\n",
              "      <td>2015-30</td>\n",
              "      <td>2009-09-01</td>\n",
              "      <td>71</td>\n",
              "      <td>2015-07-27</td>\n",
              "      <td>0</td>\n",
              "    </tr>\n",
              "    <tr>\n",
              "      <th>4</th>\n",
              "      <td>5</td>\n",
              "      <td>5</td>\n",
              "      <td>2015-07-31</td>\n",
              "      <td>4822</td>\n",
              "      <td>559</td>\n",
              "      <td>1</td>\n",
              "      <td>1</td>\n",
              "      <td>regular_day</td>\n",
              "      <td>1</td>\n",
              "      <td>a</td>\n",
              "      <td>basic</td>\n",
              "      <td>29910.0</td>\n",
              "      <td>4</td>\n",
              "      <td>2015</td>\n",
              "      <td>0</td>\n",
              "      <td>31</td>\n",
              "      <td>2015</td>\n",
              "      <td>0</td>\n",
              "      <td>Jul</td>\n",
              "      <td>0</td>\n",
              "      <td>2015</td>\n",
              "      <td>7</td>\n",
              "      <td>31</td>\n",
              "      <td>31</td>\n",
              "      <td>2015-30</td>\n",
              "      <td>2015-04-01</td>\n",
              "      <td>4</td>\n",
              "      <td>2015-07-27</td>\n",
              "      <td>0</td>\n",
              "    </tr>\n",
              "  </tbody>\n",
              "</table>\n",
              "</div>"
            ],
            "text/plain": [
              "   store  day_of_week  ... promo_since  promo_time_week\n",
              "0      1            5  ...  2015-07-27                0\n",
              "1      2            5  ...  2010-03-22              279\n",
              "2      3            5  ...  2011-03-28              226\n",
              "3      4            5  ...  2015-07-27                0\n",
              "4      5            5  ...  2015-07-27                0\n",
              "\n",
              "[5 rows x 29 columns]"
            ]
          },
          "metadata": {
            "tags": []
          },
          "execution_count": 34
        }
      ]
    },
    {
      "cell_type": "markdown",
      "metadata": {
        "id": "dfIxw2pz2Pi0"
      },
      "source": [
        "## 3.1 Filtragem das linhas"
      ]
    },
    {
      "cell_type": "code",
      "metadata": {
        "id": "47jXK0k1236V"
      },
      "source": [
        "#Selecionando somente as lojas abertas\n",
        "\n",
        "df3 = df3[(df3['open'] != 0) & (df3['sales'] > 0)]"
      ],
      "execution_count": 35,
      "outputs": []
    },
    {
      "cell_type": "markdown",
      "metadata": {
        "id": "RJQ-I6TC2TvP"
      },
      "source": [
        "## 3.2 Filtragem das colunas"
      ]
    },
    {
      "cell_type": "code",
      "metadata": {
        "id": "wedqa7QX3v4h"
      },
      "source": [
        "#Dropando as colunas que não queremos\n",
        "\n",
        "cols_drop = ['customers', 'open', 'promo_interval', 'month_map']\n",
        "df3 = df3.drop( cols_drop, axis = 1)"
      ],
      "execution_count": 36,
      "outputs": []
    },
    {
      "cell_type": "code",
      "metadata": {
        "colab": {
          "base_uri": "https://localhost:8080/"
        },
        "id": "XxYate7J4ETQ",
        "outputId": "f15714ef-95c3-4054-f217-95c33a92df44"
      },
      "source": [
        "df3.columns"
      ],
      "execution_count": 37,
      "outputs": [
        {
          "output_type": "execute_result",
          "data": {
            "text/plain": [
              "Index(['store', 'day_of_week', 'date', 'sales', 'promo', 'state_holiday',\n",
              "       'school_holiday', 'store_type', 'assortment', 'competition_distance',\n",
              "       'competition_open_since_month', 'competition_open_since_year', 'promo2',\n",
              "       'promo2_since_week', 'promo2_since_year', 'is_promo', 'year', 'month',\n",
              "       'day', 'week_of_year', 'year_week', 'competition_since',\n",
              "       'competition_time_month', 'promo_since', 'promo_time_week'],\n",
              "      dtype='object')"
            ]
          },
          "metadata": {
            "tags": []
          },
          "execution_count": 37
        }
      ]
    },
    {
      "cell_type": "markdown",
      "metadata": {
        "id": "yCw7ObLyR51Y"
      },
      "source": [
        "# 4.0 PASSO 04 - ANÁLISE EXPLORATÓRIA DOS DADOS "
      ]
    },
    {
      "cell_type": "code",
      "metadata": {
        "id": "Gyp3jA1ZR5dX"
      },
      "source": [
        "df4 = df3.copy()"
      ],
      "execution_count": 38,
      "outputs": []
    },
    {
      "cell_type": "markdown",
      "metadata": {
        "id": "2FhmPAPvShfZ"
      },
      "source": [
        "## 4.1 Análise Univariada"
      ]
    },
    {
      "cell_type": "markdown",
      "metadata": {
        "id": "zDgZkz2rSqEW"
      },
      "source": [
        "### 4.1.1 Response Variable"
      ]
    },
    {
      "cell_type": "code",
      "metadata": {
        "colab": {
          "base_uri": "https://localhost:8080/",
          "height": 0
        },
        "id": "JmfYF1lHSz9W",
        "outputId": "97b42b34-1338-458b-f0ed-c21112cae79c"
      },
      "source": [
        "sns.distplot(df4['sales'])"
      ],
      "execution_count": 39,
      "outputs": [
        {
          "output_type": "stream",
          "text": [
            "/usr/local/lib/python3.7/dist-packages/seaborn/distributions.py:2557: FutureWarning: `distplot` is a deprecated function and will be removed in a future version. Please adapt your code to use either `displot` (a figure-level function with similar flexibility) or `histplot` (an axes-level function for histograms).\n",
            "  warnings.warn(msg, FutureWarning)\n"
          ],
          "name": "stderr"
        },
        {
          "output_type": "execute_result",
          "data": {
            "text/plain": [
              "<matplotlib.axes._subplots.AxesSubplot at 0x7f0f0d6e6450>"
            ]
          },
          "metadata": {
            "tags": []
          },
          "execution_count": 39
        },
        {
          "output_type": "display_data",
          "data": {
            "image/png": "[encoded data removed]",
            "text/plain": [
              "<Figure size 432x288 with 1 Axes>"
            ]
          },
          "metadata": {
            "tags": [],
            "needs_background": "light"
          }
        }
      ]
    },
    {
      "cell_type": "markdown",
      "metadata": {
        "id": "XLmcoT_cStqx"
      },
      "source": [
        "### 4.1.2 Numerical Variable"
      ]
    },
    {
      "cell_type": "code",
      "metadata": {
        "id": "v9QgQ-XYU6Ua"
      },
      "source": [
        "#Mudando o tamanho dos gráficos no Jupyter\n",
        "\n",
        "# %matplotlib inline\n",
        "# %pylab inline\n",
        "# plt.style.use( 'bmh' )\n",
        "# plt.rcParams['figure.figsize'] = [25, 12]\n",
        "# plt.rcParams['font.size'] = 24\n",
        "# display( HTML( '<style>.container { width:100% !important; }</style>') )\n",
        "# pd.options.display.max_columns = None\n",
        "# pd.options.display.max_rows = None\n",
        "# pd.set_option( 'display.expand_frame_repr', False )"
      ],
      "execution_count": 40,
      "outputs": []
    },
    {
      "cell_type": "markdown",
      "metadata": {
        "id": "Th08yopxWBKR"
      },
      "source": [
        ""
      ]
    },
    {
      "cell_type": "code",
      "metadata": {
        "colab": {
          "base_uri": "https://localhost:8080/",
          "height": 0
        },
        "id": "UoP5ZAAUTh3p",
        "outputId": "bfc38f6c-ce9c-41c4-d9c5-591372d3862a"
      },
      "source": [
        "matplotlib.rcParams.update({'font.size': 5})\n",
        "num_attributes.hist(bins = 25);\n",
        "\n",
        "#Repare que variáveis como day_of_week passam a mensagem de que, como não há variação,\n",
        "#as vendas não mudam de acordo com os dias da semana."
      ],
      "execution_count": 41,
      "outputs": [
        {
          "output_type": "display_data",
          "data": {
            "image/png": "[encoded data removed]",
            "text/plain": [
              "<Figure size 432x288 with 16 Axes>"
            ]
          },
          "metadata": {
            "tags": [],
            "needs_background": "light"
          }
        }
      ]
    },
    {
      "cell_type": "markdown",
      "metadata": {
        "id": "_Q75msEFSwjr"
      },
      "source": [
        "### 4.1.3 Categorical Variable"
      ]
    },
    {
      "cell_type": "code",
      "metadata": {
        "colab": {
          "base_uri": "https://localhost:8080/"
        },
        "id": "uC5gRhUhXt6V",
        "outputId": "1b366793-4aa9-4225-86e8-9550457e6e01"
      },
      "source": [
        "# cat_attributes.head()\n",
        "\n",
        "df4['state_holiday'].drop_duplicates()"
      ],
      "execution_count": 42,
      "outputs": [
        {
          "output_type": "execute_result",
          "data": {
            "text/plain": [
              "0            regular_day\n",
              "63559     public_holiday\n",
              "129424    easter_holiday\n",
              "241126         christmas\n",
              "Name: state_holiday, dtype: object"
            ]
          },
          "metadata": {
            "tags": []
          },
          "execution_count": 42
        }
      ]
    },
    {
      "cell_type": "code",
      "metadata": {
        "colab": {
          "base_uri": "https://localhost:8080/",
          "height": 0
        },
        "id": "TdAugOhBYZdQ",
        "outputId": "30dcef77-a15f-46cf-863a-b9b22305345c"
      },
      "source": [
        "# state_holiday\n",
        "plt.subplot( 3, 2, 1 )\n",
        "a = df4[df4['state_holiday'] != 'regular_day']\n",
        "sns.countplot( a['state_holiday'] )\n",
        "\n",
        "plt.subplot( 3, 2, 2 )\n",
        "sns.kdeplot( df4[df4['state_holiday'] == 'public_holiday']['sales'], label='public_holiday', shade=True )\n",
        "sns.kdeplot( df4[df4['state_holiday'] == 'easter_holiday']['sales'], label='easter_holiday', shade=True )\n",
        "sns.kdeplot( df4[df4['state_holiday'] == 'christmas']['sales'], label='christmas', shade=True )\n",
        "\n",
        "# store_type\n",
        "plt.subplot( 3, 2, 3 )\n",
        "sns.countplot( df4['store_type'] )\n",
        "\n",
        "plt.subplot( 3, 2, 4 )\n",
        "sns.kdeplot( df4[df4['store_type'] == 'a']['sales'], label='a', shade=True )\n",
        "sns.kdeplot( df4[df4['store_type'] == 'b']['sales'], label='b', shade=True )\n",
        "sns.kdeplot( df4[df4['store_type'] == 'c']['sales'], label='c', shade=True )\n",
        "sns.kdeplot( df4[df4['store_type'] == 'd']['sales'], label='d', shade=True )\n",
        "\n",
        "# assortment\n",
        "plt.subplot( 3, 2, 5 )\n",
        "sns.countplot( df4['assortment'] )\n",
        "\n",
        "plt.subplot( 3, 2, 6 )\n",
        "sns.kdeplot( df4[df4['assortment'] == 'extended']['sales'], label='extended', shade=True )\n",
        "sns.kdeplot( df4[df4['assortment'] == 'basic']['sales'], label='basic', shade=True )\n",
        "sns.kdeplot( df4[df4['assortment'] == 'extra']['sales'], label='extra', shade=True )"
      ],
      "execution_count": 43,
      "outputs": [
        {
          "output_type": "stream",
          "text": [
            "/usr/local/lib/python3.7/dist-packages/seaborn/_decorators.py:43: FutureWarning: Pass the following variable as a keyword arg: x. From version 0.12, the only valid positional argument will be `data`, and passing other arguments without an explicit keyword will result in an error or misinterpretation.\n",
            "  FutureWarning\n",
            "/usr/local/lib/python3.7/dist-packages/seaborn/_decorators.py:43: FutureWarning: Pass the following variable as a keyword arg: x. From version 0.12, the only valid positional argument will be `data`, and passing other arguments without an explicit keyword will result in an error or misinterpretation.\n",
            "  FutureWarning\n",
            "/usr/local/lib/python3.7/dist-packages/seaborn/_decorators.py:43: FutureWarning: Pass the following variable as a keyword arg: x. From version 0.12, the only valid positional argument will be `data`, and passing other arguments without an explicit keyword will result in an error or misinterpretation.\n",
            "  FutureWarning\n"
          ],
          "name": "stderr"
        },
        {
          "output_type": "execute_result",
          "data": {
            "text/plain": [
              "<matplotlib.axes._subplots.AxesSubplot at 0x7f0f1bd64c10>"
            ]
          },
          "metadata": {
            "tags": []
          },
          "execution_count": 43
        },
        {
          "output_type": "display_data",
          "data": {
            "image/png": "[encoded data removed]",
            "text/plain": [
              "<Figure size 432x288 with 6 Axes>"
            ]
          },
          "metadata": {
            "tags": [],
            "needs_background": "light"
          }
        }
      ]
    },
    {
      "cell_type": "markdown",
      "metadata": {
        "id": "BXIj4ImISktM"
      },
      "source": [
        "## 4.2 Análise Bivariada"
      ]
    },
    {
      "cell_type": "markdown",
      "metadata": {
        "id": "PP1OJIO2sndh"
      },
      "source": [
        "### H1. Lojas com maior sortimento deveriam vender mais.\n",
        "-Falsa. Lojas com MAIS SORTIMENTO vendem MENOS.\n"
      ]
    },
    {
      "cell_type": "code",
      "metadata": {
        "id": "XTNKN5IQtQnS",
        "colab": {
          "base_uri": "https://localhost:8080/",
          "height": 0
        },
        "outputId": "fa815aff-de71-410d-f75f-f455ad6d8922"
      },
      "source": [
        "\n",
        "\n",
        "aux1 = df4[['assortment', 'sales']].groupby( 'assortment' ).sum().reset_index()\n",
        "sns.barplot( x='assortment', y='sales', data=aux1 );\n",
        "\n",
        "aux2 = df4[['year_week', 'assortment', 'sales']].groupby( ['year_week','assortment'] ).sum().reset_index()\n",
        "aux2.pivot( index='year_week', columns='assortment', values='sales' ).plot()\n",
        "\n",
        "aux3 = aux2[aux2['assortment'] == 'extra']\n",
        "aux3.pivot( index='year_week', columns='assortment', values='sales' ).plot()\n",
        "\n",
        "\n",
        "#Note como também podemos analisar mais profundamente a feature para ver se não há erros na análise da hipótese;\n",
        "#Como extra é menor, negamos a hipótese."
      ],
      "execution_count": 44,
      "outputs": [
        {
          "output_type": "execute_result",
          "data": {
            "text/plain": [
              "<matplotlib.axes._subplots.AxesSubplot at 0x7f0f1bb1b110>"
            ]
          },
          "metadata": {
            "tags": []
          },
          "execution_count": 44
        },
        {
          "output_type": "display_data",
          "data": {
            "image/png": "[encoded data removed]",
            "text/plain": [
              "<Figure size 432x288 with 1 Axes>"
            ]
          },
          "metadata": {
            "tags": [],
            "needs_background": "light"
          }
        },
        {
          "output_type": "display_data",
          "data": {
            "image/png": "[encoded data removed]",
            "text/plain": [
              "<Figure size 432x288 with 1 Axes>"
            ]
          },
          "metadata": {
            "tags": [],
            "needs_background": "light"
          }
        },
        {
          "output_type": "display_data",
          "data": {
            "image/png": "[encoded data removed]",
            "text/plain": [
              "<Figure size 432x288 with 1 Axes>"
            ]
          },
          "metadata": {
            "tags": [],
            "needs_background": "light"
          }
        }
      ]
    },
    {
      "cell_type": "code",
      "metadata": {
        "id": "4uUYEeDjucm0",
        "colab": {
          "base_uri": "https://localhost:8080/",
          "height": 0
        },
        "outputId": "7d1eedd9-b9da-4321-e27d-1a2897c1cb1d"
      },
      "source": [
        "aux1 = df4[['assortment', 'sales']].groupby('assortment').sum().reset_index()\n",
        "sns.barplot(x = 'assortment', y = 'sales', data = aux1);"
      ],
      "execution_count": 45,
      "outputs": [
        {
          "output_type": "display_data",
          "data": {
            "image/png": "[encoded data removed]",
            "text/plain": [
              "<Figure size 432x288 with 1 Axes>"
            ]
          },
          "metadata": {
            "tags": [],
            "needs_background": "light"
          }
        }
      ]
    },
    {
      "cell_type": "markdown",
      "metadata": {
        "id": "p8xvYgaes7Kj"
      },
      "source": [
        "### H2. Lojas com competidores mais próximos deveriam vender menos.\n",
        "-Falsa. Lojas com COMPETIDORES MAIS PRÓXIMOS vendem MAIS."
      ]
    },
    {
      "cell_type": "code",
      "metadata": {
        "id": "2_EpaxEU9KMk",
        "colab": {
          "base_uri": "https://localhost:8080/",
          "height": 0
        },
        "outputId": "8397cbc7-aed1-4b34-86db-e90a15861507"
      },
      "source": [
        "aux1 = df4[['competition_distance', 'sales']].groupby( 'competition_distance' ).sum().reset_index()\n",
        "\n",
        "plt.subplot( 1, 3, 1 )\n",
        "sns.scatterplot( x ='competition_distance', y='sales', data=aux1 );\n",
        "\n",
        "plt.subplot( 1, 3, 2 )\n",
        "bins = list( np.arange( 0, 20000, 1000) )\n",
        "aux1['competition_distance_binned'] = pd.cut( aux1['competition_distance'], bins=bins )\n",
        "aux2 = aux1[['competition_distance_binned', 'sales']].groupby( 'competition_distance_binned' ).sum().reset_index()\n",
        "sns.barplot( x='competition_distance_binned', y='sales', data=aux2 );\n",
        "plt.xticks( rotation=90 );\n",
        "\n",
        "#Plotando a força da correlação, no caso a correção de pearson;\n",
        "#Lembre-se que quanto mais próxima de 0, mais fraca é a correlação; quanto mais\n",
        "#próxima de 1 ou -1, mais forte.\n",
        "\n",
        "plt.subplot( 1, 3, 3 )\n",
        "x = sns.heatmap( aux1.corr( method='pearson' ), annot=True );\n",
        "bottom, top = x.get_ylim()\n",
        "x.set_ylim( bottom+0.5, top-0.5 );\n",
        "\n",
        "#Note como temos o insight de que competidores mas próximos aumentam as vendas, em vez de diminuir."
      ],
      "execution_count": 46,
      "outputs": [
        {
          "output_type": "display_data",
          "data": {
            "image/png": "[encoded data removed]",
            "text/plain": [
              "<Figure size 432x288 with 4 Axes>"
            ]
          },
          "metadata": {
            "tags": [],
            "needs_background": "light"
          }
        }
      ]
    },
    {
      "cell_type": "markdown",
      "metadata": {
        "id": "T1Qsk7yDtAjH"
      },
      "source": [
        "### H3. Lojas com competidores à mais tempo deveriam vender mais.\n",
        "FALSA Lojas com promocoes ativas por mais tempo vendem menos, depois de um certo periodo de promocao."
      ]
    },
    {
      "cell_type": "code",
      "metadata": {
        "id": "lkEgY__QEJA8",
        "colab": {
          "base_uri": "https://localhost:8080/",
          "height": 0
        },
        "outputId": "b458cb32-b44c-4b65-e15d-2bcbaae77ebd"
      },
      "source": [
        "plt.subplot( 1, 3, 1 )\n",
        "aux1 = df4[['competition_time_month', 'sales']].groupby( 'competition_time_month' ).sum().reset_index()\n",
        "aux2 = aux1[( aux1['competition_time_month'] < 120 ) & ( aux1['competition_time_month'] != 0 )]\n",
        "sns.barplot( x='competition_time_month', y='sales', data=aux2 );\n",
        "plt.xticks( rotation=90 );\n",
        "\n",
        "plt.subplot( 1, 3, 2 )\n",
        "sns.regplot( x='competition_time_month', y='sales', data=aux2 );\n",
        "\n",
        "plt.subplot( 1, 3, 3 )\n",
        "x = sns.heatmap( aux1.corr( method='pearson'), annot=True );\n",
        "bottom, top = x.get_ylim()\n",
        "x.set_ylim( bottom+0.5, top-0.5);"
      ],
      "execution_count": 47,
      "outputs": [
        {
          "output_type": "display_data",
          "data": {
            "image/png": "[encoded data removed]",
            "text/plain": [
              "<Figure size 432x288 with 4 Axes>"
            ]
          },
          "metadata": {
            "tags": [],
            "needs_background": "light"
          }
        }
      ]
    },
    {
      "cell_type": "markdown",
      "metadata": {
        "id": "rYNB-YeCyA0n"
      },
      "source": [
        "### H4. Lojas com promoções ativas por mais tempo deveriam vender mais.\n",
        "FALSA. Lojas com promocoes ativas por mais tempo vendem menos, depois de um certo periodo de promocao"
      ]
    },
    {
      "cell_type": "code",
      "metadata": {
        "colab": {
          "base_uri": "https://localhost:8080/",
          "height": 0
        },
        "id": "1Uk7u1nOyMOL",
        "outputId": "4a9c1309-7ad4-4dfa-b429-08646c2e6c00"
      },
      "source": [
        "aux1 = df4[['promo_time_week', 'sales']].groupby( 'promo_time_week').sum().reset_index()\n",
        "\n",
        "grid = gridspec.GridSpec( 2, 3)\n",
        "\n",
        "plt.subplot( grid[0,0] )\n",
        "aux2 = aux1[aux1['promo_time_week'] > 0] # promo extendido\n",
        "sns.barplot( x='promo_time_week', y='sales', data=aux2 );\n",
        "plt.xticks( rotation=90 );\n",
        "\n",
        "plt.subplot( grid[0,1] )\n",
        "sns.regplot( x='promo_time_week', y='sales', data=aux2 );\n",
        "\n",
        "plt.subplot( grid[1,0] )\n",
        "aux3 = aux1[aux1['promo_time_week'] < 0] # promo regular\n",
        "sns.barplot( x='promo_time_week', y='sales', data=aux3 );\n",
        "plt.xticks( rotation=90 );\n",
        "\n",
        "plt.subplot( grid[1,1] )\n",
        "sns.regplot( x='promo_time_week', y='sales', data=aux3 );\n",
        "\n",
        "#calculando a correlação utilizando a formula de pearson\n",
        "\n",
        "plt.subplot( grid[:,2] )\n",
        "sns.heatmap( aux1.corr( method='pearson' ), annot=True );\n"
      ],
      "execution_count": 48,
      "outputs": [
        {
          "output_type": "display_data",
          "data": {
            "image/png": "[encoded data removed]",
            "text/plain": [
              "<Figure size 432x288 with 6 Axes>"
            ]
          },
          "metadata": {
            "tags": [],
            "needs_background": "light"
          }
        }
      ]
    },
    {
      "cell_type": "markdown",
      "metadata": {
        "id": "0_-O_z1X0QVI"
      },
      "source": [
        "### H7. Lojas com mais promoções consecutivas deveriam vender mais.\n",
        "FALSA Lojas com mais promocoes consecutivas vendem menos"
      ]
    },
    {
      "cell_type": "code",
      "metadata": {
        "id": "JSWNtnAW0SOg",
        "colab": {
          "base_uri": "https://localhost:8080/",
          "height": 0
        },
        "outputId": "980cfc98-e4e0-436a-b495-3f43654479b1"
      },
      "source": [
        "df4[['promo', 'promo2', 'sales']].groupby( ['promo', 'promo2'] ).sum().reset_index()"
      ],
      "execution_count": 49,
      "outputs": [
        {
          "output_type": "execute_result",
          "data": {
            "text/html": [
              "<div>\n",
              "<style scoped>\n",
              "    .dataframe tbody tr th:only-of-type {\n",
              "        vertical-align: middle;\n",
              "    }\n",
              "\n",
              "    .dataframe tbody tr th {\n",
              "        vertical-align: top;\n",
              "    }\n",
              "\n",
              "    .dataframe thead th {\n",
              "        text-align: right;\n",
              "    }\n",
              "</style>\n",
              "<table border=\"1\" class=\"dataframe\">\n",
              "  <thead>\n",
              "    <tr style=\"text-align: right;\">\n",
              "      <th></th>\n",
              "      <th>promo</th>\n",
              "      <th>promo2</th>\n",
              "      <th>sales</th>\n",
              "    </tr>\n",
              "  </thead>\n",
              "  <tbody>\n",
              "    <tr>\n",
              "      <th>0</th>\n",
              "      <td>0</td>\n",
              "      <td>0</td>\n",
              "      <td>1482612096</td>\n",
              "    </tr>\n",
              "    <tr>\n",
              "      <th>1</th>\n",
              "      <td>0</td>\n",
              "      <td>1</td>\n",
              "      <td>1289362241</td>\n",
              "    </tr>\n",
              "    <tr>\n",
              "      <th>2</th>\n",
              "      <td>1</td>\n",
              "      <td>0</td>\n",
              "      <td>1628930532</td>\n",
              "    </tr>\n",
              "    <tr>\n",
              "      <th>3</th>\n",
              "      <td>1</td>\n",
              "      <td>1</td>\n",
              "      <td>1472275754</td>\n",
              "    </tr>\n",
              "  </tbody>\n",
              "</table>\n",
              "</div>"
            ],
            "text/plain": [
              "   promo  promo2       sales\n",
              "0      0       0  1482612096\n",
              "1      0       1  1289362241\n",
              "2      1       0  1628930532\n",
              "3      1       1  1472275754"
            ]
          },
          "metadata": {
            "tags": []
          },
          "execution_count": 49
        }
      ]
    },
    {
      "cell_type": "code",
      "metadata": {
        "id": "70U6ZVL-0Vuo",
        "colab": {
          "base_uri": "https://localhost:8080/",
          "height": 0
        },
        "outputId": "16d830c4-3290-47ac-a596-abfbf08e2d89"
      },
      "source": [
        "aux1 = df4[( df4['promo'] == 1 ) & ( df4['promo2'] == 1 )][['year_week', 'sales']].groupby( 'year_week' ).sum().reset_index()\n",
        "ax = aux1.plot()\n",
        "\n",
        "aux2 = df4[( df4['promo'] == 1 ) & ( df4['promo2'] == 0 )][['year_week', 'sales']].groupby( 'year_week' ).sum().reset_index()\n",
        "aux2.plot( ax=ax )\n",
        "\n",
        "ax.legend( labels=['Tradicional & Extendida', 'Extendida']);"
      ],
      "execution_count": 50,
      "outputs": [
        {
          "output_type": "display_data",
          "data": {
            "image/png": "[encoded data removed]",
            "text/plain": [
              "<Figure size 432x288 with 1 Axes>"
            ]
          },
          "metadata": {
            "tags": [],
            "needs_background": "light"
          }
        }
      ]
    },
    {
      "cell_type": "markdown",
      "metadata": {
        "id": "dbGz9eCG0W2k"
      },
      "source": [
        "### H8. Lojas abertas durante o feriado de Natal deveriam vender mais.¶\n",
        "FALSA Lojas abertas durante o feriado do Natal vendem menos."
      ]
    },
    {
      "cell_type": "code",
      "metadata": {
        "id": "lH31rOGM0YhZ",
        "colab": {
          "base_uri": "https://localhost:8080/",
          "height": 0
        },
        "outputId": "2683b54c-fd17-4800-8cbf-8ce05393a595"
      },
      "source": [
        "aux = df4[df4['state_holiday'] != 'regular_day']\n",
        "\n",
        "plt.subplot( 1, 2, 1 )\n",
        "aux1 = aux[['state_holiday', 'sales']].groupby( 'state_holiday' ).sum().reset_index()\n",
        "sns.barplot( x='state_holiday', y='sales', data=aux1 );\n",
        "\n",
        "plt.subplot( 1, 2, 2 )\n",
        "aux2 = aux[['year', 'state_holiday', 'sales']].groupby( ['year', 'state_holiday'] ).sum().reset_index()\n",
        "sns.barplot( x='year', y='sales', hue='state_holiday', data=aux2 );"
      ],
      "execution_count": 51,
      "outputs": [
        {
          "output_type": "display_data",
          "data": {
            "image/png": "[encoded data removed]",
            "text/plain": [
              "<Figure size 432x288 with 2 Axes>"
            ]
          },
          "metadata": {
            "tags": [],
            "needs_background": "light"
          }
        }
      ]
    },
    {
      "cell_type": "markdown",
      "metadata": {
        "id": "4nWkcQtj0ZqE"
      },
      "source": [
        "### H9. Lojas deveriam vender mais ao longo dos anos.\n",
        "FALSA Lojas vendem menos ao longo dos anos"
      ]
    },
    {
      "cell_type": "code",
      "metadata": {
        "id": "RVIf8_jA0a9R",
        "colab": {
          "base_uri": "https://localhost:8080/",
          "height": 0
        },
        "outputId": "be218f37-5bda-41b1-eb05-bd3988c95afc"
      },
      "source": [
        "aux1 = df4[['year', 'sales']].groupby( 'year' ).sum().reset_index()\n",
        "\n",
        "plt.subplot( 1, 3, 1 )\n",
        "sns.barplot( x='year', y='sales', data=aux1 );\n",
        "\n",
        "plt.subplot( 1, 3, 2 )\n",
        "sns.regplot( x='year', y='sales', data=aux1 );\n",
        "\n",
        "plt.subplot( 1, 3, 3 )\n",
        "sns.heatmap( aux1.corr( method='pearson' ), annot=True );"
      ],
      "execution_count": 52,
      "outputs": [
        {
          "output_type": "display_data",
          "data": {
            "image/png": "[encoded data removed]",
            "text/plain": [
              "<Figure size 432x288 with 4 Axes>"
            ]
          },
          "metadata": {
            "tags": [],
            "needs_background": "light"
          }
        }
      ]
    },
    {
      "cell_type": "markdown",
      "metadata": {
        "id": "oJfU_LpI0cH0"
      },
      "source": [
        "### H10. Lojas deveriam vender mais no segundo semestre do ano.\n",
        "FALSA Lojas vendem menos no segundo semestre do ano"
      ]
    },
    {
      "cell_type": "code",
      "metadata": {
        "id": "EggXsFqx0d63",
        "colab": {
          "base_uri": "https://localhost:8080/",
          "height": 0
        },
        "outputId": "5d2d3829-fbd2-4dbb-adf1-26f4db6fecb9"
      },
      "source": [
        "aux1 = df4[['month', 'sales']].groupby( 'month' ).sum().reset_index()\n",
        "\n",
        "plt.subplot( 1, 3, 1 )\n",
        "sns.barplot( x='month', y='sales', data=aux1 );\n",
        "\n",
        "plt.subplot( 1, 3, 2 )\n",
        "sns.regplot( x='month', y='sales', data=aux1 );\n",
        "\n",
        "plt.subplot( 1, 3, 3 )\n",
        "sns.heatmap( aux1.corr( method='pearson' ), annot=True );"
      ],
      "execution_count": 53,
      "outputs": [
        {
          "output_type": "display_data",
          "data": {
            "image/png": "[encoded data removed]",
            "text/plain": [
              "<Figure size 432x288 with 4 Axes>"
            ]
          },
          "metadata": {
            "tags": [],
            "needs_background": "light"
          }
        }
      ]
    },
    {
      "cell_type": "markdown",
      "metadata": {
        "id": "jWrqL6kf0f17"
      },
      "source": [
        "### H11. Lojas deveriam vender mais depois do dia 10 de cada mês.\n",
        "VERDADEIRA Lojas vendem mais depois do dia 10 de cada mes."
      ]
    },
    {
      "cell_type": "code",
      "metadata": {
        "id": "2xZcy-ug0iYK",
        "colab": {
          "base_uri": "https://localhost:8080/",
          "height": 0
        },
        "outputId": "20be1608-d82b-4eec-a44a-1452e6e80ca9"
      },
      "source": [
        "aux1 = df4[['day', 'sales']].groupby( 'day' ).sum().reset_index()\n",
        "\n",
        "plt.subplot( 2, 2, 1 )\n",
        "sns.barplot( x='day', y='sales', data=aux1 );\n",
        "\n",
        "plt.subplot( 2, 2, 2 )\n",
        "sns.regplot( x='day', y='sales', data=aux1 );\n",
        "\n",
        "plt.subplot( 2, 2, 3 )\n",
        "sns.heatmap( aux1.corr( method='pearson' ), annot=True );\n",
        "\n",
        "aux1['before_after'] = aux1['day'].apply( lambda x: 'before_10_days' if x <= 10 else 'after_10_days' )\n",
        "aux2 =aux1[['before_after', 'sales']].groupby( 'before_after' ).sum().reset_index()\n",
        "\n",
        "plt.subplot( 2, 2, 4 )\n",
        "sns.barplot( x='before_after', y='sales', data=aux2 );"
      ],
      "execution_count": 54,
      "outputs": [
        {
          "output_type": "display_data",
          "data": {
            "image/png": "[encoded data removed]",
            "text/plain": [
              "<Figure size 432x288 with 5 Axes>"
            ]
          },
          "metadata": {
            "tags": [],
            "needs_background": "light"
          }
        }
      ]
    },
    {
      "cell_type": "markdown",
      "metadata": {
        "id": "W0jhoxyR0jkz"
      },
      "source": [
        "### H12. Lojas deveriam vender menos aos finais de semana.¶\n",
        "VERDADEIRA Lojas vendem menos nos final de semana"
      ]
    },
    {
      "cell_type": "code",
      "metadata": {
        "id": "Br9s-xzX0lCq",
        "colab": {
          "base_uri": "https://localhost:8080/",
          "height": 0
        },
        "outputId": "5c554203-a207-45be-d485-1147f2950f66"
      },
      "source": [
        "aux1 = df4[['day_of_week', 'sales']].groupby( 'day_of_week' ).sum().reset_index()\n",
        "\n",
        "plt.subplot( 1, 3, 1 )\n",
        "sns.barplot( x='day_of_week', y='sales', data=aux1 );\n",
        "\n",
        "plt.subplot( 1, 3, 2 )\n",
        "sns.regplot( x='day_of_week', y='sales', data=aux1 );\n",
        "\n",
        "plt.subplot( 1, 3, 3 )\n",
        "sns.heatmap( aux1.corr( method='pearson' ), annot=True );"
      ],
      "execution_count": 55,
      "outputs": [
        {
          "output_type": "display_data",
          "data": {
            "image/png": "[encoded data removed]",
            "text/plain": [
              "<Figure size 432x288 with 4 Axes>"
            ]
          },
          "metadata": {
            "tags": [],
            "needs_background": "light"
          }
        }
      ]
    },
    {
      "cell_type": "markdown",
      "metadata": {
        "id": "AcdC06f_0mNC"
      },
      "source": [
        "### H13. Lojas deveriam vender menos durante os feriados escolares.\n",
        "VERDADEIRA Lojas vendem menos durante os feriadso escolares, except os meses de Julho e Agosto."
      ]
    },
    {
      "cell_type": "code",
      "metadata": {
        "id": "ISf7350y0oTr",
        "colab": {
          "base_uri": "https://localhost:8080/",
          "height": 0
        },
        "outputId": "43e134aa-ccd3-402f-f64f-558d68a12c7e"
      },
      "source": [
        "aux1 = df4[['school_holiday', 'sales']].groupby( 'school_holiday' ).sum().reset_index()\n",
        "plt.subplot( 2, 1, 1 )\n",
        "sns.barplot( x='school_holiday', y='sales', data=aux1 );\n",
        "\n",
        "aux2 = df4[['month', 'school_holiday', 'sales']].groupby( ['month','school_holiday'] ).sum().reset_index()\n",
        "plt.subplot( 2, 1, 2 )\n",
        "sns.barplot( x='month', y='sales', hue='school_holiday', data=aux2 );"
      ],
      "execution_count": 56,
      "outputs": [
        {
          "output_type": "display_data",
          "data": {
            "image/png": "[encoded data removed]",
            "text/plain": [
              "<Figure size 432x288 with 2 Axes>"
            ]
          },
          "metadata": {
            "tags": [],
            "needs_background": "light"
          }
        }
      ]
    },
    {
      "cell_type": "markdown",
      "metadata": {
        "id": "cd0ntEWAtW7U"
      },
      "source": [
        "## 4.2.1. Resumo das Hipoteses"
      ]
    },
    {
      "cell_type": "code",
      "metadata": {
        "id": "Q6AippG8tbLI"
      },
      "source": [
        "from tabulate import tabulate"
      ],
      "execution_count": 57,
      "outputs": []
    },
    {
      "cell_type": "code",
      "metadata": {
        "colab": {
          "base_uri": "https://localhost:8080/"
        },
        "id": "pLJvqnmgtjap",
        "outputId": "cd285f2a-233e-48e8-f73d-3afaf648a713"
      },
      "source": [
        "\n",
        "\n",
        "tab =[['Hipoteses', 'Conclusao', 'Relevancia'],\n",
        "      ['H1', 'Falsa', 'Baixa'],  \n",
        "      ['H2', 'Falsa', 'Media'],  \n",
        "      ['H3', 'Falsa', 'Media'],\n",
        "      ['H4', 'Falsa', 'Baixa'],\n",
        "      ['H5', '-', '-'],\n",
        "      ['H7', 'Falsa', 'Baixa'],\n",
        "      ['H8', 'Falsa', 'Media'],\n",
        "      ['H9', 'Falsa', 'Alta'],\n",
        "      ['H10', 'Falsa', 'Alta'],\n",
        "      ['H11', 'Verdadeira', 'Alta'],\n",
        "      ['H12', 'Verdadeira', 'Alta'],\n",
        "      ['H13', 'Verdadeira', 'Baixa'],\n",
        "     ]  \n",
        "print( tabulate( tab, headers = 'firstrow' ) )"
      ],
      "execution_count": 58,
      "outputs": [
        {
          "output_type": "stream",
          "text": [
            "Hipoteses    Conclusao    Relevancia\n",
            "-----------  -----------  ------------\n",
            "H1           Falsa        Baixa\n",
            "H2           Falsa        Media\n",
            "H3           Falsa        Media\n",
            "H4           Falsa        Baixa\n",
            "H5           -            -\n",
            "H7           Falsa        Baixa\n",
            "H8           Falsa        Media\n",
            "H9           Falsa        Alta\n",
            "H10          Falsa        Alta\n",
            "H11          Verdadeira   Alta\n",
            "H12          Verdadeira   Alta\n",
            "H13          Verdadeira   Baixa\n"
          ],
          "name": "stdout"
        }
      ]
    },
    {
      "cell_type": "markdown",
      "metadata": {
        "id": "YPsA-FGxSm66"
      },
      "source": [
        "## 4.3 Análise Multivariada"
      ]
    },
    {
      "cell_type": "markdown",
      "metadata": {
        "id": "c8PGksNyt-Vu"
      },
      "source": [
        "### 4.3.1 Numerical Attributes"
      ]
    },
    {
      "cell_type": "code",
      "metadata": {
        "colab": {
          "base_uri": "https://localhost:8080/",
          "height": 0
        },
        "id": "nS24PzaouGvH",
        "outputId": "2b4945c4-05d6-49a2-a99c-47309b251791"
      },
      "source": [
        "#Lembrando que o método de pearson é usado para calcular a correlação entre\n",
        "#duas variáveis númericas;\n",
        "#Para variáveis categóricas, utiliza-se o cramer v.\n",
        "\n",
        "correlation = num_attributes.corr( method = 'pearson' )\n",
        "plt.figure(figsize=(12,12))\n",
        "plt.rcParams['xtick.labelsize'] = 12\n",
        "plt.rcParams['ytick.labelsize'] = 12\n",
        "sns.heatmap( correlation, annot = True, annot_kws={\"size\":8})"
      ],
      "execution_count": 59,
      "outputs": [
        {
          "output_type": "execute_result",
          "data": {
            "text/plain": [
              "<matplotlib.axes._subplots.AxesSubplot at 0x7f0f1a188dd0>"
            ]
          },
          "metadata": {
            "tags": []
          },
          "execution_count": 59
        },
        {
          "output_type": "display_data",
          "data": {
            "image/png": "[encoded data removed]",
            "text/plain": [
              "<Figure size 864x864 with 2 Axes>"
            ]
          },
          "metadata": {
            "tags": [],
            "needs_background": "light"
          }
        }
      ]
    },
    {
      "cell_type": "markdown",
      "metadata": {
        "id": "ODZdhhU-vzTe"
      },
      "source": [
        "### 4.3.2 Categorical Attributes"
      ]
    },
    {
      "cell_type": "code",
      "metadata": {
        "colab": {
          "base_uri": "https://localhost:8080/",
          "height": 0
        },
        "id": "50l703DGv3QN",
        "outputId": "cb6070ad-2294-4ad3-b8ff-0088e3308ca2"
      },
      "source": [
        "# only categorical data\n",
        "\n",
        "a = df4.select_dtypes( include='object' )\n",
        "\n",
        "# Calculate cramer V\n",
        "# Diferente do pearson que ia de [-1,1], o cramer vai de 0 a 1.\n",
        "\n",
        "a1 = cramer_v( a['state_holiday'], a['state_holiday'] )\n",
        "a2 = cramer_v( a['state_holiday'], a['store_type'] )\n",
        "a3 = cramer_v( a['state_holiday'], a['assortment'] )\n",
        "\n",
        "a4 = cramer_v( a['store_type'], a['state_holiday'] )\n",
        "a5 = cramer_v( a['store_type'], a['store_type'] )\n",
        "a6 = cramer_v( a['store_type'], a['assortment'] )\n",
        "\n",
        "a7 = cramer_v( a['assortment'], a['state_holiday'] )\n",
        "a8 = cramer_v( a['assortment'], a['store_type'] )\n",
        "a9 = cramer_v( a['assortment'], a['assortment'] )\n",
        "\n",
        "# Final dataset\n",
        "\n",
        "d = pd.DataFrame( {'state_holiday': [a1, a2, a3], \n",
        "               'store_type': [a4, a5, a6],\n",
        "               'assortment': [a7, a8, a9]  })\n",
        "d = d.set_index( d.columns )\n",
        "\n",
        "plt.figure(figsize=(9,9))\n",
        "plt.rcParams['xtick.labelsize'] = 12\n",
        "plt.rcParams['ytick.labelsize'] = 12\n",
        "sns.heatmap( d, annot = True, annot_kws={\"size\":8})"
      ],
      "execution_count": 60,
      "outputs": [
        {
          "output_type": "execute_result",
          "data": {
            "text/plain": [
              "<matplotlib.axes._subplots.AxesSubplot at 0x7f0f1adcc290>"
            ]
          },
          "metadata": {
            "tags": []
          },
          "execution_count": 60
        },
        {
          "output_type": "display_data",
          "data": {
            "image/png": "[encoded data removed]",
            "text/plain": [
              "<Figure size 648x648 with 2 Axes>"
            ]
          },
          "metadata": {
            "tags": [],
            "needs_background": "light"
          }
        }
      ]
    },
    {
      "cell_type": "markdown",
      "metadata": {
        "id": "VRm67TTMFuZh"
      },
      "source": [
        "# 5.0 PASSO 05 - DATA PREPARATION"
      ]
    },
    {
      "cell_type": "code",
      "metadata": {
        "id": "sNVMh4uUFzuX"
      },
      "source": [
        "df5 = df4.copy()"
      ],
      "execution_count": 61,
      "outputs": []
    },
    {
      "cell_type": "markdown",
      "metadata": {
        "id": "m_2_2IF-F88w"
      },
      "source": [
        "## 5.1 Normalizacao"
      ]
    },
    {
      "cell_type": "markdown",
      "metadata": {
        "id": "zPsvHZ0vF_I2"
      },
      "source": [
        "## 5.2 Rescaling"
      ]
    },
    {
      "cell_type": "code",
      "metadata": {
        "id": "8Ifkk6nRGBzY"
      },
      "source": [
        "rs = RobustScaler()\n",
        "mms = MinMaxScaler()\n",
        "\n",
        "# competition distance\n",
        "df5['competition_distance'] = rs.fit_transform( df5[['competition_distance']].values )\n",
        "\n",
        "# competition time month\n",
        "df5['competition_time_month'] = rs.fit_transform( df5[['competition_time_month']].values )\n",
        "\n",
        "# promo time week\n",
        "df5['promo_time_week'] = mms.fit_transform( df5[['promo_time_week']].values )\n",
        "\n",
        "# year\n",
        "df5['year'] = mms.fit_transform( df5[['year']].values )"
      ],
      "execution_count": 62,
      "outputs": []
    },
    {
      "cell_type": "markdown",
      "metadata": {
        "id": "Tbecoc5yGjwO"
      },
      "source": [
        "## 5.3 Transformacao"
      ]
    },
    {
      "cell_type": "markdown",
      "metadata": {
        "id": "4Fn6LBrRGm1Q"
      },
      "source": [
        "### 5.3.1 Encoding"
      ]
    },
    {
      "cell_type": "code",
      "metadata": {
        "id": "IIWB9jLSGp4r"
      },
      "source": [
        "# state_holiday - One Hot Encoding\n",
        "df5 = pd.get_dummies( df5, prefix=['state_holiday'], columns=['state_holiday'] )\n",
        "\n",
        "# store_type - Label Encoding\n",
        "le = LabelEncoder()\n",
        "df5['store_type'] = le.fit_transform( df5['store_type'] )\n",
        "\n",
        "# assortment - Ordinal Encoding\n",
        "assortment_dict = {'basic': 1,  'extra': 2, 'extended': 3}\n",
        "df5['assortment'] = df5['assortment'].map( assortment_dict )"
      ],
      "execution_count": 63,
      "outputs": []
    },
    {
      "cell_type": "markdown",
      "metadata": {
        "id": "GP-skaRUG7aL"
      },
      "source": [
        "### 5.3.2 Response Variable Transformation"
      ]
    },
    {
      "cell_type": "code",
      "metadata": {
        "id": "nZnEMQn_G-NT"
      },
      "source": [
        "df5['sales'] = np.log1p( df5['sales'] )"
      ],
      "execution_count": 64,
      "outputs": []
    },
    {
      "cell_type": "markdown",
      "metadata": {
        "id": "6f7u_5BoHDh7"
      },
      "source": [
        "### 5.3.2 Nature Transformation"
      ]
    },
    {
      "cell_type": "code",
      "metadata": {
        "id": "3HndCYr2HHW2"
      },
      "source": [
        "# day of week\n",
        "df5['day_of_week_sin'] = df5['day_of_week'].apply( lambda x: np.sin( x * ( 2. * np.pi/7 ) ) )\n",
        "df5['day_of_week_cos'] = df5['day_of_week'].apply( lambda x: np.cos( x * ( 2. * np.pi/7 ) ) )\n",
        "\n",
        "# month\n",
        "df5['month_sin'] = df5['month'].apply( lambda x: np.sin( x * ( 2. * np.pi/12 ) ) )\n",
        "df5['month_cos'] = df5['month'].apply( lambda x: np.cos( x * ( 2. * np.pi/12 ) ) )\n",
        "\n",
        "# day \n",
        "df5['day_sin'] = df5['day'].apply( lambda x: np.sin( x * ( 2. * np.pi/30 ) ) )\n",
        "df5['day_cos'] = df5['day'].apply( lambda x: np.cos( x * ( 2. * np.pi/30 ) ) )\n",
        "\n",
        "# week of year\n",
        "df5['week_of_year_sin'] = df5['week_of_year'].apply( lambda x: np.sin( x * ( 2. * np.pi/52 ) ) )\n",
        "df5['week_of_year_cos'] = df5['week_of_year'].apply( lambda x: np.cos( x * ( 2. * np.pi/52 ) ) )"
      ],
      "execution_count": 65,
      "outputs": []
    },
    {
      "cell_type": "code",
      "metadata": {
        "colab": {
          "base_uri": "https://localhost:8080/",
          "height": 0
        },
        "id": "HX2doXDFHMKN",
        "outputId": "807e7957-b7a3-4757-f3b1-759d06b367db"
      },
      "source": [
        "df5.head()"
      ],
      "execution_count": 66,
      "outputs": [
        {
          "output_type": "execute_result",
          "data": {
            "text/html": [
              "<div>\n",
              "<style scoped>\n",
              "    .dataframe tbody tr th:only-of-type {\n",
              "        vertical-align: middle;\n",
              "    }\n",
              "\n",
              "    .dataframe tbody tr th {\n",
              "        vertical-align: top;\n",
              "    }\n",
              "\n",
              "    .dataframe thead th {\n",
              "        text-align: right;\n",
              "    }\n",
              "</style>\n",
              "<table border=\"1\" class=\"dataframe\">\n",
              "  <thead>\n",
              "    <tr style=\"text-align: right;\">\n",
              "      <th></th>\n",
              "      <th>store</th>\n",
              "      <th>day_of_week</th>\n",
              "      <th>date</th>\n",
              "      <th>sales</th>\n",
              "      <th>promo</th>\n",
              "      <th>school_holiday</th>\n",
              "      <th>store_type</th>\n",
              "      <th>assortment</th>\n",
              "      <th>competition_distance</th>\n",
              "      <th>competition_open_since_month</th>\n",
              "      <th>competition_open_since_year</th>\n",
              "      <th>promo2</th>\n",
              "      <th>promo2_since_week</th>\n",
              "      <th>promo2_since_year</th>\n",
              "      <th>is_promo</th>\n",
              "      <th>year</th>\n",
              "      <th>month</th>\n",
              "      <th>day</th>\n",
              "      <th>week_of_year</th>\n",
              "      <th>year_week</th>\n",
              "      <th>competition_since</th>\n",
              "      <th>competition_time_month</th>\n",
              "      <th>promo_since</th>\n",
              "      <th>promo_time_week</th>\n",
              "      <th>state_holiday_christmas</th>\n",
              "      <th>state_holiday_easter_holiday</th>\n",
              "      <th>state_holiday_public_holiday</th>\n",
              "      <th>state_holiday_regular_day</th>\n",
              "      <th>day_of_week_sin</th>\n",
              "      <th>day_of_week_cos</th>\n",
              "      <th>month_sin</th>\n",
              "      <th>month_cos</th>\n",
              "      <th>day_sin</th>\n",
              "      <th>day_cos</th>\n",
              "      <th>week_of_year_sin</th>\n",
              "      <th>week_of_year_cos</th>\n",
              "    </tr>\n",
              "  </thead>\n",
              "  <tbody>\n",
              "    <tr>\n",
              "      <th>0</th>\n",
              "      <td>1</td>\n",
              "      <td>5</td>\n",
              "      <td>2015-07-31</td>\n",
              "      <td>8.568646</td>\n",
              "      <td>1</td>\n",
              "      <td>1</td>\n",
              "      <td>2</td>\n",
              "      <td>1</td>\n",
              "      <td>-0.170968</td>\n",
              "      <td>9</td>\n",
              "      <td>2008</td>\n",
              "      <td>0</td>\n",
              "      <td>31</td>\n",
              "      <td>2015</td>\n",
              "      <td>0</td>\n",
              "      <td>1.0</td>\n",
              "      <td>7</td>\n",
              "      <td>31</td>\n",
              "      <td>31</td>\n",
              "      <td>2015-30</td>\n",
              "      <td>2008-09-01</td>\n",
              "      <td>0.918919</td>\n",
              "      <td>2015-07-27</td>\n",
              "      <td>0.287016</td>\n",
              "      <td>0</td>\n",
              "      <td>0</td>\n",
              "      <td>0</td>\n",
              "      <td>1</td>\n",
              "      <td>-0.974928</td>\n",
              "      <td>-0.222521</td>\n",
              "      <td>-0.5</td>\n",
              "      <td>-0.866025</td>\n",
              "      <td>0.207912</td>\n",
              "      <td>0.978148</td>\n",
              "      <td>-0.568065</td>\n",
              "      <td>-0.822984</td>\n",
              "    </tr>\n",
              "    <tr>\n",
              "      <th>1</th>\n",
              "      <td>2</td>\n",
              "      <td>5</td>\n",
              "      <td>2015-07-31</td>\n",
              "      <td>8.710290</td>\n",
              "      <td>1</td>\n",
              "      <td>1</td>\n",
              "      <td>0</td>\n",
              "      <td>1</td>\n",
              "      <td>-0.283871</td>\n",
              "      <td>11</td>\n",
              "      <td>2007</td>\n",
              "      <td>1</td>\n",
              "      <td>13</td>\n",
              "      <td>2010</td>\n",
              "      <td>1</td>\n",
              "      <td>1.0</td>\n",
              "      <td>7</td>\n",
              "      <td>31</td>\n",
              "      <td>31</td>\n",
              "      <td>2015-30</td>\n",
              "      <td>2007-11-01</td>\n",
              "      <td>1.054054</td>\n",
              "      <td>2010-03-22</td>\n",
              "      <td>0.922551</td>\n",
              "      <td>0</td>\n",
              "      <td>0</td>\n",
              "      <td>0</td>\n",
              "      <td>1</td>\n",
              "      <td>-0.974928</td>\n",
              "      <td>-0.222521</td>\n",
              "      <td>-0.5</td>\n",
              "      <td>-0.866025</td>\n",
              "      <td>0.207912</td>\n",
              "      <td>0.978148</td>\n",
              "      <td>-0.568065</td>\n",
              "      <td>-0.822984</td>\n",
              "    </tr>\n",
              "    <tr>\n",
              "      <th>2</th>\n",
              "      <td>3</td>\n",
              "      <td>5</td>\n",
              "      <td>2015-07-31</td>\n",
              "      <td>9.025816</td>\n",
              "      <td>1</td>\n",
              "      <td>1</td>\n",
              "      <td>0</td>\n",
              "      <td>1</td>\n",
              "      <td>1.903226</td>\n",
              "      <td>12</td>\n",
              "      <td>2006</td>\n",
              "      <td>1</td>\n",
              "      <td>14</td>\n",
              "      <td>2011</td>\n",
              "      <td>1</td>\n",
              "      <td>1.0</td>\n",
              "      <td>7</td>\n",
              "      <td>31</td>\n",
              "      <td>31</td>\n",
              "      <td>2015-30</td>\n",
              "      <td>2006-12-01</td>\n",
              "      <td>1.202703</td>\n",
              "      <td>2011-03-28</td>\n",
              "      <td>0.801822</td>\n",
              "      <td>0</td>\n",
              "      <td>0</td>\n",
              "      <td>0</td>\n",
              "      <td>1</td>\n",
              "      <td>-0.974928</td>\n",
              "      <td>-0.222521</td>\n",
              "      <td>-0.5</td>\n",
              "      <td>-0.866025</td>\n",
              "      <td>0.207912</td>\n",
              "      <td>0.978148</td>\n",
              "      <td>-0.568065</td>\n",
              "      <td>-0.822984</td>\n",
              "    </tr>\n",
              "    <tr>\n",
              "      <th>3</th>\n",
              "      <td>4</td>\n",
              "      <td>5</td>\n",
              "      <td>2015-07-31</td>\n",
              "      <td>9.546527</td>\n",
              "      <td>1</td>\n",
              "      <td>1</td>\n",
              "      <td>2</td>\n",
              "      <td>3</td>\n",
              "      <td>-0.275806</td>\n",
              "      <td>9</td>\n",
              "      <td>2009</td>\n",
              "      <td>0</td>\n",
              "      <td>31</td>\n",
              "      <td>2015</td>\n",
              "      <td>0</td>\n",
              "      <td>1.0</td>\n",
              "      <td>7</td>\n",
              "      <td>31</td>\n",
              "      <td>31</td>\n",
              "      <td>2015-30</td>\n",
              "      <td>2009-09-01</td>\n",
              "      <td>0.743243</td>\n",
              "      <td>2015-07-27</td>\n",
              "      <td>0.287016</td>\n",
              "      <td>0</td>\n",
              "      <td>0</td>\n",
              "      <td>0</td>\n",
              "      <td>1</td>\n",
              "      <td>-0.974928</td>\n",
              "      <td>-0.222521</td>\n",
              "      <td>-0.5</td>\n",
              "      <td>-0.866025</td>\n",
              "      <td>0.207912</td>\n",
              "      <td>0.978148</td>\n",
              "      <td>-0.568065</td>\n",
              "      <td>-0.822984</td>\n",
              "    </tr>\n",
              "    <tr>\n",
              "      <th>4</th>\n",
              "      <td>5</td>\n",
              "      <td>5</td>\n",
              "      <td>2015-07-31</td>\n",
              "      <td>8.481151</td>\n",
              "      <td>1</td>\n",
              "      <td>1</td>\n",
              "      <td>0</td>\n",
              "      <td>1</td>\n",
              "      <td>4.448387</td>\n",
              "      <td>4</td>\n",
              "      <td>2015</td>\n",
              "      <td>0</td>\n",
              "      <td>31</td>\n",
              "      <td>2015</td>\n",
              "      <td>0</td>\n",
              "      <td>1.0</td>\n",
              "      <td>7</td>\n",
              "      <td>31</td>\n",
              "      <td>31</td>\n",
              "      <td>2015-30</td>\n",
              "      <td>2015-04-01</td>\n",
              "      <td>-0.162162</td>\n",
              "      <td>2015-07-27</td>\n",
              "      <td>0.287016</td>\n",
              "      <td>0</td>\n",
              "      <td>0</td>\n",
              "      <td>0</td>\n",
              "      <td>1</td>\n",
              "      <td>-0.974928</td>\n",
              "      <td>-0.222521</td>\n",
              "      <td>-0.5</td>\n",
              "      <td>-0.866025</td>\n",
              "      <td>0.207912</td>\n",
              "      <td>0.978148</td>\n",
              "      <td>-0.568065</td>\n",
              "      <td>-0.822984</td>\n",
              "    </tr>\n",
              "  </tbody>\n",
              "</table>\n",
              "</div>"
            ],
            "text/plain": [
              "   store  day_of_week       date  ...   day_cos  week_of_year_sin  week_of_year_cos\n",
              "0      1            5 2015-07-31  ...  0.978148         -0.568065         -0.822984\n",
              "1      2            5 2015-07-31  ...  0.978148         -0.568065         -0.822984\n",
              "2      3            5 2015-07-31  ...  0.978148         -0.568065         -0.822984\n",
              "3      4            5 2015-07-31  ...  0.978148         -0.568065         -0.822984\n",
              "4      5            5 2015-07-31  ...  0.978148         -0.568065         -0.822984\n",
              "\n",
              "[5 rows x 36 columns]"
            ]
          },
          "metadata": {
            "tags": []
          },
          "execution_count": 66
        }
      ]
    },
    {
      "cell_type": "markdown",
      "metadata": {
        "id": "DnT3dhfAyNSA"
      },
      "source": [
        "# 6.0 PASSO 06 -  Feature Selection"
      ]
    },
    {
      "cell_type": "code",
      "metadata": {
        "id": "pjriEL-WFgWn"
      },
      "source": [
        "df6 = df5.copy()"
      ],
      "execution_count": 67,
      "outputs": []
    },
    {
      "cell_type": "markdown",
      "metadata": {
        "id": "eJBlWtKrFuS2"
      },
      "source": [
        "## 6.1 Split dataframe into training and test dataset"
      ]
    },
    {
      "cell_type": "code",
      "metadata": {
        "colab": {
          "base_uri": "https://localhost:8080/",
          "height": 0
        },
        "id": "_LfK70mMF8rj",
        "outputId": "a7b007b6-5e8d-402a-9e94-110573a76b56"
      },
      "source": [
        "df6.head()"
      ],
      "execution_count": 68,
      "outputs": [
        {
          "output_type": "execute_result",
          "data": {
            "text/html": [
              "<div>\n",
              "<style scoped>\n",
              "    .dataframe tbody tr th:only-of-type {\n",
              "        vertical-align: middle;\n",
              "    }\n",
              "\n",
              "    .dataframe tbody tr th {\n",
              "        vertical-align: top;\n",
              "    }\n",
              "\n",
              "    .dataframe thead th {\n",
              "        text-align: right;\n",
              "    }\n",
              "</style>\n",
              "<table border=\"1\" class=\"dataframe\">\n",
              "  <thead>\n",
              "    <tr style=\"text-align: right;\">\n",
              "      <th></th>\n",
              "      <th>store</th>\n",
              "      <th>day_of_week</th>\n",
              "      <th>date</th>\n",
              "      <th>sales</th>\n",
              "      <th>promo</th>\n",
              "      <th>school_holiday</th>\n",
              "      <th>store_type</th>\n",
              "      <th>assortment</th>\n",
              "      <th>competition_distance</th>\n",
              "      <th>competition_open_since_month</th>\n",
              "      <th>competition_open_since_year</th>\n",
              "      <th>promo2</th>\n",
              "      <th>promo2_since_week</th>\n",
              "      <th>promo2_since_year</th>\n",
              "      <th>is_promo</th>\n",
              "      <th>year</th>\n",
              "      <th>month</th>\n",
              "      <th>day</th>\n",
              "      <th>week_of_year</th>\n",
              "      <th>year_week</th>\n",
              "      <th>competition_since</th>\n",
              "      <th>competition_time_month</th>\n",
              "      <th>promo_since</th>\n",
              "      <th>promo_time_week</th>\n",
              "      <th>state_holiday_christmas</th>\n",
              "      <th>state_holiday_easter_holiday</th>\n",
              "      <th>state_holiday_public_holiday</th>\n",
              "      <th>state_holiday_regular_day</th>\n",
              "      <th>day_of_week_sin</th>\n",
              "      <th>day_of_week_cos</th>\n",
              "      <th>month_sin</th>\n",
              "      <th>month_cos</th>\n",
              "      <th>day_sin</th>\n",
              "      <th>day_cos</th>\n",
              "      <th>week_of_year_sin</th>\n",
              "      <th>week_of_year_cos</th>\n",
              "    </tr>\n",
              "  </thead>\n",
              "  <tbody>\n",
              "    <tr>\n",
              "      <th>0</th>\n",
              "      <td>1</td>\n",
              "      <td>5</td>\n",
              "      <td>2015-07-31</td>\n",
              "      <td>8.568646</td>\n",
              "      <td>1</td>\n",
              "      <td>1</td>\n",
              "      <td>2</td>\n",
              "      <td>1</td>\n",
              "      <td>-0.170968</td>\n",
              "      <td>9</td>\n",
              "      <td>2008</td>\n",
              "      <td>0</td>\n",
              "      <td>31</td>\n",
              "      <td>2015</td>\n",
              "      <td>0</td>\n",
              "      <td>1.0</td>\n",
              "      <td>7</td>\n",
              "      <td>31</td>\n",
              "      <td>31</td>\n",
              "      <td>2015-30</td>\n",
              "      <td>2008-09-01</td>\n",
              "      <td>0.918919</td>\n",
              "      <td>2015-07-27</td>\n",
              "      <td>0.287016</td>\n",
              "      <td>0</td>\n",
              "      <td>0</td>\n",
              "      <td>0</td>\n",
              "      <td>1</td>\n",
              "      <td>-0.974928</td>\n",
              "      <td>-0.222521</td>\n",
              "      <td>-0.5</td>\n",
              "      <td>-0.866025</td>\n",
              "      <td>0.207912</td>\n",
              "      <td>0.978148</td>\n",
              "      <td>-0.568065</td>\n",
              "      <td>-0.822984</td>\n",
              "    </tr>\n",
              "    <tr>\n",
              "      <th>1</th>\n",
              "      <td>2</td>\n",
              "      <td>5</td>\n",
              "      <td>2015-07-31</td>\n",
              "      <td>8.710290</td>\n",
              "      <td>1</td>\n",
              "      <td>1</td>\n",
              "      <td>0</td>\n",
              "      <td>1</td>\n",
              "      <td>-0.283871</td>\n",
              "      <td>11</td>\n",
              "      <td>2007</td>\n",
              "      <td>1</td>\n",
              "      <td>13</td>\n",
              "      <td>2010</td>\n",
              "      <td>1</td>\n",
              "      <td>1.0</td>\n",
              "      <td>7</td>\n",
              "      <td>31</td>\n",
              "      <td>31</td>\n",
              "      <td>2015-30</td>\n",
              "      <td>2007-11-01</td>\n",
              "      <td>1.054054</td>\n",
              "      <td>2010-03-22</td>\n",
              "      <td>0.922551</td>\n",
              "      <td>0</td>\n",
              "      <td>0</td>\n",
              "      <td>0</td>\n",
              "      <td>1</td>\n",
              "      <td>-0.974928</td>\n",
              "      <td>-0.222521</td>\n",
              "      <td>-0.5</td>\n",
              "      <td>-0.866025</td>\n",
              "      <td>0.207912</td>\n",
              "      <td>0.978148</td>\n",
              "      <td>-0.568065</td>\n",
              "      <td>-0.822984</td>\n",
              "    </tr>\n",
              "    <tr>\n",
              "      <th>2</th>\n",
              "      <td>3</td>\n",
              "      <td>5</td>\n",
              "      <td>2015-07-31</td>\n",
              "      <td>9.025816</td>\n",
              "      <td>1</td>\n",
              "      <td>1</td>\n",
              "      <td>0</td>\n",
              "      <td>1</td>\n",
              "      <td>1.903226</td>\n",
              "      <td>12</td>\n",
              "      <td>2006</td>\n",
              "      <td>1</td>\n",
              "      <td>14</td>\n",
              "      <td>2011</td>\n",
              "      <td>1</td>\n",
              "      <td>1.0</td>\n",
              "      <td>7</td>\n",
              "      <td>31</td>\n",
              "      <td>31</td>\n",
              "      <td>2015-30</td>\n",
              "      <td>2006-12-01</td>\n",
              "      <td>1.202703</td>\n",
              "      <td>2011-03-28</td>\n",
              "      <td>0.801822</td>\n",
              "      <td>0</td>\n",
              "      <td>0</td>\n",
              "      <td>0</td>\n",
              "      <td>1</td>\n",
              "      <td>-0.974928</td>\n",
              "      <td>-0.222521</td>\n",
              "      <td>-0.5</td>\n",
              "      <td>-0.866025</td>\n",
              "      <td>0.207912</td>\n",
              "      <td>0.978148</td>\n",
              "      <td>-0.568065</td>\n",
              "      <td>-0.822984</td>\n",
              "    </tr>\n",
              "    <tr>\n",
              "      <th>3</th>\n",
              "      <td>4</td>\n",
              "      <td>5</td>\n",
              "      <td>2015-07-31</td>\n",
              "      <td>9.546527</td>\n",
              "      <td>1</td>\n",
              "      <td>1</td>\n",
              "      <td>2</td>\n",
              "      <td>3</td>\n",
              "      <td>-0.275806</td>\n",
              "      <td>9</td>\n",
              "      <td>2009</td>\n",
              "      <td>0</td>\n",
              "      <td>31</td>\n",
              "      <td>2015</td>\n",
              "      <td>0</td>\n",
              "      <td>1.0</td>\n",
              "      <td>7</td>\n",
              "      <td>31</td>\n",
              "      <td>31</td>\n",
              "      <td>2015-30</td>\n",
              "      <td>2009-09-01</td>\n",
              "      <td>0.743243</td>\n",
              "      <td>2015-07-27</td>\n",
              "      <td>0.287016</td>\n",
              "      <td>0</td>\n",
              "      <td>0</td>\n",
              "      <td>0</td>\n",
              "      <td>1</td>\n",
              "      <td>-0.974928</td>\n",
              "      <td>-0.222521</td>\n",
              "      <td>-0.5</td>\n",
              "      <td>-0.866025</td>\n",
              "      <td>0.207912</td>\n",
              "      <td>0.978148</td>\n",
              "      <td>-0.568065</td>\n",
              "      <td>-0.822984</td>\n",
              "    </tr>\n",
              "    <tr>\n",
              "      <th>4</th>\n",
              "      <td>5</td>\n",
              "      <td>5</td>\n",
              "      <td>2015-07-31</td>\n",
              "      <td>8.481151</td>\n",
              "      <td>1</td>\n",
              "      <td>1</td>\n",
              "      <td>0</td>\n",
              "      <td>1</td>\n",
              "      <td>4.448387</td>\n",
              "      <td>4</td>\n",
              "      <td>2015</td>\n",
              "      <td>0</td>\n",
              "      <td>31</td>\n",
              "      <td>2015</td>\n",
              "      <td>0</td>\n",
              "      <td>1.0</td>\n",
              "      <td>7</td>\n",
              "      <td>31</td>\n",
              "      <td>31</td>\n",
              "      <td>2015-30</td>\n",
              "      <td>2015-04-01</td>\n",
              "      <td>-0.162162</td>\n",
              "      <td>2015-07-27</td>\n",
              "      <td>0.287016</td>\n",
              "      <td>0</td>\n",
              "      <td>0</td>\n",
              "      <td>0</td>\n",
              "      <td>1</td>\n",
              "      <td>-0.974928</td>\n",
              "      <td>-0.222521</td>\n",
              "      <td>-0.5</td>\n",
              "      <td>-0.866025</td>\n",
              "      <td>0.207912</td>\n",
              "      <td>0.978148</td>\n",
              "      <td>-0.568065</td>\n",
              "      <td>-0.822984</td>\n",
              "    </tr>\n",
              "  </tbody>\n",
              "</table>\n",
              "</div>"
            ],
            "text/plain": [
              "   store  day_of_week       date  ...   day_cos  week_of_year_sin  week_of_year_cos\n",
              "0      1            5 2015-07-31  ...  0.978148         -0.568065         -0.822984\n",
              "1      2            5 2015-07-31  ...  0.978148         -0.568065         -0.822984\n",
              "2      3            5 2015-07-31  ...  0.978148         -0.568065         -0.822984\n",
              "3      4            5 2015-07-31  ...  0.978148         -0.568065         -0.822984\n",
              "4      5            5 2015-07-31  ...  0.978148         -0.568065         -0.822984\n",
              "\n",
              "[5 rows x 36 columns]"
            ]
          },
          "metadata": {
            "tags": []
          },
          "execution_count": 68
        }
      ]
    },
    {
      "cell_type": "code",
      "metadata": {
        "id": "L4wIdKV5GEW9"
      },
      "source": [
        "#Deletando variaveis que derivamos, como week_of_year, que foi derivada em sen e cos\n",
        "\n",
        "cols_drop = ['week_of_year', 'day', 'month', 'day_of_week', 'promo_since', 'competition_since', 'year_week']\n",
        "df6 = df6.drop( cols_drop, axis = 1 )"
      ],
      "execution_count": 69,
      "outputs": []
    },
    {
      "cell_type": "code",
      "metadata": {
        "colab": {
          "base_uri": "https://localhost:8080/",
          "height": 0
        },
        "id": "nETG67euG9fB",
        "outputId": "cdd5a2d4-140d-4238-dec4-10118b4431f1"
      },
      "source": [
        "#Procurando a data minima do conjunto de treino\n",
        "\n",
        "df6[['store', 'date']].groupby( 'store' ).min().reset_index().head()"
      ],
      "execution_count": 70,
      "outputs": [
        {
          "output_type": "execute_result",
          "data": {
            "text/html": [
              "<div>\n",
              "<style scoped>\n",
              "    .dataframe tbody tr th:only-of-type {\n",
              "        vertical-align: middle;\n",
              "    }\n",
              "\n",
              "    .dataframe tbody tr th {\n",
              "        vertical-align: top;\n",
              "    }\n",
              "\n",
              "    .dataframe thead th {\n",
              "        text-align: right;\n",
              "    }\n",
              "</style>\n",
              "<table border=\"1\" class=\"dataframe\">\n",
              "  <thead>\n",
              "    <tr style=\"text-align: right;\">\n",
              "      <th></th>\n",
              "      <th>store</th>\n",
              "      <th>date</th>\n",
              "    </tr>\n",
              "  </thead>\n",
              "  <tbody>\n",
              "    <tr>\n",
              "      <th>0</th>\n",
              "      <td>1</td>\n",
              "      <td>2013-01-02</td>\n",
              "    </tr>\n",
              "    <tr>\n",
              "      <th>1</th>\n",
              "      <td>2</td>\n",
              "      <td>2013-01-02</td>\n",
              "    </tr>\n",
              "    <tr>\n",
              "      <th>2</th>\n",
              "      <td>3</td>\n",
              "      <td>2013-01-02</td>\n",
              "    </tr>\n",
              "    <tr>\n",
              "      <th>3</th>\n",
              "      <td>4</td>\n",
              "      <td>2013-01-02</td>\n",
              "    </tr>\n",
              "    <tr>\n",
              "      <th>4</th>\n",
              "      <td>5</td>\n",
              "      <td>2013-01-02</td>\n",
              "    </tr>\n",
              "  </tbody>\n",
              "</table>\n",
              "</div>"
            ],
            "text/plain": [
              "   store       date\n",
              "0      1 2013-01-02\n",
              "1      2 2013-01-02\n",
              "2      3 2013-01-02\n",
              "3      4 2013-01-02\n",
              "4      5 2013-01-02"
            ]
          },
          "metadata": {
            "tags": []
          },
          "execution_count": 70
        }
      ]
    },
    {
      "cell_type": "code",
      "metadata": {
        "colab": {
          "base_uri": "https://localhost:8080/",
          "height": 0
        },
        "id": "VpASjLYBHJMF",
        "outputId": "ce44d513-777b-4032-fbbf-ddf531acf385"
      },
      "source": [
        "#Procurando a data maxima do conjunto de treino\n",
        "\n",
        "df6[['store', 'date']].groupby( 'store' ).max().reset_index().head()"
      ],
      "execution_count": 71,
      "outputs": [
        {
          "output_type": "execute_result",
          "data": {
            "text/html": [
              "<div>\n",
              "<style scoped>\n",
              "    .dataframe tbody tr th:only-of-type {\n",
              "        vertical-align: middle;\n",
              "    }\n",
              "\n",
              "    .dataframe tbody tr th {\n",
              "        vertical-align: top;\n",
              "    }\n",
              "\n",
              "    .dataframe thead th {\n",
              "        text-align: right;\n",
              "    }\n",
              "</style>\n",
              "<table border=\"1\" class=\"dataframe\">\n",
              "  <thead>\n",
              "    <tr style=\"text-align: right;\">\n",
              "      <th></th>\n",
              "      <th>store</th>\n",
              "      <th>date</th>\n",
              "    </tr>\n",
              "  </thead>\n",
              "  <tbody>\n",
              "    <tr>\n",
              "      <th>0</th>\n",
              "      <td>1</td>\n",
              "      <td>2015-07-31</td>\n",
              "    </tr>\n",
              "    <tr>\n",
              "      <th>1</th>\n",
              "      <td>2</td>\n",
              "      <td>2015-07-31</td>\n",
              "    </tr>\n",
              "    <tr>\n",
              "      <th>2</th>\n",
              "      <td>3</td>\n",
              "      <td>2015-07-31</td>\n",
              "    </tr>\n",
              "    <tr>\n",
              "      <th>3</th>\n",
              "      <td>4</td>\n",
              "      <td>2015-07-31</td>\n",
              "    </tr>\n",
              "    <tr>\n",
              "      <th>4</th>\n",
              "      <td>5</td>\n",
              "      <td>2015-07-31</td>\n",
              "    </tr>\n",
              "  </tbody>\n",
              "</table>\n",
              "</div>"
            ],
            "text/plain": [
              "   store       date\n",
              "0      1 2015-07-31\n",
              "1      2 2015-07-31\n",
              "2      3 2015-07-31\n",
              "3      4 2015-07-31\n",
              "4      5 2015-07-31"
            ]
          },
          "metadata": {
            "tags": []
          },
          "execution_count": 71
        }
      ]
    },
    {
      "cell_type": "code",
      "metadata": {
        "colab": {
          "base_uri": "https://localhost:8080/"
        },
        "id": "9CR5c-YqHfOx",
        "outputId": "090c9ea7-f5f5-4e38-ca20-5c96cf49aa3d"
      },
      "source": [
        "#Vendo quais são as últimas 6 semanas para utilizar como conjunto de teste\n",
        "\n",
        "df6[['store', 'date']].groupby( 'store' ).max().reset_index()['date'][0] - datetime.timedelta(days = 7 * 6)"
      ],
      "execution_count": 72,
      "outputs": [
        {
          "output_type": "execute_result",
          "data": {
            "text/plain": [
              "Timestamp('2015-06-19 00:00:00')"
            ]
          },
          "metadata": {
            "tags": []
          },
          "execution_count": 72
        }
      ]
    },
    {
      "cell_type": "code",
      "metadata": {
        "colab": {
          "base_uri": "https://localhost:8080/"
        },
        "id": "umvvWCaDHuhN",
        "outputId": "a8109d3a-30c2-41d4-85d9-8a0233d4a658"
      },
      "source": [
        "#Training dataset\n",
        "\n",
        "X_train = df6[ df6['date'] < '2015-06-19' ]\n",
        "y_train = X_train['sales']\n",
        "\n",
        "#Test dataset\n",
        "\n",
        "X_test = df6[ df6['date'] > '2015-06-19' ]\n",
        "y_test = X_test['sales']\n",
        "\n",
        "print( 'Training Min Date: {}'.format( X_train['date'].min() ) )\n",
        "print( 'Training Max Date: {}'.format( X_train['date'].max() ) )\n",
        "print( '\\n' )\n",
        "print( 'Test Min Date: {}'.format( X_test['date'].min() ) )\n",
        "print( 'Test Max Date: {}'.format( X_test['date'].max() ) )\n"
      ],
      "execution_count": 73,
      "outputs": [
        {
          "output_type": "stream",
          "text": [
            "Training Min Date: 2013-01-01 00:00:00\n",
            "Training Max Date: 2015-06-18 00:00:00\n",
            "\n",
            "\n",
            "Test Min Date: 2015-06-20 00:00:00\n",
            "Test Max Date: 2015-07-31 00:00:00\n"
          ],
          "name": "stdout"
        }
      ]
    },
    {
      "cell_type": "markdown",
      "metadata": {
        "id": "XQnDvGJsFtN7"
      },
      "source": [
        "## 6.2 Boruta as Feature Selector"
      ]
    },
    {
      "cell_type": "code",
      "metadata": {
        "id": "i3RBe4yeJxgw"
      },
      "source": [
        "# training and test dataset for Boruta;\n",
        "\n",
        "# Note que como não podemos passar um dataframe de parâmetro para o boruta, mas sim\n",
        "#um numpy, utilizamos os valores;\n",
        "# O ravel coloca dentro de um vetor. \n",
        "\n",
        "#X_train_n = X_train.drop( ['date', 'sales'], axis = 1 ).values\n",
        "#y_train_n = y_train.values.ravel()\n",
        "\n",
        "# define RandomForestRegressor\n",
        "\n",
        "#rf = RandomForestRegressor( n_jobs = -1 )\n",
        "\n",
        "# define Boruta\n",
        "\n",
        "#boruta = BorutaPy( rf, n_estimators = 'auto', verbose = 2, random_state = 42 ).fit( X_train_n, y_train_n)"
      ],
      "execution_count": 74,
      "outputs": []
    },
    {
      "cell_type": "markdown",
      "metadata": {
        "id": "vE8P_tvGOyZN"
      },
      "source": [
        "### 6.2.1 Best Features from Boruta"
      ]
    },
    {
      "cell_type": "code",
      "metadata": {
        "id": "9KjP5ffRNdra"
      },
      "source": [
        "#cols_selected = boruta.support_.tolist()\n",
        "#\n",
        "## best features\n",
        "#X_train_fs = X_train.drop( ['date', 'sales'], axis=1 )\n",
        "#cols_selected_boruta = X_train_fs.iloc[:, cols_selected].columns.to_list()\n",
        "#\n",
        "## not selected boruta\n",
        "#cols_not_selected_boruta = list( np.setdiff1d( X_train_fs.columns, cols_selected_boruta ) )"
      ],
      "execution_count": 75,
      "outputs": []
    },
    {
      "cell_type": "markdown",
      "metadata": {
        "id": "aC75eeH6Vius"
      },
      "source": [
        "Uma dica é fazer um ciclo utilizando as sugestões do boruta para o algoritmo e depois ir melhorando com análises pessoais, como feitas na fase de análise de dados, e então, comparando as hipóteses com as respostas do boruta."
      ]
    },
    {
      "cell_type": "markdown",
      "metadata": {
        "id": "1nKsOiPeW3uu"
      },
      "source": [
        "## 6.3. Manual Feature Selection"
      ]
    },
    {
      "cell_type": "code",
      "metadata": {
        "id": "bx6iu2Q8XC6e"
      },
      "source": [
        "# Resultados do boruta (para não precisar rodar toda vez)\n",
        "\n",
        "cols_selected_boruta = [\n",
        "    'store',\n",
        "    'promo',\n",
        "    'store_type',\n",
        "    'assortment',\n",
        "    'competition_distance',\n",
        "    'competition_open_since_month',\n",
        "    'competition_open_since_year',\n",
        "    'promo2',\n",
        "    'promo2_since_week',\n",
        "    'promo2_since_year',\n",
        "    'competition_time_month',\n",
        "    'promo_time_week',\n",
        "    'day_of_week_sin',\n",
        "    'day_of_week_cos',\n",
        "    'month_sin',\n",
        "    'month_cos',\n",
        "    'day_sin',\n",
        "    'day_cos',\n",
        "    'week_of_year_sin',\n",
        "    'week_of_year_cos']\n",
        "\n",
        "# columns to add\n",
        "feat_to_add = ['date', 'sales']\n",
        "\n",
        "# final features\n",
        "cols_selected_boruta_full = cols_selected_boruta.copy()\n",
        "cols_selected_boruta_full.extend( feat_to_add )"
      ],
      "execution_count": 78,
      "outputs": []
    },
    {
      "cell_type": "markdown",
      "metadata": {
        "id": "aB771BorJMdt"
      },
      "source": [
        "# 7.0. PASSO 07 - MACHINE LEARNING MODELLING"
      ]
    },
    {
      "cell_type": "code",
      "metadata": {
        "id": "FqHfOE_7JNgt"
      },
      "source": [
        "x_train = X_train[ cols_selected_boruta ]\n",
        "x_test = X_test[ cols_selected_boruta ]\n",
        "\n",
        "# Time Series Data Preparation\n",
        "x_training = X_train[ cols_selected_boruta_full ]"
      ],
      "execution_count": 79,
      "outputs": []
    },
    {
      "cell_type": "markdown",
      "metadata": {
        "id": "QlimagimK62z"
      },
      "source": [
        "## 7.1 Average Model"
      ]
    },
    {
      "cell_type": "code",
      "metadata": {
        "id": "xq7J4KcCLqeF",
        "colab": {
          "base_uri": "https://localhost:8080/",
          "height": 80
        },
        "outputId": "15480b4a-457f-46f4-96c4-bb8a05be6047"
      },
      "source": [
        "aux1 = x_test.copy()\n",
        "aux1[ 'sales' ] = y_test.copy()\n",
        "\n",
        "# predction\n",
        "aux2 = aux1[['store', 'sales']].groupby( 'store' ).mean().reset_index().rename( columns={'sales': 'predictions'} )\n",
        "aux1 = pd.merge( aux1, aux2, how='left', on='store' )\n",
        "yhat_baseline = aux1[ 'predictions' ]  #yhat é o valor estimado\n",
        "\n",
        "# performance\n",
        "# Usamos o metodo expm1 (exponencial) para reverter o valor que haviamos transformado em log para o valor o original novamente\n",
        "baseline_result = ml_error( 'Average Model', np.expm1( y_test ), np.expm1( yhat_baseline ) )\n",
        "baseline_result"
      ],
      "execution_count": 80,
      "outputs": [
        {
          "output_type": "execute_result",
          "data": {
            "text/html": [
              "<div>\n",
              "<style scoped>\n",
              "    .dataframe tbody tr th:only-of-type {\n",
              "        vertical-align: middle;\n",
              "    }\n",
              "\n",
              "    .dataframe tbody tr th {\n",
              "        vertical-align: top;\n",
              "    }\n",
              "\n",
              "    .dataframe thead th {\n",
              "        text-align: right;\n",
              "    }\n",
              "</style>\n",
              "<table border=\"1\" class=\"dataframe\">\n",
              "  <thead>\n",
              "    <tr style=\"text-align: right;\">\n",
              "      <th></th>\n",
              "      <th>Model Name</th>\n",
              "      <th>MAE</th>\n",
              "      <th>MAPE</th>\n",
              "      <th>RMSE</th>\n",
              "    </tr>\n",
              "  </thead>\n",
              "  <tbody>\n",
              "    <tr>\n",
              "      <th>0</th>\n",
              "      <td>Average Model</td>\n",
              "      <td>1366.128351</td>\n",
              "      <td>0.452087</td>\n",
              "      <td>1854.263316</td>\n",
              "    </tr>\n",
              "  </tbody>\n",
              "</table>\n",
              "</div>"
            ],
            "text/plain": [
              "      Model Name          MAE      MAPE         RMSE\n",
              "0  Average Model  1366.128351  0.452087  1854.263316"
            ]
          },
          "metadata": {
            "tags": []
          },
          "execution_count": 80
        }
      ]
    },
    {
      "cell_type": "markdown",
      "metadata": {
        "id": "Mu3Ei2NMK9Li"
      },
      "source": [
        "## 7.2 Linear Regression Model"
      ]
    },
    {
      "cell_type": "code",
      "metadata": {
        "id": "XuR80X1qR7XO",
        "colab": {
          "base_uri": "https://localhost:8080/",
          "height": 80
        },
        "outputId": "2d25bff5-c0c2-4217-d9d0-46b12325a6d0"
      },
      "source": [
        "# model\n",
        "lr = LinearRegression().fit( x_train, y_train )\n",
        "\n",
        "# prediction\n",
        "yhat_lr = lr.predict( x_test )\n",
        "\n",
        "# performance\n",
        "lr_result = ml_error( 'Linear Regression', np.expm1( y_test ), np.expm1( yhat_lr ) )\n",
        "lr_result\n",
        "\n",
        "#Repare que neste caso o erro da media acerta mais que o modelo de regressao linear,\n",
        "#ou seja, pode ser um indicio de que o modelo nao seja linear."
      ],
      "execution_count": 81,
      "outputs": [
        {
          "output_type": "execute_result",
          "data": {
            "text/html": [
              "<div>\n",
              "<style scoped>\n",
              "    .dataframe tbody tr th:only-of-type {\n",
              "        vertical-align: middle;\n",
              "    }\n",
              "\n",
              "    .dataframe tbody tr th {\n",
              "        vertical-align: top;\n",
              "    }\n",
              "\n",
              "    .dataframe thead th {\n",
              "        text-align: right;\n",
              "    }\n",
              "</style>\n",
              "<table border=\"1\" class=\"dataframe\">\n",
              "  <thead>\n",
              "    <tr style=\"text-align: right;\">\n",
              "      <th></th>\n",
              "      <th>Model Name</th>\n",
              "      <th>MAE</th>\n",
              "      <th>MAPE</th>\n",
              "      <th>RMSE</th>\n",
              "    </tr>\n",
              "  </thead>\n",
              "  <tbody>\n",
              "    <tr>\n",
              "      <th>0</th>\n",
              "      <td>Linear Regression</td>\n",
              "      <td>1868.73952</td>\n",
              "      <td>0.293745</td>\n",
              "      <td>2675.947846</td>\n",
              "    </tr>\n",
              "  </tbody>\n",
              "</table>\n",
              "</div>"
            ],
            "text/plain": [
              "          Model Name         MAE      MAPE         RMSE\n",
              "0  Linear Regression  1868.73952  0.293745  2675.947846"
            ]
          },
          "metadata": {
            "tags": []
          },
          "execution_count": 81
        }
      ]
    },
    {
      "cell_type": "markdown",
      "metadata": {
        "id": "Zf_nc9oQSCnh"
      },
      "source": [
        "### 7.2.1. Linear Regression Model - Cross Validation"
      ]
    },
    {
      "cell_type": "code",
      "metadata": {
        "id": "B6NwfaMvSFN4",
        "colab": {
          "base_uri": "https://localhost:8080/",
          "height": 80
        },
        "outputId": "f3cab5db-54ce-4208-9f71-24e2a56cb2f2"
      },
      "source": [
        "lr_result_cv = cross_validation( x_training, 5, 'Linear Regression', lr, verbose=False )\n",
        "lr_result_cv"
      ],
      "execution_count": 84,
      "outputs": [
        {
          "output_type": "execute_result",
          "data": {
            "text/html": [
              "<div>\n",
              "<style scoped>\n",
              "    .dataframe tbody tr th:only-of-type {\n",
              "        vertical-align: middle;\n",
              "    }\n",
              "\n",
              "    .dataframe tbody tr th {\n",
              "        vertical-align: top;\n",
              "    }\n",
              "\n",
              "    .dataframe thead th {\n",
              "        text-align: right;\n",
              "    }\n",
              "</style>\n",
              "<table border=\"1\" class=\"dataframe\">\n",
              "  <thead>\n",
              "    <tr style=\"text-align: right;\">\n",
              "      <th></th>\n",
              "      <th>Model Name</th>\n",
              "      <th>MAE CV</th>\n",
              "      <th>MAPE CV</th>\n",
              "      <th>RMSE CV</th>\n",
              "    </tr>\n",
              "  </thead>\n",
              "  <tbody>\n",
              "    <tr>\n",
              "      <th>0</th>\n",
              "      <td>Linear Regression</td>\n",
              "      <td>2081.73 +/- 295.63</td>\n",
              "      <td>0.3 +/- 0.02</td>\n",
              "      <td>2952.52 +/- 468.37</td>\n",
              "    </tr>\n",
              "  </tbody>\n",
              "</table>\n",
              "</div>"
            ],
            "text/plain": [
              "          Model Name              MAE CV       MAPE CV             RMSE CV\n",
              "0  Linear Regression  2081.73 +/- 295.63  0.3 +/- 0.02  2952.52 +/- 468.37"
            ]
          },
          "metadata": {
            "tags": []
          },
          "execution_count": 84
        }
      ]
    },
    {
      "cell_type": "markdown",
      "metadata": {
        "id": "Wsq5M5J8K9JE"
      },
      "source": [
        "## 7.3 Linear Regression Regularized Model"
      ]
    },
    {
      "cell_type": "code",
      "metadata": {
        "id": "58UaCg_ZSIe1",
        "colab": {
          "base_uri": "https://localhost:8080/",
          "height": 80
        },
        "outputId": "aa4f4bc5-8907-462f-d40d-c728bffdefda"
      },
      "source": [
        "# model\n",
        "# Quanto menor o valor de alpha, mais demora o treino mas possivelmente melhor será\n",
        "lrr = Lasso( alpha=0.01 ).fit( x_train, y_train )\n",
        "\n",
        "# prediction\n",
        "yhat_lrr = lrr.predict( x_test )\n",
        "\n",
        "# performance\n",
        "lrr_result = ml_error( 'Linear Regression - Lasso', np.expm1( y_test ), np.expm1( yhat_lrr ) )\n",
        "lrr_result"
      ],
      "execution_count": 85,
      "outputs": [
        {
          "output_type": "execute_result",
          "data": {
            "text/html": [
              "<div>\n",
              "<style scoped>\n",
              "    .dataframe tbody tr th:only-of-type {\n",
              "        vertical-align: middle;\n",
              "    }\n",
              "\n",
              "    .dataframe tbody tr th {\n",
              "        vertical-align: top;\n",
              "    }\n",
              "\n",
              "    .dataframe thead th {\n",
              "        text-align: right;\n",
              "    }\n",
              "</style>\n",
              "<table border=\"1\" class=\"dataframe\">\n",
              "  <thead>\n",
              "    <tr style=\"text-align: right;\">\n",
              "      <th></th>\n",
              "      <th>Model Name</th>\n",
              "      <th>MAE</th>\n",
              "      <th>MAPE</th>\n",
              "      <th>RMSE</th>\n",
              "    </tr>\n",
              "  </thead>\n",
              "  <tbody>\n",
              "    <tr>\n",
              "      <th>0</th>\n",
              "      <td>Linear Regression - Lasso</td>\n",
              "      <td>1894.132075</td>\n",
              "      <td>0.290168</td>\n",
              "      <td>2750.818672</td>\n",
              "    </tr>\n",
              "  </tbody>\n",
              "</table>\n",
              "</div>"
            ],
            "text/plain": [
              "                  Model Name          MAE      MAPE         RMSE\n",
              "0  Linear Regression - Lasso  1894.132075  0.290168  2750.818672"
            ]
          },
          "metadata": {
            "tags": []
          },
          "execution_count": 85
        }
      ]
    },
    {
      "cell_type": "markdown",
      "metadata": {
        "id": "7ThIcuygSI2O"
      },
      "source": [
        "### 7.3.1 Lasso - Cross Validation"
      ]
    },
    {
      "cell_type": "code",
      "metadata": {
        "id": "8pEWbt6ISLBQ",
        "colab": {
          "base_uri": "https://localhost:8080/",
          "height": 80
        },
        "outputId": "733637e2-981e-4fe6-c1f7-ee9393e362c9"
      },
      "source": [
        "lrr_result_cv = cross_validation( x_training, 5, 'Lasso', lrr, verbose=False )\n",
        "lrr_result_cv"
      ],
      "execution_count": 86,
      "outputs": [
        {
          "output_type": "execute_result",
          "data": {
            "text/html": [
              "<div>\n",
              "<style scoped>\n",
              "    .dataframe tbody tr th:only-of-type {\n",
              "        vertical-align: middle;\n",
              "    }\n",
              "\n",
              "    .dataframe tbody tr th {\n",
              "        vertical-align: top;\n",
              "    }\n",
              "\n",
              "    .dataframe thead th {\n",
              "        text-align: right;\n",
              "    }\n",
              "</style>\n",
              "<table border=\"1\" class=\"dataframe\">\n",
              "  <thead>\n",
              "    <tr style=\"text-align: right;\">\n",
              "      <th></th>\n",
              "      <th>Model Name</th>\n",
              "      <th>MAE CV</th>\n",
              "      <th>MAPE CV</th>\n",
              "      <th>RMSE CV</th>\n",
              "    </tr>\n",
              "  </thead>\n",
              "  <tbody>\n",
              "    <tr>\n",
              "      <th>0</th>\n",
              "      <td>Lasso</td>\n",
              "      <td>2116.38 +/- 341.5</td>\n",
              "      <td>0.29 +/- 0.01</td>\n",
              "      <td>3057.75 +/- 504.26</td>\n",
              "    </tr>\n",
              "  </tbody>\n",
              "</table>\n",
              "</div>"
            ],
            "text/plain": [
              "  Model Name             MAE CV        MAPE CV             RMSE CV\n",
              "0      Lasso  2116.38 +/- 341.5  0.29 +/- 0.01  3057.75 +/- 504.26"
            ]
          },
          "metadata": {
            "tags": []
          },
          "execution_count": 86
        }
      ]
    },
    {
      "cell_type": "markdown",
      "metadata": {
        "id": "XaUB7Go4AUKn"
      },
      "source": [
        "## 7.4 Random Forest Regressor"
      ]
    },
    {
      "cell_type": "code",
      "metadata": {
        "colab": {
          "base_uri": "https://localhost:8080/",
          "height": 80
        },
        "id": "39lPWIyBA6vm",
        "outputId": "1c495532-14d5-4db7-9a6e-5b8f4d002fcd"
      },
      "source": [
        "#n_estimators são os números de árvores criadas;\n",
        "#n_jobs = -1 faz o algoritmo rodar em paralelo;\n",
        "#random_state é a origem dos números aleatórios;\n",
        "#um número bom de árvores (estimators) é de 2500.\n",
        "\n",
        "# model\n",
        "rf = RandomForestRegressor ( n_estimators = 100, n_jobs = -1, random_state = 42)\n",
        "rf.fit( x_train, y_train )\n",
        "\n",
        "# prediction\n",
        "yhat_rf = rf.predict( x_test )\n",
        "\n",
        "# performance\n",
        "rf_result = ml_error( 'Random Forest Regressor', np.expm1( y_test ), np.expm1( yhat_rf ) )\n",
        "rf_result"
      ],
      "execution_count": 87,
      "outputs": [
        {
          "output_type": "execute_result",
          "data": {
            "text/html": [
              "<div>\n",
              "<style scoped>\n",
              "    .dataframe tbody tr th:only-of-type {\n",
              "        vertical-align: middle;\n",
              "    }\n",
              "\n",
              "    .dataframe tbody tr th {\n",
              "        vertical-align: top;\n",
              "    }\n",
              "\n",
              "    .dataframe thead th {\n",
              "        text-align: right;\n",
              "    }\n",
              "</style>\n",
              "<table border=\"1\" class=\"dataframe\">\n",
              "  <thead>\n",
              "    <tr style=\"text-align: right;\">\n",
              "      <th></th>\n",
              "      <th>Model Name</th>\n",
              "      <th>MAE</th>\n",
              "      <th>MAPE</th>\n",
              "      <th>RMSE</th>\n",
              "    </tr>\n",
              "  </thead>\n",
              "  <tbody>\n",
              "    <tr>\n",
              "      <th>0</th>\n",
              "      <td>Random Forest Regressor</td>\n",
              "      <td>678.809877</td>\n",
              "      <td>0.100096</td>\n",
              "      <td>1011.299856</td>\n",
              "    </tr>\n",
              "  </tbody>\n",
              "</table>\n",
              "</div>"
            ],
            "text/plain": [
              "                Model Name         MAE      MAPE         RMSE\n",
              "0  Random Forest Regressor  678.809877  0.100096  1011.299856"
            ]
          },
          "metadata": {
            "tags": []
          },
          "execution_count": 87
        }
      ]
    },
    {
      "cell_type": "markdown",
      "metadata": {
        "id": "AdrgfC0fA9Gv"
      },
      "source": [
        "### 7.4.1 Random Forest Regressor - Cross Validation"
      ]
    },
    {
      "cell_type": "code",
      "metadata": {
        "colab": {
          "base_uri": "https://localhost:8080/",
          "height": 268
        },
        "id": "HQGdAJhcBCQB",
        "outputId": "367d5014-e4de-4962-ca35-bebf7efa30c9"
      },
      "source": [
        "rf_result_cv = cross_validation( x_training, 5, 'Random Forest Regressor', rf, verbose = True)\n",
        "rf_result_cv"
      ],
      "execution_count": 89,
      "outputs": [
        {
          "output_type": "stream",
          "text": [
            "\n",
            "KFold Number: 5\n",
            "\n",
            "KFold Number: 4\n",
            "\n",
            "KFold Number: 3\n",
            "\n",
            "KFold Number: 2\n",
            "\n",
            "KFold Number: 1\n"
          ],
          "name": "stdout"
        },
        {
          "output_type": "execute_result",
          "data": {
            "text/html": [
              "<div>\n",
              "<style scoped>\n",
              "    .dataframe tbody tr th:only-of-type {\n",
              "        vertical-align: middle;\n",
              "    }\n",
              "\n",
              "    .dataframe tbody tr th {\n",
              "        vertical-align: top;\n",
              "    }\n",
              "\n",
              "    .dataframe thead th {\n",
              "        text-align: right;\n",
              "    }\n",
              "</style>\n",
              "<table border=\"1\" class=\"dataframe\">\n",
              "  <thead>\n",
              "    <tr style=\"text-align: right;\">\n",
              "      <th></th>\n",
              "      <th>Model Name</th>\n",
              "      <th>MAE CV</th>\n",
              "      <th>MAPE CV</th>\n",
              "      <th>RMSE CV</th>\n",
              "    </tr>\n",
              "  </thead>\n",
              "  <tbody>\n",
              "    <tr>\n",
              "      <th>0</th>\n",
              "      <td>Random Forest Regressor</td>\n",
              "      <td>838.18 +/- 218.74</td>\n",
              "      <td>0.12 +/- 0.02</td>\n",
              "      <td>1256.87 +/- 319.67</td>\n",
              "    </tr>\n",
              "  </tbody>\n",
              "</table>\n",
              "</div>"
            ],
            "text/plain": [
              "                Model Name  ...             RMSE CV\n",
              "0  Random Forest Regressor  ...  1256.87 +/- 319.67\n",
              "\n",
              "[1 rows x 4 columns]"
            ]
          },
          "metadata": {
            "tags": []
          },
          "execution_count": 89
        }
      ]
    },
    {
      "cell_type": "markdown",
      "metadata": {
        "id": "eGfeih1tBJxg"
      },
      "source": [
        "## 7.5 XGBoost Regressor"
      ]
    },
    {
      "cell_type": "code",
      "metadata": {
        "colab": {
          "base_uri": "https://localhost:8080/",
          "height": 80
        },
        "id": "S91FwIy9BNHC",
        "outputId": "708a7b15-5bce-4657-eaa1-882b996b7523"
      },
      "source": [
        "#eta é o número de passadas para o aprendizado;\n",
        "#max_depth é a ramificação máxima da árvore;\n",
        "#subsample é a amostragem;\n",
        "#colssample_bytee é uma espécie de ensemble (combinação das árvores).\n",
        "\n",
        "# model\n",
        "model_xgb = xgb.XGBRegressor( objective = 'reg:squarederror',\n",
        "                             n_estimators = 100,\n",
        "                             eta = 0.01,\n",
        "                             max_depth = 10,\n",
        "                             subsample = 0.7,\n",
        "                             colsample_bytee = 0.9)\n",
        "\n",
        "model_xgb.fit( x_train, y_train )\n",
        "\n",
        "# prediction\n",
        "yhat_xgb = model_xgb.predict( x_test )\n",
        "\n",
        "# performance\n",
        "xgb_result = ml_error( 'XGBoost Regressor', np.expm1( y_test ), np.expm1( yhat_xgb ) )\n",
        "xgb_result"
      ],
      "execution_count": 91,
      "outputs": [
        {
          "output_type": "execute_result",
          "data": {
            "text/html": [
              "<div>\n",
              "<style scoped>\n",
              "    .dataframe tbody tr th:only-of-type {\n",
              "        vertical-align: middle;\n",
              "    }\n",
              "\n",
              "    .dataframe tbody tr th {\n",
              "        vertical-align: top;\n",
              "    }\n",
              "\n",
              "    .dataframe thead th {\n",
              "        text-align: right;\n",
              "    }\n",
              "</style>\n",
              "<table border=\"1\" class=\"dataframe\">\n",
              "  <thead>\n",
              "    <tr style=\"text-align: right;\">\n",
              "      <th></th>\n",
              "      <th>Model Name</th>\n",
              "      <th>MAE</th>\n",
              "      <th>MAPE</th>\n",
              "      <th>RMSE</th>\n",
              "    </tr>\n",
              "  </thead>\n",
              "  <tbody>\n",
              "    <tr>\n",
              "      <th>0</th>\n",
              "      <td>XGBoost Regressor</td>\n",
              "      <td>844.412143</td>\n",
              "      <td>0.122715</td>\n",
              "      <td>1255.565401</td>\n",
              "    </tr>\n",
              "  </tbody>\n",
              "</table>\n",
              "</div>"
            ],
            "text/plain": [
              "          Model Name         MAE      MAPE         RMSE\n",
              "0  XGBoost Regressor  844.412143  0.122715  1255.565401"
            ]
          },
          "metadata": {
            "tags": []
          },
          "execution_count": 91
        }
      ]
    },
    {
      "cell_type": "markdown",
      "metadata": {
        "id": "1WvUWK4ZBvZq"
      },
      "source": [
        "### 7.5.1 XGBoost Regressor - Cross Validation"
      ]
    },
    {
      "cell_type": "code",
      "metadata": {
        "colab": {
          "base_uri": "https://localhost:8080/",
          "height": 268
        },
        "id": "Es09FKp4B24Y",
        "outputId": "2402ca84-c931-4bed-a52f-366739a07253"
      },
      "source": [
        "xgb_result_cv = cross_validation( x_training, 5, 'XGBoost Regressor', model_xgb, verbose = True)\n",
        "xgb_result_cv"
      ],
      "execution_count": 92,
      "outputs": [
        {
          "output_type": "stream",
          "text": [
            "\n",
            "KFold Number: 5\n",
            "\n",
            "KFold Number: 4\n",
            "\n",
            "KFold Number: 3\n",
            "\n",
            "KFold Number: 2\n",
            "\n",
            "KFold Number: 1\n"
          ],
          "name": "stdout"
        },
        {
          "output_type": "execute_result",
          "data": {
            "text/html": [
              "<div>\n",
              "<style scoped>\n",
              "    .dataframe tbody tr th:only-of-type {\n",
              "        vertical-align: middle;\n",
              "    }\n",
              "\n",
              "    .dataframe tbody tr th {\n",
              "        vertical-align: top;\n",
              "    }\n",
              "\n",
              "    .dataframe thead th {\n",
              "        text-align: right;\n",
              "    }\n",
              "</style>\n",
              "<table border=\"1\" class=\"dataframe\">\n",
              "  <thead>\n",
              "    <tr style=\"text-align: right;\">\n",
              "      <th></th>\n",
              "      <th>Model Name</th>\n",
              "      <th>MAE CV</th>\n",
              "      <th>MAPE CV</th>\n",
              "      <th>RMSE CV</th>\n",
              "    </tr>\n",
              "  </thead>\n",
              "  <tbody>\n",
              "    <tr>\n",
              "      <th>0</th>\n",
              "      <td>XGBoost Regressor</td>\n",
              "      <td>1030.28 +/- 167.19</td>\n",
              "      <td>0.14 +/- 0.02</td>\n",
              "      <td>1478.26 +/- 229.79</td>\n",
              "    </tr>\n",
              "  </tbody>\n",
              "</table>\n",
              "</div>"
            ],
            "text/plain": [
              "          Model Name              MAE CV        MAPE CV             RMSE CV\n",
              "0  XGBoost Regressor  1030.28 +/- 167.19  0.14 +/- 0.02  1478.26 +/- 229.79"
            ]
          },
          "metadata": {
            "tags": []
          },
          "execution_count": 92
        }
      ]
    },
    {
      "cell_type": "markdown",
      "metadata": {
        "id": "AXj3QOioCEb-"
      },
      "source": [
        "## 7.6 Compare Model's Performance"
      ]
    },
    {
      "cell_type": "markdown",
      "metadata": {
        "id": "REgM6Gi8CIa-"
      },
      "source": [
        "### 7.6.1 Single Performance"
      ]
    },
    {
      "cell_type": "code",
      "metadata": {
        "colab": {
          "base_uri": "https://localhost:8080/",
          "height": 206
        },
        "id": "0dkltLQ6CTwk",
        "outputId": "e490c3fe-4064-4006-e1ab-ede48d6021dc"
      },
      "source": [
        "#Ainda não é uma boa avaliação\n",
        "\n",
        "modelling_result = pd.concat( [baseline_result, lr_result, lrr_result, rf_result, xgb_result ] )\n",
        "modelling_result.sort_values( 'RMSE' )"
      ],
      "execution_count": 93,
      "outputs": [
        {
          "output_type": "execute_result",
          "data": {
            "text/html": [
              "<div>\n",
              "<style scoped>\n",
              "    .dataframe tbody tr th:only-of-type {\n",
              "        vertical-align: middle;\n",
              "    }\n",
              "\n",
              "    .dataframe tbody tr th {\n",
              "        vertical-align: top;\n",
              "    }\n",
              "\n",
              "    .dataframe thead th {\n",
              "        text-align: right;\n",
              "    }\n",
              "</style>\n",
              "<table border=\"1\" class=\"dataframe\">\n",
              "  <thead>\n",
              "    <tr style=\"text-align: right;\">\n",
              "      <th></th>\n",
              "      <th>Model Name</th>\n",
              "      <th>MAE</th>\n",
              "      <th>MAPE</th>\n",
              "      <th>RMSE</th>\n",
              "    </tr>\n",
              "  </thead>\n",
              "  <tbody>\n",
              "    <tr>\n",
              "      <th>0</th>\n",
              "      <td>Random Forest Regressor</td>\n",
              "      <td>678.809877</td>\n",
              "      <td>0.100096</td>\n",
              "      <td>1011.299856</td>\n",
              "    </tr>\n",
              "    <tr>\n",
              "      <th>0</th>\n",
              "      <td>XGBoost Regressor</td>\n",
              "      <td>844.412143</td>\n",
              "      <td>0.122715</td>\n",
              "      <td>1255.565401</td>\n",
              "    </tr>\n",
              "    <tr>\n",
              "      <th>0</th>\n",
              "      <td>Average Model</td>\n",
              "      <td>1366.128351</td>\n",
              "      <td>0.452087</td>\n",
              "      <td>1854.263316</td>\n",
              "    </tr>\n",
              "    <tr>\n",
              "      <th>0</th>\n",
              "      <td>Linear Regression</td>\n",
              "      <td>1868.739520</td>\n",
              "      <td>0.293745</td>\n",
              "      <td>2675.947846</td>\n",
              "    </tr>\n",
              "    <tr>\n",
              "      <th>0</th>\n",
              "      <td>Linear Regression - Lasso</td>\n",
              "      <td>1894.132075</td>\n",
              "      <td>0.290168</td>\n",
              "      <td>2750.818672</td>\n",
              "    </tr>\n",
              "  </tbody>\n",
              "</table>\n",
              "</div>"
            ],
            "text/plain": [
              "                  Model Name          MAE      MAPE         RMSE\n",
              "0    Random Forest Regressor   678.809877  0.100096  1011.299856\n",
              "0          XGBoost Regressor   844.412143  0.122715  1255.565401\n",
              "0              Average Model  1366.128351  0.452087  1854.263316\n",
              "0          Linear Regression  1868.739520  0.293745  2675.947846\n",
              "0  Linear Regression - Lasso  1894.132075  0.290168  2750.818672"
            ]
          },
          "metadata": {
            "tags": []
          },
          "execution_count": 93
        }
      ]
    },
    {
      "cell_type": "markdown",
      "metadata": {
        "id": "vRKpkgH1CgIt"
      },
      "source": [
        "### 7.6.2 Real Performance - Cross Validation"
      ]
    },
    {
      "cell_type": "code",
      "metadata": {
        "colab": {
          "base_uri": "https://localhost:8080/",
          "height": 175
        },
        "id": "ZJ1xsz22ClMq",
        "outputId": "f2ddda03-fb79-43fb-aa7d-d77ab3f3cfb2"
      },
      "source": [
        "modelling_result_cv = pd.concat( [lr_result_cv, lrr_result_cv, rf_result_cv, xgb_result_cv] )\n",
        "modelling_result_cv"
      ],
      "execution_count": 94,
      "outputs": [
        {
          "output_type": "execute_result",
          "data": {
            "text/html": [
              "<div>\n",
              "<style scoped>\n",
              "    .dataframe tbody tr th:only-of-type {\n",
              "        vertical-align: middle;\n",
              "    }\n",
              "\n",
              "    .dataframe tbody tr th {\n",
              "        vertical-align: top;\n",
              "    }\n",
              "\n",
              "    .dataframe thead th {\n",
              "        text-align: right;\n",
              "    }\n",
              "</style>\n",
              "<table border=\"1\" class=\"dataframe\">\n",
              "  <thead>\n",
              "    <tr style=\"text-align: right;\">\n",
              "      <th></th>\n",
              "      <th>Model Name</th>\n",
              "      <th>MAE CV</th>\n",
              "      <th>MAPE CV</th>\n",
              "      <th>RMSE CV</th>\n",
              "    </tr>\n",
              "  </thead>\n",
              "  <tbody>\n",
              "    <tr>\n",
              "      <th>0</th>\n",
              "      <td>Linear Regression</td>\n",
              "      <td>2081.73 +/- 295.63</td>\n",
              "      <td>0.3 +/- 0.02</td>\n",
              "      <td>2952.52 +/- 468.37</td>\n",
              "    </tr>\n",
              "    <tr>\n",
              "      <th>0</th>\n",
              "      <td>Lasso</td>\n",
              "      <td>2116.38 +/- 341.5</td>\n",
              "      <td>0.29 +/- 0.01</td>\n",
              "      <td>3057.75 +/- 504.26</td>\n",
              "    </tr>\n",
              "    <tr>\n",
              "      <th>0</th>\n",
              "      <td>Random Forest Regressor</td>\n",
              "      <td>838.18 +/- 218.74</td>\n",
              "      <td>0.12 +/- 0.02</td>\n",
              "      <td>1256.87 +/- 319.67</td>\n",
              "    </tr>\n",
              "    <tr>\n",
              "      <th>0</th>\n",
              "      <td>XGBoost Regressor</td>\n",
              "      <td>1030.28 +/- 167.19</td>\n",
              "      <td>0.14 +/- 0.02</td>\n",
              "      <td>1478.26 +/- 229.79</td>\n",
              "    </tr>\n",
              "  </tbody>\n",
              "</table>\n",
              "</div>"
            ],
            "text/plain": [
              "                Model Name  ...             RMSE CV\n",
              "0        Linear Regression  ...  2952.52 +/- 468.37\n",
              "0                    Lasso  ...  3057.75 +/- 504.26\n",
              "0  Random Forest Regressor  ...  1256.87 +/- 319.67\n",
              "0        XGBoost Regressor  ...  1478.26 +/- 229.79\n",
              "\n",
              "[4 rows x 4 columns]"
            ]
          },
          "metadata": {
            "tags": []
          },
          "execution_count": 94
        }
      ]
    }
  ]
}