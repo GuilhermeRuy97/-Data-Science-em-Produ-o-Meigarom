{
  "nbformat": 4,
  "nbformat_minor": 0,
  "metadata": {
    "colab": {
      "name": "data_science_em_producao.ipynb",
      "provenance": [],
      "authorship_tag": "ABX9TyOmwhgD7yyuVHW77qeJVEYS",
      "include_colab_link": true
    },
    "kernelspec": {
      "name": "python3",
      "display_name": "Python 3"
    }
  },
  "cells": [
    {
      "cell_type": "markdown",
      "metadata": {
        "id": "view-in-github",
        "colab_type": "text"
      },
      "source": [
        "<a href=\"https://colab.research.google.com/github/GuilhermeRuy97/Data-Science-em-Producao-Meigarom/blob/main/data_science_em_producao.ipynb\" target=\"_parent\"><img src=\"https://colab.research.google.com/assets/colab-badge.svg\" alt=\"Open In Colab\"/></a>"
      ]
    },
    {
      "cell_type": "markdown",
      "metadata": {
        "id": "DHOt5tw2Mzhh"
      },
      "source": [
        "-Store Sales Prediction\r\n"
      ]
    },
    {
      "cell_type": "markdown",
      "metadata": {
        "id": "m9yA3BdTW6Dq"
      },
      "source": [
        "## 0.0 IMPORTS"
      ]
    },
    {
      "cell_type": "code",
      "metadata": {
        "id": "MR5X18iZj_6U",
        "colab": {
          "base_uri": "https://localhost:8080/"
        },
        "outputId": "3ff749ce-de02-433f-816c-8c1004682c25"
      },
      "source": [
        "!pip install inflection"
      ],
      "execution_count": 4,
      "outputs": [
        {
          "output_type": "stream",
          "text": [
            "Requirement already satisfied: inflection in /usr/local/lib/python3.7/dist-packages (0.5.1)\n"
          ],
          "name": "stdout"
        }
      ]
    },
    {
      "cell_type": "code",
      "metadata": {
        "id": "AcqppZm5Ys1X"
      },
      "source": [
        "import pandas as pd\r\n",
        "import inflection\r\n",
        "import math\r\n",
        "import numpy as np\r\n",
        "import seaborn as sns\r\n",
        "import matplotlib.pyplot as plt\r\n",
        "\r\n",
        "from IPython.core.display import HTML\r\n",
        "from IPython.display import Image"
      ],
      "execution_count": 5,
      "outputs": []
    },
    {
      "cell_type": "markdown",
      "metadata": {
        "id": "EK9ejN3ZYCmg"
      },
      "source": [
        "### 0.1 Helper Functions"
      ]
    },
    {
      "cell_type": "markdown",
      "metadata": {
        "id": "4_rirL9JYEx8"
      },
      "source": [
        "### 0.2 Loading Data"
      ]
    },
    {
      "cell_type": "code",
      "metadata": {
        "id": "DQeaFj4ZYfV6"
      },
      "source": [
        "df_sales_raw = pd.read_csv( 'train.csv', low_memory = False)\r\n",
        "df_store_raw = pd.read_csv( 'store.csv', low_memory = False)\r\n",
        "\r\n",
        "#Fazendo um merge dos arquivos guardando em \"store\"\r\n",
        "\r\n",
        "df_raw = pd.merge( df_sales_raw, df_store_raw, how = 'left', on = 'Store' )"
      ],
      "execution_count": 6,
      "outputs": []
    },
    {
      "cell_type": "code",
      "metadata": {
        "colab": {
          "base_uri": "https://localhost:8080/",
          "height": 0
        },
        "id": "42AAwWAIikre",
        "outputId": "b15230ee-a949-4572-8764-4e6158a50a64"
      },
      "source": [
        "df_raw.sample()"
      ],
      "execution_count": 7,
      "outputs": [
        {
          "output_type": "execute_result",
          "data": {
            "text/html": [
              "<div>\n",
              "<style scoped>\n",
              "    .dataframe tbody tr th:only-of-type {\n",
              "        vertical-align: middle;\n",
              "    }\n",
              "\n",
              "    .dataframe tbody tr th {\n",
              "        vertical-align: top;\n",
              "    }\n",
              "\n",
              "    .dataframe thead th {\n",
              "        text-align: right;\n",
              "    }\n",
              "</style>\n",
              "<table border=\"1\" class=\"dataframe\">\n",
              "  <thead>\n",
              "    <tr style=\"text-align: right;\">\n",
              "      <th></th>\n",
              "      <th>Store</th>\n",
              "      <th>DayOfWeek</th>\n",
              "      <th>Date</th>\n",
              "      <th>Sales</th>\n",
              "      <th>Customers</th>\n",
              "      <th>Open</th>\n",
              "      <th>Promo</th>\n",
              "      <th>StateHoliday</th>\n",
              "      <th>SchoolHoliday</th>\n",
              "      <th>StoreType</th>\n",
              "      <th>Assortment</th>\n",
              "      <th>CompetitionDistance</th>\n",
              "      <th>CompetitionOpenSinceMonth</th>\n",
              "      <th>CompetitionOpenSinceYear</th>\n",
              "      <th>Promo2</th>\n",
              "      <th>Promo2SinceWeek</th>\n",
              "      <th>Promo2SinceYear</th>\n",
              "      <th>PromoInterval</th>\n",
              "    </tr>\n",
              "  </thead>\n",
              "  <tbody>\n",
              "    <tr>\n",
              "      <th>376530</th>\n",
              "      <td>997</td>\n",
              "      <td>1</td>\n",
              "      <td>2014-08-04</td>\n",
              "      <td>7025</td>\n",
              "      <td>500</td>\n",
              "      <td>1</td>\n",
              "      <td>1.0</td>\n",
              "      <td>0</td>\n",
              "      <td>1.0</td>\n",
              "      <td>d</td>\n",
              "      <td>c</td>\n",
              "      <td>5840.0</td>\n",
              "      <td>7.0</td>\n",
              "      <td>2010.0</td>\n",
              "      <td>1</td>\n",
              "      <td>37.0</td>\n",
              "      <td>2009.0</td>\n",
              "      <td>Jan,Apr,Jul,Oct</td>\n",
              "    </tr>\n",
              "  </tbody>\n",
              "</table>\n",
              "</div>"
            ],
            "text/plain": [
              "        Store  DayOfWeek  ... Promo2SinceYear    PromoInterval\n",
              "376530    997          1  ...          2009.0  Jan,Apr,Jul,Oct\n",
              "\n",
              "[1 rows x 18 columns]"
            ]
          },
          "metadata": {
            "tags": []
          },
          "execution_count": 7
        }
      ]
    },
    {
      "cell_type": "markdown",
      "metadata": {
        "id": "Q8Mnj8c5W-Qk"
      },
      "source": [
        "## 1.0 PASSO 01 - DESCRICAO DOS DADOS"
      ]
    },
    {
      "cell_type": "code",
      "metadata": {
        "id": "N1FoLPXYjT-Y"
      },
      "source": [
        "#É interessante fazer uma cópia dos dados ao mudar de sessão para resgatá-los no futuro.\r\n",
        "\r\n",
        "df1 = df_raw.copy()"
      ],
      "execution_count": 8,
      "outputs": []
    },
    {
      "cell_type": "markdown",
      "metadata": {
        "id": "YScQU4U4YMNR"
      },
      "source": [
        "### 1.1 Rename Columns"
      ]
    },
    {
      "cell_type": "code",
      "metadata": {
        "colab": {
          "base_uri": "https://localhost:8080/"
        },
        "id": "MfGYlH7VjSir",
        "outputId": "dd0780ea-37d9-42f6-d9c7-e364558af2c6"
      },
      "source": [
        "#Nem sempre os dados vem com nomes adequados para o desenvolvimento dos algoritmos;\r\n",
        "#Neste caso é mais controlado pois são dados do kaggle.\r\n",
        "\r\n",
        "df_raw.columns"
      ],
      "execution_count": 9,
      "outputs": [
        {
          "output_type": "execute_result",
          "data": {
            "text/plain": [
              "Index(['Store', 'DayOfWeek', 'Date', 'Sales', 'Customers', 'Open', 'Promo',\n",
              "       'StateHoliday', 'SchoolHoliday', 'StoreType', 'Assortment',\n",
              "       'CompetitionDistance', 'CompetitionOpenSinceMonth',\n",
              "       'CompetitionOpenSinceYear', 'Promo2', 'Promo2SinceWeek',\n",
              "       'Promo2SinceYear', 'PromoInterval'],\n",
              "      dtype='object')"
            ]
          },
          "metadata": {
            "tags": []
          },
          "execution_count": 9
        }
      ]
    },
    {
      "cell_type": "code",
      "metadata": {
        "id": "Is5aMWqNjiHe"
      },
      "source": [
        "#Transformando os dados de camel case para snake case\r\n",
        "\r\n",
        "#Colunas originais\r\n",
        "\r\n",
        "cols_old = ['Store', 'DayOfWeek', 'Date', 'Sales', 'Customers', 'Open', 'Promo',\r\n",
        "            'StateHoliday', 'SchoolHoliday', 'StoreType', 'Assortment',\r\n",
        "            'CompetitionDistance', 'CompetitionOpenSinceMonth',\r\n",
        "            'CompetitionOpenSinceYear', 'Promo2', 'Promo2SinceWeek',\r\n",
        "            'Promo2SinceYear', 'PromoInterval']\r\n",
        "\r\n",
        "#Mudando coluna para snake case\r\n",
        "\r\n",
        "snakecase = lambda x: inflection.underscore( x )\r\n",
        "\r\n",
        "cols_new = list( map( snakecase, cols_old ) )\r\n",
        "\r\n",
        "#Rename\r\n",
        "\r\n",
        "df1.columns = cols_new"
      ],
      "execution_count": 10,
      "outputs": []
    },
    {
      "cell_type": "code",
      "metadata": {
        "colab": {
          "base_uri": "https://localhost:8080/"
        },
        "id": "B6wOqT3Kkd0t",
        "outputId": "8761df14-e0b1-4fc7-ff14-d323b1cd281d"
      },
      "source": [
        "df1.columns"
      ],
      "execution_count": 11,
      "outputs": [
        {
          "output_type": "execute_result",
          "data": {
            "text/plain": [
              "Index(['store', 'day_of_week', 'date', 'sales', 'customers', 'open', 'promo',\n",
              "       'state_holiday', 'school_holiday', 'store_type', 'assortment',\n",
              "       'competition_distance', 'competition_open_since_month',\n",
              "       'competition_open_since_year', 'promo2', 'promo2_since_week',\n",
              "       'promo2_since_year', 'promo_interval'],\n",
              "      dtype='object')"
            ]
          },
          "metadata": {
            "tags": []
          },
          "execution_count": 11
        }
      ]
    },
    {
      "cell_type": "markdown",
      "metadata": {
        "id": "CTTqcg8xYOYm"
      },
      "source": [
        "### 1.2 Data Dimensions"
      ]
    },
    {
      "cell_type": "code",
      "metadata": {
        "colab": {
          "base_uri": "https://localhost:8080/"
        },
        "id": "SWAzHDsTvguz",
        "outputId": "e061a728-4223-456a-acd3-7d16aba264d2"
      },
      "source": [
        "print( f'Number of Rows: { df1.shape[0] }')\r\n",
        "print( f'Number of Columns: { df1.shape[1] }')\r\n"
      ],
      "execution_count": 12,
      "outputs": [
        {
          "output_type": "stream",
          "text": [
            "Number of Rows: 784451\n",
            "Number of Columns: 18\n"
          ],
          "name": "stdout"
        }
      ]
    },
    {
      "cell_type": "markdown",
      "metadata": {
        "id": "n_adXn1NYQHG"
      },
      "source": [
        "### 1.3 Data Types"
      ]
    },
    {
      "cell_type": "code",
      "metadata": {
        "colab": {
          "base_uri": "https://localhost:8080/"
        },
        "id": "5MnMhfRTwhvk",
        "outputId": "2d560f51-91a0-4dc8-e3e4-10aaa948f472"
      },
      "source": [
        "df1.dtypes"
      ],
      "execution_count": 13,
      "outputs": [
        {
          "output_type": "execute_result",
          "data": {
            "text/plain": [
              "store                             int64\n",
              "day_of_week                       int64\n",
              "date                             object\n",
              "sales                             int64\n",
              "customers                         int64\n",
              "open                              int64\n",
              "promo                           float64\n",
              "state_holiday                    object\n",
              "school_holiday                  float64\n",
              "store_type                       object\n",
              "assortment                       object\n",
              "competition_distance            float64\n",
              "competition_open_since_month    float64\n",
              "competition_open_since_year     float64\n",
              "promo2                            int64\n",
              "promo2_since_week               float64\n",
              "promo2_since_year               float64\n",
              "promo_interval                   object\n",
              "dtype: object"
            ]
          },
          "metadata": {
            "tags": []
          },
          "execution_count": 13
        }
      ]
    },
    {
      "cell_type": "code",
      "metadata": {
        "colab": {
          "base_uri": "https://localhost:8080/"
        },
        "id": "ZJnMhSQQxbc9",
        "outputId": "d89f0ce3-94fd-4a40-9e47-20c05aa345c8"
      },
      "source": [
        "#Transformando a data de object para data\r\n",
        "\r\n",
        "df1['date'] = pd.to_datetime(df1['date'])\r\n",
        "df1.dtypes"
      ],
      "execution_count": 14,
      "outputs": [
        {
          "output_type": "execute_result",
          "data": {
            "text/plain": [
              "store                                    int64\n",
              "day_of_week                              int64\n",
              "date                            datetime64[ns]\n",
              "sales                                    int64\n",
              "customers                                int64\n",
              "open                                     int64\n",
              "promo                                  float64\n",
              "state_holiday                           object\n",
              "school_holiday                         float64\n",
              "store_type                              object\n",
              "assortment                              object\n",
              "competition_distance                   float64\n",
              "competition_open_since_month           float64\n",
              "competition_open_since_year            float64\n",
              "promo2                                   int64\n",
              "promo2_since_week                      float64\n",
              "promo2_since_year                      float64\n",
              "promo_interval                          object\n",
              "dtype: object"
            ]
          },
          "metadata": {
            "tags": []
          },
          "execution_count": 14
        }
      ]
    },
    {
      "cell_type": "markdown",
      "metadata": {
        "id": "N5EAHpb_YQUv"
      },
      "source": [
        "### 1.4 Check NA"
      ]
    },
    {
      "cell_type": "code",
      "metadata": {
        "colab": {
          "base_uri": "https://localhost:8080/"
        },
        "id": "IMDlUiGmzMhU",
        "outputId": "51074425-4afd-40c8-eaaa-f7e467e3e572"
      },
      "source": [
        "#Mostrando a soma de todas as linhas que tenha pelo menos 1 na\r\n",
        "\r\n",
        "df1.isna().sum()"
      ],
      "execution_count": 15,
      "outputs": [
        {
          "output_type": "execute_result",
          "data": {
            "text/plain": [
              "store                                0\n",
              "day_of_week                          0\n",
              "date                                 0\n",
              "sales                                0\n",
              "customers                            0\n",
              "open                                 0\n",
              "promo                                1\n",
              "state_holiday                        1\n",
              "school_holiday                       1\n",
              "store_type                           0\n",
              "assortment                           0\n",
              "competition_distance              2015\n",
              "competition_open_since_month    249450\n",
              "competition_open_since_year     249450\n",
              "promo2                               0\n",
              "promo2_since_week               394471\n",
              "promo2_since_year               394471\n",
              "promo_interval                  394471\n",
              "dtype: int64"
            ]
          },
          "metadata": {
            "tags": []
          },
          "execution_count": 15
        }
      ]
    },
    {
      "cell_type": "markdown",
      "metadata": {
        "id": "onN3Xf9ZYREI"
      },
      "source": [
        "### 1.5 Fillout NA"
      ]
    },
    {
      "cell_type": "code",
      "metadata": {
        "colab": {
          "base_uri": "https://localhost:8080/"
        },
        "id": "SalV_THQgOj5",
        "outputId": "dab78c73-8d2c-457f-83ef-e372a0d6023a"
      },
      "source": [
        "df1['competition_distance'].max"
      ],
      "execution_count": 16,
      "outputs": [
        {
          "output_type": "execute_result",
          "data": {
            "text/plain": [
              "<bound method Series.max of 0          1270.0\n",
              "1           570.0\n",
              "2         14130.0\n",
              "3           620.0\n",
              "4         29910.0\n",
              "           ...   \n",
              "784446    16180.0\n",
              "784447     8480.0\n",
              "784448     3640.0\n",
              "784449      300.0\n",
              "784450     2960.0\n",
              "Name: competition_distance, Length: 784451, dtype: float64>"
            ]
          },
          "metadata": {
            "tags": []
          },
          "execution_count": 16
        }
      ]
    },
    {
      "cell_type": "code",
      "metadata": {
        "id": "Gu7jgPyEejna"
      },
      "source": [
        "# competition_distance\r\n",
        "# Trocando o valor em NA pelo maior valor:\r\n",
        "df1['competition_distance'] = df1['competition_distance'].apply( lambda x: 200000.0 if math.isnan(x) else x)\r\n",
        "\r\n",
        "# competition_open_since_month    \r\n",
        "# Trocando a data de \"competição desde o mes\" pela data de venda da ultima compra\r\n",
        "df1['competition_open_since_month'] = df1.apply( lambda x: x['date'].month if math.isnan( x['competition_open_since_month'] ) else x['competition_open_since_month'], axis = 1)\r\n",
        "\r\n",
        "# competition_open_since_year     \r\n",
        "# Mesmo processo do mes para o ano\r\n",
        "df1['competition_open_since_year'] = df1.apply( lambda x: x['date'].year if math.isnan( x['competition_open_since_year'] ) else x['competition_open_since_year'], axis = 1)\r\n",
        "\r\n",
        "# promo2                               \r\n",
        "# promo2_since_week               \r\n",
        "df1['promo2_since_week'] = df1.apply( lambda x: x['date'].week if math.isnan( x['promo2_since_week'] ) else x['promo2_since_week'], axis = 1)\r\n",
        "\r\n",
        "# promo2_since_year               \r\n",
        "df1['promo2_since_year'] = df1.apply( lambda x: x['date'].year if math.isnan( x['promo2_since_year'] ) else x['promo2_since_year'], axis = 1)\r\n",
        "\r\n",
        "# promo_interval                  \r\n",
        "month_map = {\r\n",
        "1: 'Jan', \r\n",
        "2: 'Feb', \r\n",
        "3: 'Mar', \r\n",
        "4: 'Apr', \r\n",
        "5: 'May', \r\n",
        "6: 'Jun', \r\n",
        "7: 'Jul', \r\n",
        "8: 'Ago', \r\n",
        "9: 'Sep', \r\n",
        "10: 'Oct', \r\n",
        "11: 'Nov', \r\n",
        "12: 'Dec' }\r\n",
        "\r\n",
        "df1['promo_interval'].fillna(0, inplace = True)\r\n",
        "\r\n",
        "df1['month_map'] = df1['date'].dt.month.map( month_map )\r\n",
        "\r\n",
        "df1['is_promo'] = df1[['promo_interval', 'month_map']].apply( lambda x: 0 if x['promo_interval'] == 0 else 1 if x['month_map'] in x['promo_interval'].split(',') else 0, axis = 1 )"
      ],
      "execution_count": 17,
      "outputs": []
    },
    {
      "cell_type": "code",
      "metadata": {
        "colab": {
          "base_uri": "https://localhost:8080/"
        },
        "id": "y1hOA0Y6ht4O",
        "outputId": "d01d0fa8-cc5a-437d-9a3f-f2cc21bdb16a"
      },
      "source": [
        "#Repare que a soma agora de NA's é 0\r\n",
        "\r\n",
        "df1.isna().sum()"
      ],
      "execution_count": 18,
      "outputs": [
        {
          "output_type": "execute_result",
          "data": {
            "text/plain": [
              "store                           0\n",
              "day_of_week                     0\n",
              "date                            0\n",
              "sales                           0\n",
              "customers                       0\n",
              "open                            0\n",
              "promo                           1\n",
              "state_holiday                   1\n",
              "school_holiday                  1\n",
              "store_type                      0\n",
              "assortment                      0\n",
              "competition_distance            0\n",
              "competition_open_since_month    0\n",
              "competition_open_since_year     0\n",
              "promo2                          0\n",
              "promo2_since_week               0\n",
              "promo2_since_year               0\n",
              "promo_interval                  0\n",
              "month_map                       0\n",
              "is_promo                        0\n",
              "dtype: int64"
            ]
          },
          "metadata": {
            "tags": []
          },
          "execution_count": 18
        }
      ]
    },
    {
      "cell_type": "markdown",
      "metadata": {
        "id": "YGM8evPlYRRU"
      },
      "source": [
        "### 1.6 Change Types"
      ]
    },
    {
      "cell_type": "code",
      "metadata": {
        "id": "-8FwGwhiuKkc"
      },
      "source": [
        "#Depois de se fazer alterações em colunas, é importante refazer a busca dos tipos\r\n",
        "#para conferir se o tipo original não foi alterado."
      ],
      "execution_count": 19,
      "outputs": []
    },
    {
      "cell_type": "code",
      "metadata": {
        "id": "VCcpYJyiuQdK",
        "colab": {
          "base_uri": "https://localhost:8080/"
        },
        "outputId": "00f44afc-839e-4774-e76b-92f1fbf7c604"
      },
      "source": [
        "df1.dtypes\r\n",
        "\r\n",
        "#Repare que o competition_sincer_week é um float"
      ],
      "execution_count": 20,
      "outputs": [
        {
          "output_type": "execute_result",
          "data": {
            "text/plain": [
              "store                                    int64\n",
              "day_of_week                              int64\n",
              "date                            datetime64[ns]\n",
              "sales                                    int64\n",
              "customers                                int64\n",
              "open                                     int64\n",
              "promo                                  float64\n",
              "state_holiday                           object\n",
              "school_holiday                         float64\n",
              "store_type                              object\n",
              "assortment                              object\n",
              "competition_distance                   float64\n",
              "competition_open_since_month           float64\n",
              "competition_open_since_year            float64\n",
              "promo2                                   int64\n",
              "promo2_since_week                      float64\n",
              "promo2_since_year                      float64\n",
              "promo_interval                          object\n",
              "month_map                               object\n",
              "is_promo                                 int64\n",
              "dtype: object"
            ]
          },
          "metadata": {
            "tags": []
          },
          "execution_count": 20
        }
      ]
    },
    {
      "cell_type": "code",
      "metadata": {
        "id": "sfh753_CuZhm"
      },
      "source": [
        "df1['competition_open_since_month'] = df1['competition_open_since_month'].astype(int)\r\n",
        "df1['competition_open_since_year'] = df1['competition_open_since_year'].astype(int)\r\n",
        "df1['promo2_since_week'] = df1['promo2_since_week'].astype(int)\r\n",
        "df1['promo2_since_year'] = df1['promo2_since_year'].astype(int)"
      ],
      "execution_count": 21,
      "outputs": []
    },
    {
      "cell_type": "code",
      "metadata": {
        "id": "bqSgTbsduhxA",
        "colab": {
          "base_uri": "https://localhost:8080/"
        },
        "outputId": "5406ab8a-8eae-4806-c8b0-241c427c3e5e"
      },
      "source": [
        "df1.dtypes"
      ],
      "execution_count": 22,
      "outputs": [
        {
          "output_type": "execute_result",
          "data": {
            "text/plain": [
              "store                                    int64\n",
              "day_of_week                              int64\n",
              "date                            datetime64[ns]\n",
              "sales                                    int64\n",
              "customers                                int64\n",
              "open                                     int64\n",
              "promo                                  float64\n",
              "state_holiday                           object\n",
              "school_holiday                         float64\n",
              "store_type                              object\n",
              "assortment                              object\n",
              "competition_distance                   float64\n",
              "competition_open_since_month             int64\n",
              "competition_open_since_year              int64\n",
              "promo2                                   int64\n",
              "promo2_since_week                        int64\n",
              "promo2_since_year                        int64\n",
              "promo_interval                          object\n",
              "month_map                               object\n",
              "is_promo                                 int64\n",
              "dtype: object"
            ]
          },
          "metadata": {
            "tags": []
          },
          "execution_count": 22
        }
      ]
    },
    {
      "cell_type": "markdown",
      "metadata": {
        "id": "reUNag0-YRcD"
      },
      "source": [
        "### 1.7 Descriptive Statistical"
      ]
    },
    {
      "cell_type": "code",
      "metadata": {
        "id": "1F8WIJOJxHCg"
      },
      "source": [
        "#Selecionando os dados numéricos e categóricos\r\n",
        "\r\n",
        "num_attributes = df1.select_dtypes( include = ['int64', 'float64'])\r\n",
        "cat_attributes = df1.select_dtypes( exclude = ['int64', 'float64', 'datetime64[ns]'] )"
      ],
      "execution_count": 23,
      "outputs": []
    },
    {
      "cell_type": "code",
      "metadata": {
        "id": "UKV4cD5Kxrxe",
        "colab": {
          "base_uri": "https://localhost:8080/",
          "height": 0
        },
        "outputId": "4119b3d2-5b8c-4d2f-e5f3-f3bea99c55ac"
      },
      "source": [
        "num_attributes.sample(2)"
      ],
      "execution_count": 24,
      "outputs": [
        {
          "output_type": "execute_result",
          "data": {
            "text/html": [
              "<div>\n",
              "<style scoped>\n",
              "    .dataframe tbody tr th:only-of-type {\n",
              "        vertical-align: middle;\n",
              "    }\n",
              "\n",
              "    .dataframe tbody tr th {\n",
              "        vertical-align: top;\n",
              "    }\n",
              "\n",
              "    .dataframe thead th {\n",
              "        text-align: right;\n",
              "    }\n",
              "</style>\n",
              "<table border=\"1\" class=\"dataframe\">\n",
              "  <thead>\n",
              "    <tr style=\"text-align: right;\">\n",
              "      <th></th>\n",
              "      <th>store</th>\n",
              "      <th>day_of_week</th>\n",
              "      <th>sales</th>\n",
              "      <th>customers</th>\n",
              "      <th>open</th>\n",
              "      <th>promo</th>\n",
              "      <th>school_holiday</th>\n",
              "      <th>competition_distance</th>\n",
              "      <th>competition_open_since_month</th>\n",
              "      <th>competition_open_since_year</th>\n",
              "      <th>promo2</th>\n",
              "      <th>promo2_since_week</th>\n",
              "      <th>promo2_since_year</th>\n",
              "      <th>is_promo</th>\n",
              "    </tr>\n",
              "  </thead>\n",
              "  <tbody>\n",
              "    <tr>\n",
              "      <th>69316</th>\n",
              "      <td>187</td>\n",
              "      <td>6</td>\n",
              "      <td>4397</td>\n",
              "      <td>532</td>\n",
              "      <td>1</td>\n",
              "      <td>0.0</td>\n",
              "      <td>0.0</td>\n",
              "      <td>19360.0</td>\n",
              "      <td>5</td>\n",
              "      <td>2015</td>\n",
              "      <td>0</td>\n",
              "      <td>22</td>\n",
              "      <td>2015</td>\n",
              "      <td>0</td>\n",
              "    </tr>\n",
              "    <tr>\n",
              "      <th>235633</th>\n",
              "      <td>369</td>\n",
              "      <td>4</td>\n",
              "      <td>0</td>\n",
              "      <td>0</td>\n",
              "      <td>0</td>\n",
              "      <td>0.0</td>\n",
              "      <td>1.0</td>\n",
              "      <td>5870.0</td>\n",
              "      <td>4</td>\n",
              "      <td>2014</td>\n",
              "      <td>0</td>\n",
              "      <td>1</td>\n",
              "      <td>2015</td>\n",
              "      <td>0</td>\n",
              "    </tr>\n",
              "  </tbody>\n",
              "</table>\n",
              "</div>"
            ],
            "text/plain": [
              "        store  day_of_week  ...  promo2_since_year  is_promo\n",
              "69316     187            6  ...               2015         0\n",
              "235633    369            4  ...               2015         0\n",
              "\n",
              "[2 rows x 14 columns]"
            ]
          },
          "metadata": {
            "tags": []
          },
          "execution_count": 24
        }
      ]
    },
    {
      "cell_type": "code",
      "metadata": {
        "id": "CP-jdBW_xwXz",
        "colab": {
          "base_uri": "https://localhost:8080/",
          "height": 0
        },
        "outputId": "56d8b9af-685f-43bb-b8fd-7497bdaea940"
      },
      "source": [
        "cat_attributes.sample(2)"
      ],
      "execution_count": 25,
      "outputs": [
        {
          "output_type": "execute_result",
          "data": {
            "text/html": [
              "<div>\n",
              "<style scoped>\n",
              "    .dataframe tbody tr th:only-of-type {\n",
              "        vertical-align: middle;\n",
              "    }\n",
              "\n",
              "    .dataframe tbody tr th {\n",
              "        vertical-align: top;\n",
              "    }\n",
              "\n",
              "    .dataframe thead th {\n",
              "        text-align: right;\n",
              "    }\n",
              "</style>\n",
              "<table border=\"1\" class=\"dataframe\">\n",
              "  <thead>\n",
              "    <tr style=\"text-align: right;\">\n",
              "      <th></th>\n",
              "      <th>state_holiday</th>\n",
              "      <th>store_type</th>\n",
              "      <th>assortment</th>\n",
              "      <th>promo_interval</th>\n",
              "      <th>month_map</th>\n",
              "    </tr>\n",
              "  </thead>\n",
              "  <tbody>\n",
              "    <tr>\n",
              "      <th>422837</th>\n",
              "      <td>0</td>\n",
              "      <td>d</td>\n",
              "      <td>a</td>\n",
              "      <td>0</td>\n",
              "      <td>Jun</td>\n",
              "    </tr>\n",
              "    <tr>\n",
              "      <th>255339</th>\n",
              "      <td>0</td>\n",
              "      <td>d</td>\n",
              "      <td>a</td>\n",
              "      <td>0</td>\n",
              "      <td>Dec</td>\n",
              "    </tr>\n",
              "  </tbody>\n",
              "</table>\n",
              "</div>"
            ],
            "text/plain": [
              "       state_holiday store_type assortment promo_interval month_map\n",
              "422837             0          d          a              0       Jun\n",
              "255339             0          d          a              0       Dec"
            ]
          },
          "metadata": {
            "tags": []
          },
          "execution_count": 25
        }
      ]
    },
    {
      "cell_type": "markdown",
      "metadata": {
        "id": "Bx9f7RqAx6CW"
      },
      "source": [
        "#### 1.7.1 Numerical Attributes"
      ]
    },
    {
      "cell_type": "code",
      "metadata": {
        "id": "Hf0VePHVvERN"
      },
      "source": [
        "# Central Tendency - mean, median\r\n",
        "ct1 = pd.DataFrame( num_attributes.apply( np.mean ) ).T\r\n",
        "ct2 = pd.DataFrame( num_attributes.apply( np.median ) ).T\r\n",
        "\r\n",
        "# Dispersion - std, min, maax, range, skew, kurtosis\r\n",
        "d1 = pd.DataFrame( num_attributes.apply( np.std ) ).T\r\n",
        "d2 = pd.DataFrame( num_attributes.apply( min ) ).T\r\n",
        "d3 = pd.DataFrame( num_attributes.apply( max ) ).T\r\n",
        "d4 = pd.DataFrame( num_attributes.apply( lambda x: x.max() - x.min() ) ).T\r\n",
        "d5 = pd.DataFrame( num_attributes.apply( lambda x: x.skew() ) ).T\r\n",
        "d6 = pd.DataFrame( num_attributes.apply( lambda x: x.kurtosis() ) ).T\r\n",
        "\r\n",
        "# Concatenete\r\n",
        "m = pd.concat( [d2, d3, d4, ct1, ct2, d1, d5, d6] ).T.reset_index()\r\n",
        "m.columns = ( ['attributes', 'min', 'max', 'range', 'mean', 'median', 'std',\r\n",
        "            'skew', 'kurtosis'] )"
      ],
      "execution_count": 26,
      "outputs": []
    },
    {
      "cell_type": "code",
      "metadata": {
        "id": "xcVEdt5F0cRa",
        "colab": {
          "base_uri": "https://localhost:8080/",
          "height": 0
        },
        "outputId": "7e8b109f-13c6-4b20-e9bd-f61682db9f99"
      },
      "source": [
        "m"
      ],
      "execution_count": 27,
      "outputs": [
        {
          "output_type": "execute_result",
          "data": {
            "text/html": [
              "<div>\n",
              "<style scoped>\n",
              "    .dataframe tbody tr th:only-of-type {\n",
              "        vertical-align: middle;\n",
              "    }\n",
              "\n",
              "    .dataframe tbody tr th {\n",
              "        vertical-align: top;\n",
              "    }\n",
              "\n",
              "    .dataframe thead th {\n",
              "        text-align: right;\n",
              "    }\n",
              "</style>\n",
              "<table border=\"1\" class=\"dataframe\">\n",
              "  <thead>\n",
              "    <tr style=\"text-align: right;\">\n",
              "      <th></th>\n",
              "      <th>attributes</th>\n",
              "      <th>min</th>\n",
              "      <th>max</th>\n",
              "      <th>range</th>\n",
              "      <th>mean</th>\n",
              "      <th>median</th>\n",
              "      <th>std</th>\n",
              "      <th>skew</th>\n",
              "      <th>kurtosis</th>\n",
              "    </tr>\n",
              "  </thead>\n",
              "  <tbody>\n",
              "    <tr>\n",
              "      <th>0</th>\n",
              "      <td>store</td>\n",
              "      <td>1.0</td>\n",
              "      <td>1115.0</td>\n",
              "      <td>1114.0</td>\n",
              "      <td>558.410185</td>\n",
              "      <td>558.0</td>\n",
              "      <td>321.962419</td>\n",
              "      <td>-0.000729</td>\n",
              "      <td>-1.201040</td>\n",
              "    </tr>\n",
              "    <tr>\n",
              "      <th>1</th>\n",
              "      <td>day_of_week</td>\n",
              "      <td>1.0</td>\n",
              "      <td>7.0</td>\n",
              "      <td>6.0</td>\n",
              "      <td>3.994637</td>\n",
              "      <td>4.0</td>\n",
              "      <td>1.998828</td>\n",
              "      <td>0.003268</td>\n",
              "      <td>-1.247821</td>\n",
              "    </tr>\n",
              "    <tr>\n",
              "      <th>2</th>\n",
              "      <td>sales</td>\n",
              "      <td>0.0</td>\n",
              "      <td>41551.0</td>\n",
              "      <td>41551.0</td>\n",
              "      <td>5855.899947</td>\n",
              "      <td>5822.0</td>\n",
              "      <td>3889.244381</td>\n",
              "      <td>0.631308</td>\n",
              "      <td>1.728005</td>\n",
              "    </tr>\n",
              "    <tr>\n",
              "      <th>3</th>\n",
              "      <td>customers</td>\n",
              "      <td>0.0</td>\n",
              "      <td>5494.0</td>\n",
              "      <td>5494.0</td>\n",
              "      <td>638.103971</td>\n",
              "      <td>614.0</td>\n",
              "      <td>466.165161</td>\n",
              "      <td>1.598210</td>\n",
              "      <td>7.063196</td>\n",
              "    </tr>\n",
              "    <tr>\n",
              "      <th>4</th>\n",
              "      <td>open</td>\n",
              "      <td>0.0</td>\n",
              "      <td>1.0</td>\n",
              "      <td>1.0</td>\n",
              "      <td>0.831290</td>\n",
              "      <td>1.0</td>\n",
              "      <td>0.374496</td>\n",
              "      <td>-1.769260</td>\n",
              "      <td>1.130284</td>\n",
              "    </tr>\n",
              "    <tr>\n",
              "      <th>5</th>\n",
              "      <td>promo</td>\n",
              "      <td>0.0</td>\n",
              "      <td>1.0</td>\n",
              "      <td>1.0</td>\n",
              "      <td>0.381006</td>\n",
              "      <td>NaN</td>\n",
              "      <td>0.485634</td>\n",
              "      <td>0.490058</td>\n",
              "      <td>-1.759848</td>\n",
              "    </tr>\n",
              "    <tr>\n",
              "      <th>6</th>\n",
              "      <td>school_holiday</td>\n",
              "      <td>0.0</td>\n",
              "      <td>1.0</td>\n",
              "      <td>1.0</td>\n",
              "      <td>0.185976</td>\n",
              "      <td>NaN</td>\n",
              "      <td>0.389087</td>\n",
              "      <td>1.614159</td>\n",
              "      <td>0.605510</td>\n",
              "    </tr>\n",
              "    <tr>\n",
              "      <th>7</th>\n",
              "      <td>competition_distance</td>\n",
              "      <td>20.0</td>\n",
              "      <td>200000.0</td>\n",
              "      <td>199980.0</td>\n",
              "      <td>5937.302980</td>\n",
              "      <td>2330.0</td>\n",
              "      <td>12514.458762</td>\n",
              "      <td>10.221906</td>\n",
              "      <td>147.753154</td>\n",
              "    </tr>\n",
              "    <tr>\n",
              "      <th>8</th>\n",
              "      <td>competition_open_since_month</td>\n",
              "      <td>1.0</td>\n",
              "      <td>12.0</td>\n",
              "      <td>11.0</td>\n",
              "      <td>6.963337</td>\n",
              "      <td>7.0</td>\n",
              "      <td>3.307885</td>\n",
              "      <td>-0.114911</td>\n",
              "      <td>-1.229530</td>\n",
              "    </tr>\n",
              "    <tr>\n",
              "      <th>9</th>\n",
              "      <td>competition_open_since_year</td>\n",
              "      <td>1900.0</td>\n",
              "      <td>2015.0</td>\n",
              "      <td>115.0</td>\n",
              "      <td>2010.408237</td>\n",
              "      <td>2012.0</td>\n",
              "      <td>5.517748</td>\n",
              "      <td>-6.902006</td>\n",
              "      <td>117.129054</td>\n",
              "    </tr>\n",
              "    <tr>\n",
              "      <th>10</th>\n",
              "      <td>promo2</td>\n",
              "      <td>0.0</td>\n",
              "      <td>1.0</td>\n",
              "      <td>1.0</td>\n",
              "      <td>0.497137</td>\n",
              "      <td>0.0</td>\n",
              "      <td>0.499992</td>\n",
              "      <td>0.011450</td>\n",
              "      <td>-1.999874</td>\n",
              "    </tr>\n",
              "    <tr>\n",
              "      <th>11</th>\n",
              "      <td>promo2_since_week</td>\n",
              "      <td>1.0</td>\n",
              "      <td>52.0</td>\n",
              "      <td>51.0</td>\n",
              "      <td>24.790162</td>\n",
              "      <td>23.0</td>\n",
              "      <td>14.617962</td>\n",
              "      <td>0.074546</td>\n",
              "      <td>-1.250156</td>\n",
              "    </tr>\n",
              "    <tr>\n",
              "      <th>12</th>\n",
              "      <td>promo2_since_year</td>\n",
              "      <td>2009.0</td>\n",
              "      <td>2015.0</td>\n",
              "      <td>6.0</td>\n",
              "      <td>2012.919825</td>\n",
              "      <td>2013.0</td>\n",
              "      <td>1.725069</td>\n",
              "      <td>-0.826505</td>\n",
              "      <td>-0.293069</td>\n",
              "    </tr>\n",
              "    <tr>\n",
              "      <th>13</th>\n",
              "      <td>is_promo</td>\n",
              "      <td>0.0</td>\n",
              "      <td>1.0</td>\n",
              "      <td>1.0</td>\n",
              "      <td>0.149850</td>\n",
              "      <td>0.0</td>\n",
              "      <td>0.356924</td>\n",
              "      <td>1.962044</td>\n",
              "      <td>1.849621</td>\n",
              "    </tr>\n",
              "  </tbody>\n",
              "</table>\n",
              "</div>"
            ],
            "text/plain": [
              "                      attributes     min  ...       skew    kurtosis\n",
              "0                          store     1.0  ...  -0.000729   -1.201040\n",
              "1                    day_of_week     1.0  ...   0.003268   -1.247821\n",
              "2                          sales     0.0  ...   0.631308    1.728005\n",
              "3                      customers     0.0  ...   1.598210    7.063196\n",
              "4                           open     0.0  ...  -1.769260    1.130284\n",
              "5                          promo     0.0  ...   0.490058   -1.759848\n",
              "6                 school_holiday     0.0  ...   1.614159    0.605510\n",
              "7           competition_distance    20.0  ...  10.221906  147.753154\n",
              "8   competition_open_since_month     1.0  ...  -0.114911   -1.229530\n",
              "9    competition_open_since_year  1900.0  ...  -6.902006  117.129054\n",
              "10                        promo2     0.0  ...   0.011450   -1.999874\n",
              "11             promo2_since_week     1.0  ...   0.074546   -1.250156\n",
              "12             promo2_since_year  2009.0  ...  -0.826505   -0.293069\n",
              "13                      is_promo     0.0  ...   1.962044    1.849621\n",
              "\n",
              "[14 rows x 9 columns]"
            ]
          },
          "metadata": {
            "tags": []
          },
          "execution_count": 27
        }
      ]
    },
    {
      "cell_type": "code",
      "metadata": {
        "id": "uH4z0hyP1wrA",
        "colab": {
          "base_uri": "https://localhost:8080/",
          "height": 0
        },
        "outputId": "8f414c1f-9b4a-4207-928e-6d31b4bfc685"
      },
      "source": [
        "sns.distplot( df1['sales'])"
      ],
      "execution_count": 28,
      "outputs": [
        {
          "output_type": "stream",
          "text": [
            "/usr/local/lib/python3.7/dist-packages/seaborn/distributions.py:2557: FutureWarning: `distplot` is a deprecated function and will be removed in a future version. Please adapt your code to use either `displot` (a figure-level function with similar flexibility) or `histplot` (an axes-level function for histograms).\n",
            "  warnings.warn(msg, FutureWarning)\n"
          ],
          "name": "stderr"
        },
        {
          "output_type": "execute_result",
          "data": {
            "text/plain": [
              "<matplotlib.axes._subplots.AxesSubplot at 0x7f02c9f9f6d0>"
            ]
          },
          "metadata": {
            "tags": []
          },
          "execution_count": 28
        },
        {
          "output_type": "display_data",
          "data": {
            "image/png": "[encoded data removed]",
            "text/plain": [
              "<Figure size 432x288 with 1 Axes>"
            ]
          },
          "metadata": {
            "tags": [],
            "needs_background": "light"
          }
        }
      ]
    },
    {
      "cell_type": "markdown",
      "metadata": {
        "id": "3kA806qD4Eeh"
      },
      "source": [
        "#### 1.7.2 Categorical Attributes"
      ]
    },
    {
      "cell_type": "code",
      "metadata": {
        "id": "5kbtmkpC4Ifi",
        "colab": {
          "base_uri": "https://localhost:8080/"
        },
        "outputId": "e53105d4-9b60-4e86-a683-0ce8a7602f69"
      },
      "source": [
        "cat_attributes.apply( lambda x: x.unique().shape[0] )"
      ],
      "execution_count": 29,
      "outputs": [
        {
          "output_type": "execute_result",
          "data": {
            "text/plain": [
              "state_holiday      5\n",
              "store_type         4\n",
              "assortment         3\n",
              "promo_interval     4\n",
              "month_map         12\n",
              "dtype: int64"
            ]
          },
          "metadata": {
            "tags": []
          },
          "execution_count": 29
        }
      ]
    },
    {
      "cell_type": "code",
      "metadata": {
        "id": "uXj8WP454Wq5",
        "colab": {
          "base_uri": "https://localhost:8080/",
          "height": 0
        },
        "outputId": "e7222772-e9ee-4bd4-d168-2105f4a4e316"
      },
      "source": [
        "aux1 = df1[(df1['state_holiday'] != '0') & (df1['sales'] > 0)]\r\n",
        "\r\n",
        "plt.subplot( 1, 3, 1)\r\n",
        "sns.boxplot( x = 'state_holiday', y = 'sales', data = aux1)\r\n",
        "\r\n",
        "plt.subplot( 1, 3, 2)\r\n",
        "sns.boxplot( x = 'store_type', y = 'sales', data = aux1)\r\n",
        "\r\n",
        "plt.subplot( 1, 3, 3)\r\n",
        "sns.boxplot( x = 'assortment', y = 'sales', data = aux1)"
      ],
      "execution_count": 30,
      "outputs": [
        {
          "output_type": "execute_result",
          "data": {
            "text/plain": [
              "<matplotlib.axes._subplots.AxesSubplot at 0x7f02c870bf10>"
            ]
          },
          "metadata": {
            "tags": []
          },
          "execution_count": 30
        },
        {
          "output_type": "display_data",
          "data": {
            "image/png": "[encoded data removed]",
            "text/plain": [
              "<Figure size 432x288 with 3 Axes>"
            ]
          },
          "metadata": {
            "tags": [],
            "needs_background": "light"
          }
        }
      ]
    },
    {
      "cell_type": "markdown",
      "metadata": {
        "id": "Zx2N3yDvYP2N"
      },
      "source": [
        "### 1.8"
      ]
    },
    {
      "cell_type": "markdown",
      "metadata": {
        "id": "Zce5gxvzcqcy"
      },
      "source": [
        "# 2.0 PASSO 02 - FEATURE ENGINEERING"
      ]
    },
    {
      "cell_type": "markdown",
      "metadata": {
        "id": "bNfc0aVyzHY-"
      },
      "source": [
        "## 2.1 Mapa Mental de Hipóteses"
      ]
    },
    {
      "cell_type": "code",
      "metadata": {
        "id": "NgRBAqZ8c0OY",
        "colab": {
          "base_uri": "https://localhost:8080/",
          "height": 884
        },
        "outputId": "a4bdfeb2-c6ef-4c64-aea6-ba8f9da007c0"
      },
      "source": [
        "Image('/content/MindMapHypotesis.png')"
      ],
      "execution_count": 31,
      "outputs": [
        {
          "output_type": "execute_result",
          "data": {
            "image/png": "[encoded data removed]",
            "text/plain": [
              "<IPython.core.display.Image object>"
            ]
          },
          "metadata": {
            "tags": []
          },
          "execution_count": 31
        }
      ]
    },
    {
      "cell_type": "markdown",
      "metadata": {
        "id": "1JEM-IjazNZj"
      },
      "source": [
        "## 2.1 Criação das Hipóteses"
      ]
    },
    {
      "cell_type": "markdown",
      "metadata": {
        "id": "oBFh4IAn3zh-"
      },
      "source": [
        "Este passo geralmente acontece na reunião de brainstorming, onde se trazem os times de negócio para a realização das perguntas. Por ex, perguntar quais variáveis eles acham que afetam as vendas."
      ]
    },
    {
      "cell_type": "markdown",
      "metadata": {
        "id": "8n9dj3r6zU1j"
      },
      "source": [
        "### 2.1.1 Hipóteses Loja"
      ]
    },
    {
      "cell_type": "markdown",
      "metadata": {
        "id": "r1Z2MIoVzl8v"
      },
      "source": [
        "**1.** Lojas com maior número de funcionários deveriam vender mais.\r\n",
        "\r\n",
        "**2.** Lojas com maior capacidade de estoque deveriam vender mais.\r\n",
        "\r\n",
        "**3.** Lojas de maior porte deveriam vender mais.\r\n",
        "\r\n",
        "**4.** Lojas com menor porte deveriam vender menos.\r\n",
        "\r\n",
        "**5.** Lojas com maior sortimento deveriam vender mais.\r\n",
        "\r\n",
        "**6.** Lojas com mais competidores deveriam vender menos.\r\n",
        "\r\n",
        "**7.** Lojas com competidores mais próximos deveriam vender menos.\r\n",
        "\r\n",
        "**8.** Lojas com competidores à mais tempo deveriam vender mais.\r\n",
        "\r\n",
        "etc"
      ]
    },
    {
      "cell_type": "markdown",
      "metadata": {
        "id": "blt4pdYjzX-b"
      },
      "source": [
        "### 2.1.2 Hipóteses Produto"
      ]
    },
    {
      "cell_type": "markdown",
      "metadata": {
        "id": "fgNoyPqn2bH1"
      },
      "source": [
        "**1.** Lojas que investem mais em marketing deveriam vender mais.\r\n",
        "\r\n",
        "**2.** Lojas com maior exposição de produtos nas vitrines deveriam vender mais.\r\n",
        "\r\n",
        "**3.** Lojas que tem preços menores nos produtos deveriam vender mais.\r\n",
        "\r\n",
        "**4.** Lojas que tem preços menores por mais tempo nos produtos deveriam vender mais.\r\n",
        "\r\n",
        "**5.** Lojas com promoções mais agressivas (descontos maiores) deveriam vender mais.\r\n",
        "\r\n",
        "**6.** Lojas com mais dias de promoção deveriam vender mais.\r\n",
        "\r\n",
        "**7.** Lojas com mais promoções consecutivas deveriam vender mais.\r\n",
        "\r\n",
        "**8.** Lojas com promoções ativas por mais tempo deveriam vender mais.\r\n",
        "\r\n",
        "etc"
      ]
    },
    {
      "cell_type": "markdown",
      "metadata": {
        "id": "nATqN3fpzZ1B"
      },
      "source": [
        "### 2.1.3 Hipóteses Tempo"
      ]
    },
    {
      "cell_type": "markdown",
      "metadata": {
        "id": "BRXkxNyG3Y6r"
      },
      "source": [
        "**1.** Lojas que entram em mais feriados deveriam vender menos.\r\n",
        "\r\n",
        "**2.** Lojas que abrem nos primeiros 6 meses deveriam vender mais.\r\n",
        "\r\n",
        "**3.** Lojas que abrem nos finais de semana deveriam vender mais.\r\n",
        "\r\n",
        "**4.** Lojas abertas durante o feriado de Natal deveriam vender mais.\r\n",
        "\r\n",
        "**5.** Lojas deveriam vender mais ao longo dos anos.\r\n",
        "\r\n",
        "**6.** Lojas deveriam vender mais no segundo semestre do ano.\r\n",
        "\r\n",
        "**7.** Lojas deveriam vender menos durante os feriados escolares.\r\n",
        "\r\n",
        "**8.** Lojas deveriam vender mais depois do dia 10 de cada mês.\r\n",
        "\r\n",
        "etc"
      ]
    },
    {
      "cell_type": "markdown",
      "metadata": {
        "id": "dJ446UEm6GSl"
      },
      "source": [
        "## 2.2 Lista Final de Hipóteses"
      ]
    },
    {
      "cell_type": "markdown",
      "metadata": {
        "id": "pZKd3rP27E2b"
      },
      "source": [
        "Nesta etapa, é visto quais dados temos nos datasets (por ex, não temos o número de funcionários para trabalhar no momento) e então, selecionadas as hipóteses que trabalharemos."
      ]
    },
    {
      "cell_type": "markdown",
      "metadata": {
        "id": "m6MmdLRm7WXE"
      },
      "source": [
        "**1.** Lojas com maior sortimento deveriam vender mais.\r\n",
        "\r\n",
        "**2.** Lojas com competidores mais próximos deveriam vender menos.\r\n",
        "\r\n",
        "**3.** Lojas com competidores à mais tempo deveriam vender mais.\r\n",
        "\r\n",
        "**4.** Lojas com promoções ativas por mais tempo deveriam vender mais.\r\n",
        "\r\n",
        "**5.** Lojas com mais dias de promoção deveriam vender mais.\r\n",
        "\r\n",
        "**6.** Lojas com mais promoções consecutivas deveriam vender mais.\r\n",
        "\r\n",
        "**7.** Lojas abertas durante o feriado de Natal deveriam vender mais.\r\n",
        "\r\n",
        "**8.** Lojas deveriam vender mais ao longo dos anos.\r\n",
        "\r\n",
        "**9.** Lojas deveriam vender mais no segundo semestre do ano.\r\n",
        "\r\n",
        "**10.** Lojas deveriam vender menos durante os feriados escolares.\r\n",
        "\r\n",
        "**11.** Lojas deveriam vender mais depois do dia 10 de cada mês.\r\n",
        "\r\n",
        "**12.** Lojas deveriam vender menos durante os feriados escolares."
      ]
    }
  ]
}